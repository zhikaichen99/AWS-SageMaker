{
 "cells": [
  {
   "cell_type": "markdown",
   "id": "1811bc59",
   "metadata": {},
   "source": [
    "# Bias Detection with SageMaker Clarify"
   ]
  },
  {
   "cell_type": "code",
   "execution_count": 1,
   "id": "e98dd14e",
   "metadata": {},
   "outputs": [
    {
     "name": "stderr",
     "output_type": "stream",
     "text": [
      "Matplotlib is building the font cache; this may take a moment.\n"
     ]
    }
   ],
   "source": [
    "import boto3\n",
    "import sagemaker\n",
    "import botocore.config\n",
    "import pandas as pd\n",
    "import numpy as np\n",
    "import matplotlib.pyplot as plt\n",
    "import seaborn as sns\n",
    "\n",
    "from pyathena import connect"
   ]
  },
  {
   "cell_type": "code",
   "execution_count": 2,
   "id": "2dede813",
   "metadata": {},
   "outputs": [],
   "source": [
    "sagemaker_session = sagemaker.Session()\n",
    "bucket = sagemaker_session.default_bucket()\n",
    "role = sagemaker.get_execution_role()\n",
    "region = boto3.Session().region_name"
   ]
  },
  {
   "cell_type": "code",
   "execution_count": 3,
   "id": "b055abad",
   "metadata": {},
   "outputs": [
    {
     "name": "stdout",
     "output_type": "stream",
     "text": [
      "sagemaker-us-east-2-003294323742\n",
      "arn:aws:iam::003294323742:role/service-role/AmazonSageMaker-ExecutionRole-20221228T123920\n",
      "us-east-2\n"
     ]
    }
   ],
   "source": [
    "print(bucket)\n",
    "print(role)\n",
    "print(region)"
   ]
  },
  {
   "cell_type": "code",
   "execution_count": 4,
   "id": "25f7b362",
   "metadata": {},
   "outputs": [],
   "source": [
    "database_name = 'dsaws'\n",
    "table_name = 'amazon_reviews_parquet'"
   ]
  },
  {
   "cell_type": "code",
   "execution_count": 5,
   "id": "c491ea23",
   "metadata": {},
   "outputs": [],
   "source": [
    "# Set Athena query results s3 bucket\n",
    "s3_staging_dir = 's3://{}/athena/staging'.format(bucket)\n",
    "\n",
    "# Set up PyAthena connection\n",
    "conn = connect(region_name = region, s3_staging_dir = s3_staging_dir)"
   ]
  },
  {
   "cell_type": "markdown",
   "id": "4f4a413b",
   "metadata": {},
   "source": [
    "We will be take a sample of the Amazon Customer Reviews Dataset to conduct a Bias Report. Create pandas dataframe from each of the product categories"
   ]
  },
  {
   "cell_type": "code",
   "execution_count": 6,
   "id": "dd6cf7b6",
   "metadata": {},
   "outputs": [],
   "source": [
    "# Gift Cards\n",
    "gift_cards_query = \"\"\"\n",
    "SELECT * \n",
    "FROM {}.{}\n",
    "WHERE product_category = 'Gift Card'\n",
    "\"\"\".format(database_name, table_name)\n",
    "\n",
    "gift_cards_df = pd.read_sql(gift_cards_query, conn)"
   ]
  },
  {
   "cell_type": "code",
   "execution_count": 7,
   "id": "00347c22",
   "metadata": {},
   "outputs": [],
   "source": [
    "# Software\n",
    "software_query = \"\"\"\n",
    "SELECT *\n",
    "FROM {}.{}\n",
    "WHERE product_category = 'Software'\n",
    "\"\"\".format(database_name, table_name)\n",
    "\n",
    "software_df = pd.read_sql(software_query, conn)"
   ]
  },
  {
   "cell_type": "code",
   "execution_count": 8,
   "id": "42c99f46",
   "metadata": {},
   "outputs": [],
   "source": [
    "# Video games\n",
    "video_games_query = \"\"\"\n",
    "SELECT *\n",
    "FROM {}.{}\n",
    "WHERE product_category = 'Digital_Video_Games'\n",
    "\"\"\".format(database_name, table_name)\n",
    "\n",
    "video_games_df = pd.read_sql(video_games_query, conn)"
   ]
  },
  {
   "cell_type": "code",
   "execution_count": 9,
   "id": "29dc051a",
   "metadata": {},
   "outputs": [
    {
     "data": {
      "text/html": [
       "<div>\n",
       "<style scoped>\n",
       "    .dataframe tbody tr th:only-of-type {\n",
       "        vertical-align: middle;\n",
       "    }\n",
       "\n",
       "    .dataframe tbody tr th {\n",
       "        vertical-align: top;\n",
       "    }\n",
       "\n",
       "    .dataframe thead th {\n",
       "        text-align: right;\n",
       "    }\n",
       "</style>\n",
       "<table border=\"1\" class=\"dataframe\">\n",
       "  <thead>\n",
       "    <tr style=\"text-align: right;\">\n",
       "      <th></th>\n",
       "      <th>marketplace</th>\n",
       "      <th>customer_id</th>\n",
       "      <th>review_id</th>\n",
       "      <th>product_id</th>\n",
       "      <th>product_parent</th>\n",
       "      <th>product_title</th>\n",
       "      <th>star_rating</th>\n",
       "      <th>helpful_votes</th>\n",
       "      <th>total_votes</th>\n",
       "      <th>vine</th>\n",
       "      <th>verified_purchase</th>\n",
       "      <th>review_headline</th>\n",
       "      <th>review_body</th>\n",
       "      <th>year</th>\n",
       "      <th>review_date</th>\n",
       "      <th>product_category</th>\n",
       "    </tr>\n",
       "  </thead>\n",
       "  <tbody>\n",
       "    <tr>\n",
       "      <th>0</th>\n",
       "      <td>US</td>\n",
       "      <td>3901355</td>\n",
       "      <td>R2B7DTON5L1DRV</td>\n",
       "      <td>B00AF0K82U</td>\n",
       "      <td>938949631</td>\n",
       "      <td>Amazon.com Gift Card - Upload Your Photo (Prin...</td>\n",
       "      <td>3</td>\n",
       "      <td>0</td>\n",
       "      <td>0</td>\n",
       "      <td>N</td>\n",
       "      <td>Y</td>\n",
       "      <td>It was OK</td>\n",
       "      <td>I would have expected a more elaborate card fr...</td>\n",
       "      <td>2014</td>\n",
       "      <td>2014-01-25</td>\n",
       "      <td>Gift Card</td>\n",
       "    </tr>\n",
       "    <tr>\n",
       "      <th>1</th>\n",
       "      <td>US</td>\n",
       "      <td>42940281</td>\n",
       "      <td>R38K00QVAY8SUT</td>\n",
       "      <td>B007RZ6DSO</td>\n",
       "      <td>473048287</td>\n",
       "      <td>Amazon.com eGift Cards</td>\n",
       "      <td>5</td>\n",
       "      <td>0</td>\n",
       "      <td>0</td>\n",
       "      <td>N</td>\n",
       "      <td>Y</td>\n",
       "      <td>I like it</td>\n",
       "      <td>I like the idea of having the personal photo w...</td>\n",
       "      <td>2014</td>\n",
       "      <td>2014-01-25</td>\n",
       "      <td>Gift Card</td>\n",
       "    </tr>\n",
       "    <tr>\n",
       "      <th>2</th>\n",
       "      <td>US</td>\n",
       "      <td>38578185</td>\n",
       "      <td>R3EX4L235BJ4AY</td>\n",
       "      <td>B00G4IWEZG</td>\n",
       "      <td>291625889</td>\n",
       "      <td>Amazon Gift Card - Print - Merry Christmas (Pine)</td>\n",
       "      <td>5</td>\n",
       "      <td>0</td>\n",
       "      <td>0</td>\n",
       "      <td>N</td>\n",
       "      <td>N</td>\n",
       "      <td>Great resource</td>\n",
       "      <td>Enjoyed the ease of purchase, gift card  &amp; dow...</td>\n",
       "      <td>2014</td>\n",
       "      <td>2014-01-25</td>\n",
       "      <td>Gift Card</td>\n",
       "    </tr>\n",
       "    <tr>\n",
       "      <th>3</th>\n",
       "      <td>US</td>\n",
       "      <td>39499599</td>\n",
       "      <td>R1X9E7I188K34C</td>\n",
       "      <td>B00G4IV2VI</td>\n",
       "      <td>538766567</td>\n",
       "      <td>Amazon eGift Card - Merry Christmas (Pine)</td>\n",
       "      <td>5</td>\n",
       "      <td>0</td>\n",
       "      <td>0</td>\n",
       "      <td>N</td>\n",
       "      <td>Y</td>\n",
       "      <td>it's a lifesaver</td>\n",
       "      <td>It worked really well and fast. It saved me be...</td>\n",
       "      <td>2014</td>\n",
       "      <td>2014-01-25</td>\n",
       "      <td>Gift Card</td>\n",
       "    </tr>\n",
       "    <tr>\n",
       "      <th>4</th>\n",
       "      <td>US</td>\n",
       "      <td>52948476</td>\n",
       "      <td>R1WXK8RMFOGQLF</td>\n",
       "      <td>B00CRQ4CF4</td>\n",
       "      <td>408939516</td>\n",
       "      <td>Amazon eGift Card - #1 Dad</td>\n",
       "      <td>5</td>\n",
       "      <td>0</td>\n",
       "      <td>0</td>\n",
       "      <td>N</td>\n",
       "      <td>Y</td>\n",
       "      <td>Good choice</td>\n",
       "      <td>Gift cards are always a good choice, especiall...</td>\n",
       "      <td>2014</td>\n",
       "      <td>2014-01-25</td>\n",
       "      <td>Gift Card</td>\n",
       "    </tr>\n",
       "  </tbody>\n",
       "</table>\n",
       "</div>"
      ],
      "text/plain": [
       "  marketplace customer_id       review_id  product_id product_parent  \\\n",
       "0          US     3901355  R2B7DTON5L1DRV  B00AF0K82U      938949631   \n",
       "1          US    42940281  R38K00QVAY8SUT  B007RZ6DSO      473048287   \n",
       "2          US    38578185  R3EX4L235BJ4AY  B00G4IWEZG      291625889   \n",
       "3          US    39499599  R1X9E7I188K34C  B00G4IV2VI      538766567   \n",
       "4          US    52948476  R1WXK8RMFOGQLF  B00CRQ4CF4      408939516   \n",
       "\n",
       "                                       product_title  star_rating  \\\n",
       "0  Amazon.com Gift Card - Upload Your Photo (Prin...            3   \n",
       "1                             Amazon.com eGift Cards            5   \n",
       "2  Amazon Gift Card - Print - Merry Christmas (Pine)            5   \n",
       "3         Amazon eGift Card - Merry Christmas (Pine)            5   \n",
       "4                         Amazon eGift Card - #1 Dad            5   \n",
       "\n",
       "   helpful_votes  total_votes vine verified_purchase   review_headline  \\\n",
       "0              0            0    N                 Y         It was OK   \n",
       "1              0            0    N                 Y         I like it   \n",
       "2              0            0    N                 N    Great resource   \n",
       "3              0            0    N                 Y  it's a lifesaver   \n",
       "4              0            0    N                 Y       Good choice   \n",
       "\n",
       "                                         review_body  year review_date  \\\n",
       "0  I would have expected a more elaborate card fr...  2014  2014-01-25   \n",
       "1  I like the idea of having the personal photo w...  2014  2014-01-25   \n",
       "2  Enjoyed the ease of purchase, gift card  & dow...  2014  2014-01-25   \n",
       "3  It worked really well and fast. It saved me be...  2014  2014-01-25   \n",
       "4  Gift cards are always a good choice, especiall...  2014  2014-01-25   \n",
       "\n",
       "  product_category  \n",
       "0        Gift Card  \n",
       "1        Gift Card  \n",
       "2        Gift Card  \n",
       "3        Gift Card  \n",
       "4        Gift Card  "
      ]
     },
     "execution_count": 9,
     "metadata": {},
     "output_type": "execute_result"
    }
   ],
   "source": [
    "df = pd.concat([gift_cards_df, software_df, video_games_df], ignore_index = True, sort = False)\n",
    "df.head()"
   ]
  },
  {
   "cell_type": "code",
   "execution_count": 10,
   "id": "556e76d4",
   "metadata": {},
   "outputs": [
    {
     "data": {
      "text/plain": [
       "<AxesSubplot:xlabel='star_rating', ylabel='count'>"
      ]
     },
     "execution_count": 10,
     "metadata": {},
     "output_type": "execute_result"
    },
    {
     "data": {
      "image/png": "[encoded data removed]",
      "text/plain": [
       "<Figure size 1008x504 with 1 Axes>"
      ]
     },
     "metadata": {
      "needs_background": "light"
     },
     "output_type": "display_data"
    }
   ],
   "source": [
    "fig = plt.figure(figsize = (14,7))\n",
    "sns.countplot(data = df, x = 'star_rating', hue = 'product_category')"
   ]
  },
  {
   "cell_type": "markdown",
   "id": "d9a39abd",
   "metadata": {},
   "source": [
    "# Upload Sample Data to S3"
   ]
  },
  {
   "cell_type": "code",
   "execution_count": 46,
   "id": "95c2473a",
   "metadata": {},
   "outputs": [
    {
     "name": "stdout",
     "output_type": "stream",
     "text": [
      "s3://sagemaker-us-east-2-003294323742/bias/sample/amazon_reviews_sample.csv\n"
     ]
    }
   ],
   "source": [
    "data_path = 'data/amazon_reviews_sample.csv'\n",
    "df.to_csv(data_path, index = False, header = True)\n",
    "\n",
    "data_s3_uri = sagemaker_session.upload_data(bucket = bucket, key_prefix = \"bias/sample\", path = data_path)\n",
    "print(data_s3_uri)"
   ]
  },
  {
   "cell_type": "markdown",
   "id": "c6439f94",
   "metadata": {},
   "source": [
    "# Detect Bias with SageMaker Clarify"
   ]
  },
  {
   "cell_type": "code",
   "execution_count": 12,
   "id": "c2ba498b",
   "metadata": {},
   "outputs": [],
   "source": [
    "from sagemaker import clarify\n",
    "\n",
    "bias_report_output_path = 's3://{}/bias/bias_report_sample'.format(bucket)"
   ]
  },
  {
   "cell_type": "code",
   "execution_count": 13,
   "id": "f6f0fbe5",
   "metadata": {},
   "outputs": [],
   "source": [
    "# Clarify configuration\n",
    "\n",
    "data_config = clarify.DataConfig(\n",
    "    s3_data_input_path = data_s3_uri,\n",
    "    s3_output_path= bias_report_output_path,\n",
    "    label = 'star_rating',\n",
    "    headers = df.columns.to_list(),\n",
    "    dataset_type = 'text/csv'\n",
    ")"
   ]
  },
  {
   "cell_type": "markdown",
   "id": "6c7bda01",
   "metadata": {},
   "source": [
    "## Setup Clarify Configuration for Bias Metrics"
   ]
  },
  {
   "cell_type": "code",
   "execution_count": 14,
   "id": "ffe7f66f",
   "metadata": {},
   "outputs": [],
   "source": [
    "# Sensitive columns (facets) which is the product_category. Desirable outcomes (label_values_or_thresholds) which are the positive outcomes star rating 5 and 4\n",
    "\n",
    "data_bias_config = clarify.BiasConfig(\n",
    "    label_values_or_threshold = [5,4],\n",
    "    facet_name = 'product_category'\n",
    ")"
   ]
  },
  {
   "cell_type": "markdown",
   "id": "78d1017a",
   "metadata": {},
   "source": [
    "## Setup SageMaker Processing Job"
   ]
  },
  {
   "cell_type": "code",
   "execution_count": 15,
   "id": "0b25e52b",
   "metadata": {},
   "outputs": [],
   "source": [
    "clarify_processor = clarify.SageMakerClarifyProcessor(\n",
    "    role = role,\n",
    "    instance_count = 1, # if we have a lot of data we can add more instances to process data in parallel with 5 instances for example.\n",
    "    instance_type = 'ml.m5.xlarge',\n",
    "    sagemaker_session = sagemaker_session\n",
    ")"
   ]
  },
  {
   "cell_type": "markdown",
   "id": "803c97d9",
   "metadata": {},
   "source": [
    "## Run Processing Job"
   ]
  },
  {
   "cell_type": "code",
   "execution_count": 16,
   "id": "14f457f2",
   "metadata": {},
   "outputs": [
    {
     "name": "stderr",
     "output_type": "stream",
     "text": [
      "INFO:sagemaker:Creating processing-job with name Clarify-Pretraining-Bias-2022-12-31-19-15-40-555\n"
     ]
    },
    {
     "name": "stdout",
     "output_type": "stream",
     "text": [
      "\n",
      "Job Name:  Clarify-Pretraining-Bias-2022-12-31-19-15-40-555\n",
      "Inputs:  [{'InputName': 'dataset', 'AppManaged': False, 'S3Input': {'S3Uri': 's3://sagemaker-us-east-2-003294323742/bias/sample/amazon_reviews_sample.csv', 'LocalPath': '/opt/ml/processing/input/data', 'S3DataType': 'S3Prefix', 'S3InputMode': 'File', 'S3DataDistributionType': 'FullyReplicated', 'S3CompressionType': 'None'}}, {'InputName': 'analysis_config', 'AppManaged': False, 'S3Input': {'S3Uri': 's3://sagemaker-us-east-2-003294323742/bias/bias_report_sample/analysis_config.json', 'LocalPath': '/opt/ml/processing/input/config', 'S3DataType': 'S3Prefix', 'S3InputMode': 'File', 'S3DataDistributionType': 'FullyReplicated', 'S3CompressionType': 'None'}}]\n",
      "Outputs:  [{'OutputName': 'analysis_result', 'AppManaged': False, 'S3Output': {'S3Uri': 's3://sagemaker-us-east-2-003294323742/bias/bias_report_sample', 'LocalPath': '/opt/ml/processing/output', 'S3UploadMode': 'EndOfJob'}}]\n"
     ]
    }
   ],
   "source": [
    "clarify_processor.run_pre_training_bias(\n",
    "    data_config = data_config,\n",
    "    data_bias_config = data_bias_config,\n",
    "    methods = 'all',\n",
    "    wait = False,\n",
    "    logs = False\n",
    ")"
   ]
  },
  {
   "cell_type": "code",
   "execution_count": 17,
   "id": "8f8126fe",
   "metadata": {},
   "outputs": [
    {
     "name": "stdout",
     "output_type": "stream",
     "text": [
      "Clarify-Pretraining-Bias-2022-12-31-19-15-40-555\n"
     ]
    }
   ],
   "source": [
    "bias_processing_job_name = clarify_processor.latest_job.job_name\n",
    "print(bias_processing_job_name)"
   ]
  },
  {
   "cell_type": "markdown",
   "id": "948fa2cc",
   "metadata": {},
   "source": [
    "We can check our S3 Bucket for the Generated Bias Reports"
   ]
  },
  {
   "cell_type": "markdown",
   "id": "54085fcf",
   "metadata": {},
   "source": [
    "# Detecting Bias with SageMaker Clarify Open Source\n",
    "\n",
    "Alternatively, we can use the smclarify Python library to detect biase and class imbalance from a Python Script using a CSV file."
   ]
  },
  {
   "cell_type": "code",
   "execution_count": 47,
   "id": "295bd735",
   "metadata": {},
   "outputs": [],
   "source": [
    "#!pip install smclarify"
   ]
  },
  {
   "cell_type": "code",
   "execution_count": 19,
   "id": "ff68ef03",
   "metadata": {},
   "outputs": [],
   "source": [
    "from smclarify.bias import report"
   ]
  },
  {
   "cell_type": "code",
   "execution_count": 22,
   "id": "0f92448f",
   "metadata": {},
   "outputs": [
    {
     "name": "stderr",
     "output_type": "stream",
     "text": [
      "INFO:smclarify.bias.metrics.common:data uniqueness fraction: 7.85610136256222e-06\n",
      "INFO:smclarify.bias.metrics.common:data uniqueness fraction: 4.713660817537332e-06\n"
     ]
    }
   ],
   "source": [
    "facet_column = report.FacetColumn(name = 'product_category')\n",
    "\n",
    "label_column = report.LabelColumn(\n",
    "    name = 'star_rating',\n",
    "    data = df['star_rating'],\n",
    "    positive_label_values = [5,4]\n",
    ")\n",
    "\n",
    "group_variable = df['product_category']\n",
    "\n",
    "results = report.bias_report(\n",
    "    df,\n",
    "    facet_column,\n",
    "    label_column,\n",
    "    stage_type = report.StageType.PRE_TRAINING,\n",
    "    group_variable = group_variable\n",
    ")"
   ]
  },
  {
   "cell_type": "code",
   "execution_count": 23,
   "id": "32ca749d",
   "metadata": {},
   "outputs": [
    {
     "data": {
      "text/plain": [
       "[{'value_or_threshold': 'Gift Card',\n",
       "  'metrics': [{'name': 'CDDL',\n",
       "    'description': 'Conditional Demographic Disparity in Labels (CDDL)',\n",
       "    'value': 0.0},\n",
       "   {'name': 'CI',\n",
       "    'description': 'Class Imbalance (CI)',\n",
       "    'value': 0.5315061089044195},\n",
       "   {'name': 'DPL',\n",
       "    'description': 'Difference in Positive Proportions in Labels (DPL)',\n",
       "    'value': -0.29253135565529187},\n",
       "   {'name': 'JS',\n",
       "    'description': 'Jensen-Shannon Divergence (JS)',\n",
       "    'value': 0.06974241015529553},\n",
       "   {'name': 'KL',\n",
       "    'description': 'Kullback-Liebler Divergence (KL)',\n",
       "    'value': 0.3716624575519059},\n",
       "   {'name': 'KS',\n",
       "    'description': 'Kolmogorov-Smirnov Distance (KS)',\n",
       "    'value': 0.2925313556552919},\n",
       "   {'name': 'LP', 'description': 'L-p Norm (LP)', 'value': 0.4137018105871012},\n",
       "   {'name': 'TVD',\n",
       "    'description': 'Total Variation Distance (TVD)',\n",
       "    'value': 0.29253135565529187}]},\n",
       " {'value_or_threshold': 'Software',\n",
       "  'metrics': [{'name': 'CDDL',\n",
       "    'description': 'Conditional Demographic Disparity in Labels (CDDL)',\n",
       "    'value': 0.0},\n",
       "   {'name': 'CI',\n",
       "    'description': 'Class Imbalance (CI)',\n",
       "    'value': -0.07449783800090502},\n",
       "   {'name': 'DPL',\n",
       "    'description': 'Difference in Positive Proportions in Labels (DPL)',\n",
       "    'value': 0.1953527642552395},\n",
       "   {'name': 'JS',\n",
       "    'description': 'Jensen-Shannon Divergence (JS)',\n",
       "    'value': 0.024014676549718984},\n",
       "   {'name': 'KL',\n",
       "    'description': 'Kullback-Liebler Divergence (KL)',\n",
       "    'value': 0.09035577598519029},\n",
       "   {'name': 'KS',\n",
       "    'description': 'Kolmogorov-Smirnov Distance (KS)',\n",
       "    'value': 0.1953527642552395},\n",
       "   {'name': 'LP', 'description': 'L-p Norm (LP)', 'value': 0.2762705286568336},\n",
       "   {'name': 'TVD',\n",
       "    'description': 'Total Variation Distance (TVD)',\n",
       "    'value': 0.19535276425523945}]},\n",
       " {'value_or_threshold': 'Digital_Video_Games',\n",
       "  'metrics': [{'name': 'CDDL',\n",
       "    'description': 'Conditional Demographic Disparity in Labels (CDDL)',\n",
       "    'value': 0.0},\n",
       "   {'name': 'CI',\n",
       "    'description': 'Class Imbalance (CI)',\n",
       "    'value': 0.5429917290964855},\n",
       "   {'name': 'DPL',\n",
       "    'description': 'Difference in Positive Proportions in Labels (DPL)',\n",
       "    'value': 0.022155319431871434},\n",
       "   {'name': 'JS',\n",
       "    'description': 'Jensen-Shannon Divergence (JS)',\n",
       "    'value': 0.0002957392942236634},\n",
       "   {'name': 'KL',\n",
       "    'description': 'Kullback-Liebler Divergence (KL)',\n",
       "    'value': 0.00117448383887701},\n",
       "   {'name': 'KS',\n",
       "    'description': 'Kolmogorov-Smirnov Distance (KS)',\n",
       "    'value': 0.022155319431871434},\n",
       "   {'name': 'LP',\n",
       "    'description': 'L-p Norm (LP)',\n",
       "    'value': 0.031332353219260714},\n",
       "   {'name': 'TVD',\n",
       "    'description': 'Total Variation Distance (TVD)',\n",
       "    'value': 0.022155319431871406}]}]"
      ]
     },
     "execution_count": 23,
     "metadata": {},
     "output_type": "execute_result"
    }
   ],
   "source": [
    "results"
   ]
  },
  {
   "cell_type": "code",
   "execution_count": 38,
   "id": "6cfe919d",
   "metadata": {},
   "outputs": [],
   "source": [
    "gift_card_results = pd.DataFrame(results[0]['metrics'])\n",
    "software_results = pd.DataFrame(results[1]['metrics'])\n",
    "video_games_results = pd.DataFrame(results[2]['metrics'])"
   ]
  },
  {
   "cell_type": "code",
   "execution_count": 39,
   "id": "5d0596a6",
   "metadata": {},
   "outputs": [
    {
     "data": {
      "text/html": [
       "<div>\n",
       "<style scoped>\n",
       "    .dataframe tbody tr th:only-of-type {\n",
       "        vertical-align: middle;\n",
       "    }\n",
       "\n",
       "    .dataframe tbody tr th {\n",
       "        vertical-align: top;\n",
       "    }\n",
       "\n",
       "    .dataframe thead th {\n",
       "        text-align: right;\n",
       "    }\n",
       "</style>\n",
       "<table border=\"1\" class=\"dataframe\">\n",
       "  <thead>\n",
       "    <tr style=\"text-align: right;\">\n",
       "      <th></th>\n",
       "      <th>name</th>\n",
       "      <th>description</th>\n",
       "      <th>value</th>\n",
       "    </tr>\n",
       "  </thead>\n",
       "  <tbody>\n",
       "    <tr>\n",
       "      <th>0</th>\n",
       "      <td>CDDL</td>\n",
       "      <td>Conditional Demographic Disparity in Labels (C...</td>\n",
       "      <td>0.000000</td>\n",
       "    </tr>\n",
       "    <tr>\n",
       "      <th>1</th>\n",
       "      <td>CI</td>\n",
       "      <td>Class Imbalance (CI)</td>\n",
       "      <td>0.531506</td>\n",
       "    </tr>\n",
       "    <tr>\n",
       "      <th>2</th>\n",
       "      <td>DPL</td>\n",
       "      <td>Difference in Positive Proportions in Labels (...</td>\n",
       "      <td>-0.292531</td>\n",
       "    </tr>\n",
       "    <tr>\n",
       "      <th>3</th>\n",
       "      <td>JS</td>\n",
       "      <td>Jensen-Shannon Divergence (JS)</td>\n",
       "      <td>0.069742</td>\n",
       "    </tr>\n",
       "    <tr>\n",
       "      <th>4</th>\n",
       "      <td>KL</td>\n",
       "      <td>Kullback-Liebler Divergence (KL)</td>\n",
       "      <td>0.371662</td>\n",
       "    </tr>\n",
       "    <tr>\n",
       "      <th>5</th>\n",
       "      <td>KS</td>\n",
       "      <td>Kolmogorov-Smirnov Distance (KS)</td>\n",
       "      <td>0.292531</td>\n",
       "    </tr>\n",
       "    <tr>\n",
       "      <th>6</th>\n",
       "      <td>LP</td>\n",
       "      <td>L-p Norm (LP)</td>\n",
       "      <td>0.413702</td>\n",
       "    </tr>\n",
       "    <tr>\n",
       "      <th>7</th>\n",
       "      <td>TVD</td>\n",
       "      <td>Total Variation Distance (TVD)</td>\n",
       "      <td>0.292531</td>\n",
       "    </tr>\n",
       "  </tbody>\n",
       "</table>\n",
       "</div>"
      ],
      "text/plain": [
       "   name                                        description     value\n",
       "0  CDDL  Conditional Demographic Disparity in Labels (C...  0.000000\n",
       "1    CI                               Class Imbalance (CI)  0.531506\n",
       "2   DPL  Difference in Positive Proportions in Labels (... -0.292531\n",
       "3    JS                     Jensen-Shannon Divergence (JS)  0.069742\n",
       "4    KL                   Kullback-Liebler Divergence (KL)  0.371662\n",
       "5    KS                   Kolmogorov-Smirnov Distance (KS)  0.292531\n",
       "6    LP                                      L-p Norm (LP)  0.413702\n",
       "7   TVD                     Total Variation Distance (TVD)  0.292531"
      ]
     },
     "execution_count": 39,
     "metadata": {},
     "output_type": "execute_result"
    }
   ],
   "source": [
    "gift_card_results"
   ]
  },
  {
   "cell_type": "code",
   "execution_count": 40,
   "id": "6e097ac5",
   "metadata": {},
   "outputs": [
    {
     "data": {
      "text/html": [
       "<div>\n",
       "<style scoped>\n",
       "    .dataframe tbody tr th:only-of-type {\n",
       "        vertical-align: middle;\n",
       "    }\n",
       "\n",
       "    .dataframe tbody tr th {\n",
       "        vertical-align: top;\n",
       "    }\n",
       "\n",
       "    .dataframe thead th {\n",
       "        text-align: right;\n",
       "    }\n",
       "</style>\n",
       "<table border=\"1\" class=\"dataframe\">\n",
       "  <thead>\n",
       "    <tr style=\"text-align: right;\">\n",
       "      <th></th>\n",
       "      <th>name</th>\n",
       "      <th>description</th>\n",
       "      <th>value</th>\n",
       "    </tr>\n",
       "  </thead>\n",
       "  <tbody>\n",
       "    <tr>\n",
       "      <th>0</th>\n",
       "      <td>CDDL</td>\n",
       "      <td>Conditional Demographic Disparity in Labels (C...</td>\n",
       "      <td>0.000000</td>\n",
       "    </tr>\n",
       "    <tr>\n",
       "      <th>1</th>\n",
       "      <td>CI</td>\n",
       "      <td>Class Imbalance (CI)</td>\n",
       "      <td>-0.074498</td>\n",
       "    </tr>\n",
       "    <tr>\n",
       "      <th>2</th>\n",
       "      <td>DPL</td>\n",
       "      <td>Difference in Positive Proportions in Labels (...</td>\n",
       "      <td>0.195353</td>\n",
       "    </tr>\n",
       "    <tr>\n",
       "      <th>3</th>\n",
       "      <td>JS</td>\n",
       "      <td>Jensen-Shannon Divergence (JS)</td>\n",
       "      <td>0.024015</td>\n",
       "    </tr>\n",
       "    <tr>\n",
       "      <th>4</th>\n",
       "      <td>KL</td>\n",
       "      <td>Kullback-Liebler Divergence (KL)</td>\n",
       "      <td>0.090356</td>\n",
       "    </tr>\n",
       "    <tr>\n",
       "      <th>5</th>\n",
       "      <td>KS</td>\n",
       "      <td>Kolmogorov-Smirnov Distance (KS)</td>\n",
       "      <td>0.195353</td>\n",
       "    </tr>\n",
       "    <tr>\n",
       "      <th>6</th>\n",
       "      <td>LP</td>\n",
       "      <td>L-p Norm (LP)</td>\n",
       "      <td>0.276271</td>\n",
       "    </tr>\n",
       "    <tr>\n",
       "      <th>7</th>\n",
       "      <td>TVD</td>\n",
       "      <td>Total Variation Distance (TVD)</td>\n",
       "      <td>0.195353</td>\n",
       "    </tr>\n",
       "  </tbody>\n",
       "</table>\n",
       "</div>"
      ],
      "text/plain": [
       "   name                                        description     value\n",
       "0  CDDL  Conditional Demographic Disparity in Labels (C...  0.000000\n",
       "1    CI                               Class Imbalance (CI) -0.074498\n",
       "2   DPL  Difference in Positive Proportions in Labels (...  0.195353\n",
       "3    JS                     Jensen-Shannon Divergence (JS)  0.024015\n",
       "4    KL                   Kullback-Liebler Divergence (KL)  0.090356\n",
       "5    KS                   Kolmogorov-Smirnov Distance (KS)  0.195353\n",
       "6    LP                                      L-p Norm (LP)  0.276271\n",
       "7   TVD                     Total Variation Distance (TVD)  0.195353"
      ]
     },
     "execution_count": 40,
     "metadata": {},
     "output_type": "execute_result"
    }
   ],
   "source": [
    "software_results"
   ]
  },
  {
   "cell_type": "code",
   "execution_count": 41,
   "id": "3ea1d318",
   "metadata": {},
   "outputs": [
    {
     "data": {
      "text/html": [
       "<div>\n",
       "<style scoped>\n",
       "    .dataframe tbody tr th:only-of-type {\n",
       "        vertical-align: middle;\n",
       "    }\n",
       "\n",
       "    .dataframe tbody tr th {\n",
       "        vertical-align: top;\n",
       "    }\n",
       "\n",
       "    .dataframe thead th {\n",
       "        text-align: right;\n",
       "    }\n",
       "</style>\n",
       "<table border=\"1\" class=\"dataframe\">\n",
       "  <thead>\n",
       "    <tr style=\"text-align: right;\">\n",
       "      <th></th>\n",
       "      <th>name</th>\n",
       "      <th>description</th>\n",
       "      <th>value</th>\n",
       "    </tr>\n",
       "  </thead>\n",
       "  <tbody>\n",
       "    <tr>\n",
       "      <th>0</th>\n",
       "      <td>CDDL</td>\n",
       "      <td>Conditional Demographic Disparity in Labels (C...</td>\n",
       "      <td>0.000000</td>\n",
       "    </tr>\n",
       "    <tr>\n",
       "      <th>1</th>\n",
       "      <td>CI</td>\n",
       "      <td>Class Imbalance (CI)</td>\n",
       "      <td>0.542992</td>\n",
       "    </tr>\n",
       "    <tr>\n",
       "      <th>2</th>\n",
       "      <td>DPL</td>\n",
       "      <td>Difference in Positive Proportions in Labels (...</td>\n",
       "      <td>0.022155</td>\n",
       "    </tr>\n",
       "    <tr>\n",
       "      <th>3</th>\n",
       "      <td>JS</td>\n",
       "      <td>Jensen-Shannon Divergence (JS)</td>\n",
       "      <td>0.000296</td>\n",
       "    </tr>\n",
       "    <tr>\n",
       "      <th>4</th>\n",
       "      <td>KL</td>\n",
       "      <td>Kullback-Liebler Divergence (KL)</td>\n",
       "      <td>0.001174</td>\n",
       "    </tr>\n",
       "    <tr>\n",
       "      <th>5</th>\n",
       "      <td>KS</td>\n",
       "      <td>Kolmogorov-Smirnov Distance (KS)</td>\n",
       "      <td>0.022155</td>\n",
       "    </tr>\n",
       "    <tr>\n",
       "      <th>6</th>\n",
       "      <td>LP</td>\n",
       "      <td>L-p Norm (LP)</td>\n",
       "      <td>0.031332</td>\n",
       "    </tr>\n",
       "    <tr>\n",
       "      <th>7</th>\n",
       "      <td>TVD</td>\n",
       "      <td>Total Variation Distance (TVD)</td>\n",
       "      <td>0.022155</td>\n",
       "    </tr>\n",
       "  </tbody>\n",
       "</table>\n",
       "</div>"
      ],
      "text/plain": [
       "   name                                        description     value\n",
       "0  CDDL  Conditional Demographic Disparity in Labels (C...  0.000000\n",
       "1    CI                               Class Imbalance (CI)  0.542992\n",
       "2   DPL  Difference in Positive Proportions in Labels (...  0.022155\n",
       "3    JS                     Jensen-Shannon Divergence (JS)  0.000296\n",
       "4    KL                   Kullback-Liebler Divergence (KL)  0.001174\n",
       "5    KS                   Kolmogorov-Smirnov Distance (KS)  0.022155\n",
       "6    LP                                      L-p Norm (LP)  0.031332\n",
       "7   TVD                     Total Variation Distance (TVD)  0.022155"
      ]
     },
     "execution_count": 41,
     "metadata": {},
     "output_type": "execute_result"
    }
   ],
   "source": [
    "video_games_results"
   ]
  },
  {
   "cell_type": "markdown",
   "id": "131f9529",
   "metadata": {},
   "source": [
    "# Reduce Biase by Balancing Data"
   ]
  },
  {
   "cell_type": "code",
   "execution_count": 42,
   "id": "36451b1a",
   "metadata": {},
   "outputs": [
    {
     "data": {
      "text/html": [
       "<div>\n",
       "<style scoped>\n",
       "    .dataframe tbody tr th:only-of-type {\n",
       "        vertical-align: middle;\n",
       "    }\n",
       "\n",
       "    .dataframe tbody tr th {\n",
       "        vertical-align: top;\n",
       "    }\n",
       "\n",
       "    .dataframe thead th {\n",
       "        text-align: right;\n",
       "    }\n",
       "</style>\n",
       "<table border=\"1\" class=\"dataframe\">\n",
       "  <thead>\n",
       "    <tr style=\"text-align: right;\">\n",
       "      <th></th>\n",
       "      <th></th>\n",
       "      <th></th>\n",
       "      <th>marketplace</th>\n",
       "      <th>customer_id</th>\n",
       "      <th>review_id</th>\n",
       "      <th>product_id</th>\n",
       "      <th>product_parent</th>\n",
       "      <th>product_title</th>\n",
       "      <th>star_rating</th>\n",
       "      <th>helpful_votes</th>\n",
       "      <th>total_votes</th>\n",
       "      <th>vine</th>\n",
       "      <th>verified_purchase</th>\n",
       "      <th>review_headline</th>\n",
       "      <th>review_body</th>\n",
       "      <th>year</th>\n",
       "      <th>review_date</th>\n",
       "      <th>product_category</th>\n",
       "    </tr>\n",
       "    <tr>\n",
       "      <th>product_category</th>\n",
       "      <th>star_rating</th>\n",
       "      <th></th>\n",
       "      <th></th>\n",
       "      <th></th>\n",
       "      <th></th>\n",
       "      <th></th>\n",
       "      <th></th>\n",
       "      <th></th>\n",
       "      <th></th>\n",
       "      <th></th>\n",
       "      <th></th>\n",
       "      <th></th>\n",
       "      <th></th>\n",
       "      <th></th>\n",
       "      <th></th>\n",
       "      <th></th>\n",
       "      <th></th>\n",
       "      <th></th>\n",
       "    </tr>\n",
       "  </thead>\n",
       "  <tbody>\n",
       "    <tr>\n",
       "      <th rowspan=\"5\" valign=\"top\">Digital_Video_Games</th>\n",
       "      <th rowspan=\"5\" valign=\"top\">1</th>\n",
       "      <th>0</th>\n",
       "      <td>US</td>\n",
       "      <td>3366112</td>\n",
       "      <td>R1L04IKYXYV1VC</td>\n",
       "      <td>B00AIALGZK</td>\n",
       "      <td>536445610</td>\n",
       "      <td>Euro Truck Simulator 2 [Download]</td>\n",
       "      <td>1</td>\n",
       "      <td>0</td>\n",
       "      <td>1</td>\n",
       "      <td>N</td>\n",
       "      <td>Y</td>\n",
       "      <td>1 waste of</td>\n",
       "      <td>it dint work on my windows 8.1&lt;br /&gt;waste of m...</td>\n",
       "      <td>2015</td>\n",
       "      <td>2015-01-22</td>\n",
       "      <td>Digital_Video_Games</td>\n",
       "    </tr>\n",
       "    <tr>\n",
       "      <th>1</th>\n",
       "      <td>US</td>\n",
       "      <td>24379591</td>\n",
       "      <td>R250Z0FV5NTHPB</td>\n",
       "      <td>B004774738</td>\n",
       "      <td>300848641</td>\n",
       "      <td>The Sims 3: World Adventures Expansion Pack</td>\n",
       "      <td>1</td>\n",
       "      <td>0</td>\n",
       "      <td>1</td>\n",
       "      <td>N</td>\n",
       "      <td>Y</td>\n",
       "      <td>Fun while it lasted...</td>\n",
       "      <td>Initially, the game was great. A nice change f...</td>\n",
       "      <td>2012</td>\n",
       "      <td>2012-10-25</td>\n",
       "      <td>Digital_Video_Games</td>\n",
       "    </tr>\n",
       "    <tr>\n",
       "      <th>2</th>\n",
       "      <td>US</td>\n",
       "      <td>10226292</td>\n",
       "      <td>R3GPSE9QVJG93F</td>\n",
       "      <td>B00FPQFXGK</td>\n",
       "      <td>613534992</td>\n",
       "      <td>Watch Dogs</td>\n",
       "      <td>1</td>\n",
       "      <td>0</td>\n",
       "      <td>2</td>\n",
       "      <td>N</td>\n",
       "      <td>N</td>\n",
       "      <td>Trash. Learn 2 code.</td>\n",
       "      <td>pile of trash, learn to code scrubs.</td>\n",
       "      <td>2014</td>\n",
       "      <td>2014-08-02</td>\n",
       "      <td>Digital_Video_Games</td>\n",
       "    </tr>\n",
       "    <tr>\n",
       "      <th>3</th>\n",
       "      <td>US</td>\n",
       "      <td>8287984</td>\n",
       "      <td>R3O3V7LK7C6TT7</td>\n",
       "      <td>B00F4CF7L6</td>\n",
       "      <td>341969535</td>\n",
       "      <td>Xbox Live Gift Card</td>\n",
       "      <td>1</td>\n",
       "      <td>2</td>\n",
       "      <td>4</td>\n",
       "      <td>N</td>\n",
       "      <td>Y</td>\n",
       "      <td>No email confirmation and no code</td>\n",
       "      <td>I recently bought this item from the mobile we...</td>\n",
       "      <td>2015</td>\n",
       "      <td>2015-02-04</td>\n",
       "      <td>Digital_Video_Games</td>\n",
       "    </tr>\n",
       "    <tr>\n",
       "      <th>4</th>\n",
       "      <td>US</td>\n",
       "      <td>13954434</td>\n",
       "      <td>RYXG9BO0Z1VM2</td>\n",
       "      <td>B007VTVRFA</td>\n",
       "      <td>402222185</td>\n",
       "      <td>SimCity - Limited Edition</td>\n",
       "      <td>1</td>\n",
       "      <td>1</td>\n",
       "      <td>1</td>\n",
       "      <td>N</td>\n",
       "      <td>N</td>\n",
       "      <td>Save your money</td>\n",
       "      <td>Just as everyone is saying, so many server iss...</td>\n",
       "      <td>2013</td>\n",
       "      <td>2013-03-08</td>\n",
       "      <td>Digital_Video_Games</td>\n",
       "    </tr>\n",
       "  </tbody>\n",
       "</table>\n",
       "</div>"
      ],
      "text/plain": [
       "                                  marketplace customer_id       review_id  \\\n",
       "product_category    star_rating                                             \n",
       "Digital_Video_Games 1           0          US     3366112  R1L04IKYXYV1VC   \n",
       "                                1          US    24379591  R250Z0FV5NTHPB   \n",
       "                                2          US    10226292  R3GPSE9QVJG93F   \n",
       "                                3          US     8287984  R3O3V7LK7C6TT7   \n",
       "                                4          US    13954434   RYXG9BO0Z1VM2   \n",
       "\n",
       "                                   product_id product_parent  \\\n",
       "product_category    star_rating                                \n",
       "Digital_Video_Games 1           0  B00AIALGZK      536445610   \n",
       "                                1  B004774738      300848641   \n",
       "                                2  B00FPQFXGK      613534992   \n",
       "                                3  B00F4CF7L6      341969535   \n",
       "                                4  B007VTVRFA      402222185   \n",
       "\n",
       "                                                                 product_title  \\\n",
       "product_category    star_rating                                                  \n",
       "Digital_Video_Games 1           0            Euro Truck Simulator 2 [Download]   \n",
       "                                1  The Sims 3: World Adventures Expansion Pack   \n",
       "                                2                                   Watch Dogs   \n",
       "                                3                          Xbox Live Gift Card   \n",
       "                                4                    SimCity - Limited Edition   \n",
       "\n",
       "                                   star_rating  helpful_votes  total_votes  \\\n",
       "product_category    star_rating                                              \n",
       "Digital_Video_Games 1           0            1              0            1   \n",
       "                                1            1              0            1   \n",
       "                                2            1              0            2   \n",
       "                                3            1              2            4   \n",
       "                                4            1              1            1   \n",
       "\n",
       "                                  vine verified_purchase  \\\n",
       "product_category    star_rating                            \n",
       "Digital_Video_Games 1           0    N                 Y   \n",
       "                                1    N                 Y   \n",
       "                                2    N                 N   \n",
       "                                3    N                 Y   \n",
       "                                4    N                 N   \n",
       "\n",
       "                                                     review_headline  \\\n",
       "product_category    star_rating                                        \n",
       "Digital_Video_Games 1           0                         1 waste of   \n",
       "                                1             Fun while it lasted...   \n",
       "                                2               Trash. Learn 2 code.   \n",
       "                                3  No email confirmation and no code   \n",
       "                                4                    Save your money   \n",
       "\n",
       "                                                                         review_body  \\\n",
       "product_category    star_rating                                                        \n",
       "Digital_Video_Games 1           0  it dint work on my windows 8.1<br />waste of m...   \n",
       "                                1  Initially, the game was great. A nice change f...   \n",
       "                                2               pile of trash, learn to code scrubs.   \n",
       "                                3  I recently bought this item from the mobile we...   \n",
       "                                4  Just as everyone is saying, so many server iss...   \n",
       "\n",
       "                                   year review_date     product_category  \n",
       "product_category    star_rating                                           \n",
       "Digital_Video_Games 1           0  2015  2015-01-22  Digital_Video_Games  \n",
       "                                1  2012  2012-10-25  Digital_Video_Games  \n",
       "                                2  2014  2014-08-02  Digital_Video_Games  \n",
       "                                3  2015  2015-02-04  Digital_Video_Games  \n",
       "                                4  2013  2013-03-08  Digital_Video_Games  "
      ]
     },
     "execution_count": 42,
     "metadata": {},
     "output_type": "execute_result"
    }
   ],
   "source": [
    "df_group_by = df.groupby(['product_category', 'star_rating'])\n",
    "df_balanced = df_group_by.apply(lambda x: x.sample(df_group_by.size().min()).reset_index(drop = True))\n",
    "df_balanced.head()"
   ]
  },
  {
   "cell_type": "code",
   "execution_count": 43,
   "id": "9c0d8b2b",
   "metadata": {},
   "outputs": [
    {
     "data": {
      "text/plain": [
       "<AxesSubplot:xlabel='star_rating', ylabel='count'>"
      ]
     },
     "execution_count": 43,
     "metadata": {},
     "output_type": "execute_result"
    },
    {
     "data": {
      "image/png": "[encoded data removed]",
      "text/plain": [
       "<Figure size 1008x504 with 1 Axes>"
      ]
     },
     "metadata": {
      "needs_background": "light"
     },
     "output_type": "display_data"
    }
   ],
   "source": [
    "fig = plt.figure(figsize = (14,7))\n",
    "sns.countplot(data = df_balanced, x = 'star_rating', hue = 'product_category')"
   ]
  },
  {
   "cell_type": "markdown",
   "id": "c64d32ae",
   "metadata": {},
   "source": [
    "# Upload Balanced Sample Data to S3"
   ]
  },
  {
   "cell_type": "code",
   "execution_count": 45,
   "id": "eeec4de3",
   "metadata": {},
   "outputs": [
    {
     "name": "stdout",
     "output_type": "stream",
     "text": [
      "s3://sagemaker-us-east-2-003294323742/bias/sample/amazon_reviews_balanced_sample.csv\n"
     ]
    }
   ],
   "source": [
    "balanced_data_path = 'data/amazon_reviews_balanced_sample.csv'\n",
    "df_balanced.to_csv(balanced_data_path, index = False, header = True)\n",
    "\n",
    "balanced_data_s3_uri = sagemaker_session.upload_data(bucket = bucket, key_prefix = \"bias/sample\", path = balanced_data_path)\n",
    "print(balanced_data_s3_uri)"
   ]
  },
  {
   "cell_type": "markdown",
   "id": "51a445c8",
   "metadata": {},
   "source": [
    "# Detect Bias with SageMaker Clarify"
   ]
  },
  {
   "cell_type": "code",
   "execution_count": 48,
   "id": "dc905aa8",
   "metadata": {},
   "outputs": [],
   "source": [
    "balanced_bias_report_output_path = 's3://{}/bias/balanced_bias_report_sample'.format(bucket)"
   ]
  },
  {
   "cell_type": "code",
   "execution_count": 50,
   "id": "ab11fbf1",
   "metadata": {},
   "outputs": [],
   "source": [
    "# Clarify configuration\n",
    "\n",
    "balanced_data_config = clarify.DataConfig(\n",
    "    s3_data_input_path = balanced_data_s3_uri,\n",
    "    s3_output_path= balanced_bias_report_output_path,\n",
    "    label = 'star_rating',\n",
    "    headers = df_balanced.columns.to_list(),\n",
    "    dataset_type = 'text/csv'\n",
    ")"
   ]
  },
  {
   "cell_type": "markdown",
   "id": "a4312c08",
   "metadata": {},
   "source": [
    "## Setup Clarify Configuration for Bias Metrics"
   ]
  },
  {
   "cell_type": "code",
   "execution_count": 51,
   "id": "d8d416bf",
   "metadata": {},
   "outputs": [],
   "source": [
    "balanced_data_bias_config = clarify.BiasConfig(\n",
    "    label_values_or_threshold = [5,4],\n",
    "    facet_name = 'product_category'\n",
    ")"
   ]
  },
  {
   "cell_type": "markdown",
   "id": "08093c40",
   "metadata": {},
   "source": [
    "## Setup SageMaker Processing Job"
   ]
  },
  {
   "cell_type": "code",
   "execution_count": 52,
   "id": "8a7ca4e5",
   "metadata": {},
   "outputs": [
    {
     "name": "stderr",
     "output_type": "stream",
     "text": [
      "INFO:sagemaker.image_uris:Defaulting to the only supported framework/algorithm version: 1.0.\n",
      "INFO:sagemaker.image_uris:Ignoring unnecessary instance type: None.\n"
     ]
    }
   ],
   "source": [
    "clarify_processor = clarify.SageMakerClarifyProcessor(\n",
    "    role = role,\n",
    "    instance_count = 1, # if we have a lot of data we can add more instances to process data in parallel with 5 instances for example.\n",
    "    instance_type = 'ml.m5.xlarge',\n",
    "    sagemaker_session = sagemaker_session\n",
    ")"
   ]
  },
  {
   "cell_type": "markdown",
   "id": "ea1be143",
   "metadata": {},
   "source": [
    "## Run Processing Job"
   ]
  },
  {
   "cell_type": "code",
   "execution_count": 53,
   "id": "bbd171bf",
   "metadata": {},
   "outputs": [
    {
     "name": "stderr",
     "output_type": "stream",
     "text": [
      "INFO:sagemaker.clarify:Analysis Config: {'dataset_type': 'text/csv', 'headers': ['marketplace', 'customer_id', 'review_id', 'product_id', 'product_parent', 'product_title', 'star_rating', 'helpful_votes', 'total_votes', 'vine', 'verified_purchase', 'review_headline', 'review_body', 'year', 'review_date', 'product_category'], 'label': 'star_rating', 'label_values_or_threshold': [5, 4], 'facet': [{'name_or_index': 'product_category'}], 'methods': {'report': {'name': 'report', 'title': 'Analysis Report'}, 'pre_training_bias': {'methods': 'all'}}}\n",
      "INFO:sagemaker:Creating processing-job with name Clarify-Pretraining-Bias-2022-12-31-19-50-30-944\n"
     ]
    },
    {
     "name": "stdout",
     "output_type": "stream",
     "text": [
      "\n",
      "Job Name:  Clarify-Pretraining-Bias-2022-12-31-19-50-30-944\n",
      "Inputs:  [{'InputName': 'dataset', 'AppManaged': False, 'S3Input': {'S3Uri': 's3://sagemaker-us-east-2-003294323742/bias/sample/amazon_reviews_balanced_sample.csv', 'LocalPath': '/opt/ml/processing/input/data', 'S3DataType': 'S3Prefix', 'S3InputMode': 'File', 'S3DataDistributionType': 'FullyReplicated', 'S3CompressionType': 'None'}}, {'InputName': 'analysis_config', 'AppManaged': False, 'S3Input': {'S3Uri': 's3://sagemaker-us-east-2-003294323742/bias/balanced_bias_report_sample/analysis_config.json', 'LocalPath': '/opt/ml/processing/input/config', 'S3DataType': 'S3Prefix', 'S3InputMode': 'File', 'S3DataDistributionType': 'FullyReplicated', 'S3CompressionType': 'None'}}]\n",
      "Outputs:  [{'OutputName': 'analysis_result', 'AppManaged': False, 'S3Output': {'S3Uri': 's3://sagemaker-us-east-2-003294323742/bias/balanced_bias_report_sample', 'LocalPath': '/opt/ml/processing/output', 'S3UploadMode': 'EndOfJob'}}]\n"
     ]
    }
   ],
   "source": [
    "clarify_processor.run_pre_training_bias(\n",
    "    data_config = balanced_data_config,\n",
    "    data_bias_config = balanced_data_bias_config,\n",
    "    methods = 'all',\n",
    "    wait = False,\n",
    "    logs = False\n",
    ")"
   ]
  },
  {
   "cell_type": "code",
   "execution_count": 54,
   "id": "eecf1a75",
   "metadata": {},
   "outputs": [
    {
     "name": "stdout",
     "output_type": "stream",
     "text": [
      "Clarify-Pretraining-Bias-2022-12-31-19-50-30-944\n"
     ]
    }
   ],
   "source": [
    "balanced_bias_processing_job_name = clarify_processor.latest_job.job_name\n",
    "print(balanced_bias_processing_job_name)"
   ]
  },
  {
   "cell_type": "markdown",
   "id": "f657355b",
   "metadata": {},
   "source": [
    "We can check our S3 Bucket for the Generated Bias Reports on the Balanced Dataset"
   ]
  },
  {
   "cell_type": "markdown",
   "id": "53b21603",
   "metadata": {},
   "source": [
    "# Detecting Bias with SageMaker Clarify Open Source"
   ]
  },
  {
   "cell_type": "code",
   "execution_count": 55,
   "id": "8d71a782",
   "metadata": {},
   "outputs": [
    {
     "name": "stderr",
     "output_type": "stream",
     "text": [
      "/home/ec2-user/anaconda3/envs/python3/lib/python3.8/site-packages/smclarify/bias/report.py:378: FutureWarning: In a future version of pandas all arguments of DataFrame.drop except for the argument 'labels' will be keyword-only\n",
      "  df = df.drop(facet_column.name, 1)\n",
      "INFO:smclarify.bias.metrics.common:data uniqueness fraction: 0.00021244954323348204\n",
      "/home/ec2-user/anaconda3/envs/python3/lib/python3.8/site-packages/smclarify/bias/report.py:384: FutureWarning: In a future version of pandas all arguments of DataFrame.drop except for the argument 'labels' will be keyword-only\n",
      "  df = df.drop(label_column.name, 1)\n",
      "INFO:smclarify.bias.metrics.common:data uniqueness fraction: 0.00012746972594008922\n"
     ]
    }
   ],
   "source": [
    "facet_column = report.FacetColumn(name = 'product_category')\n",
    "\n",
    "label_column = report.LabelColumn(\n",
    "    name = 'star_rating',\n",
    "    data = df_balanced['star_rating'],\n",
    "    positive_label_values = [5,4]\n",
    ")\n",
    "\n",
    "group_variable = df_balanced['product_category']\n",
    "\n",
    "balanced_results = report.bias_report(\n",
    "    df_balanced,\n",
    "    facet_column,\n",
    "    label_column,\n",
    "    stage_type = report.StageType.PRE_TRAINING,\n",
    "    group_variable = group_variable\n",
    ")"
   ]
  },
  {
   "cell_type": "code",
   "execution_count": 56,
   "id": "ecd308a2",
   "metadata": {},
   "outputs": [
    {
     "data": {
      "text/plain": [
       "[{'value_or_threshold': 'Digital_Video_Games',\n",
       "  'metrics': [{'name': 'CDDL',\n",
       "    'description': 'Conditional Demographic Disparity in Labels (CDDL)',\n",
       "    'value': 0.0},\n",
       "   {'name': 'CI',\n",
       "    'description': 'Class Imbalance (CI)',\n",
       "    'value': 0.3333333333333333},\n",
       "   {'name': 'DPL',\n",
       "    'description': 'Difference in Positive Proportions in Labels (DPL)',\n",
       "    'value': 0.0},\n",
       "   {'name': 'JS',\n",
       "    'description': 'Jensen-Shannon Divergence (JS)',\n",
       "    'value': 0.0},\n",
       "   {'name': 'KL',\n",
       "    'description': 'Kullback-Liebler Divergence (KL)',\n",
       "    'value': 0.0},\n",
       "   {'name': 'KS',\n",
       "    'description': 'Kolmogorov-Smirnov Distance (KS)',\n",
       "    'value': 0.0},\n",
       "   {'name': 'LP', 'description': 'L-p Norm (LP)', 'value': 0.0},\n",
       "   {'name': 'TVD',\n",
       "    'description': 'Total Variation Distance (TVD)',\n",
       "    'value': 0.0}]},\n",
       " {'value_or_threshold': 'Gift Card',\n",
       "  'metrics': [{'name': 'CDDL',\n",
       "    'description': 'Conditional Demographic Disparity in Labels (CDDL)',\n",
       "    'value': 0.0},\n",
       "   {'name': 'CI',\n",
       "    'description': 'Class Imbalance (CI)',\n",
       "    'value': 0.3333333333333333},\n",
       "   {'name': 'DPL',\n",
       "    'description': 'Difference in Positive Proportions in Labels (DPL)',\n",
       "    'value': 0.0},\n",
       "   {'name': 'JS',\n",
       "    'description': 'Jensen-Shannon Divergence (JS)',\n",
       "    'value': 0.0},\n",
       "   {'name': 'KL',\n",
       "    'description': 'Kullback-Liebler Divergence (KL)',\n",
       "    'value': 0.0},\n",
       "   {'name': 'KS',\n",
       "    'description': 'Kolmogorov-Smirnov Distance (KS)',\n",
       "    'value': 0.0},\n",
       "   {'name': 'LP', 'description': 'L-p Norm (LP)', 'value': 0.0},\n",
       "   {'name': 'TVD',\n",
       "    'description': 'Total Variation Distance (TVD)',\n",
       "    'value': 0.0}]},\n",
       " {'value_or_threshold': 'Software',\n",
       "  'metrics': [{'name': 'CDDL',\n",
       "    'description': 'Conditional Demographic Disparity in Labels (CDDL)',\n",
       "    'value': 0.0},\n",
       "   {'name': 'CI',\n",
       "    'description': 'Class Imbalance (CI)',\n",
       "    'value': 0.3333333333333333},\n",
       "   {'name': 'DPL',\n",
       "    'description': 'Difference in Positive Proportions in Labels (DPL)',\n",
       "    'value': 0.0},\n",
       "   {'name': 'JS',\n",
       "    'description': 'Jensen-Shannon Divergence (JS)',\n",
       "    'value': 0.0},\n",
       "   {'name': 'KL',\n",
       "    'description': 'Kullback-Liebler Divergence (KL)',\n",
       "    'value': 0.0},\n",
       "   {'name': 'KS',\n",
       "    'description': 'Kolmogorov-Smirnov Distance (KS)',\n",
       "    'value': 0.0},\n",
       "   {'name': 'LP', 'description': 'L-p Norm (LP)', 'value': 0.0},\n",
       "   {'name': 'TVD',\n",
       "    'description': 'Total Variation Distance (TVD)',\n",
       "    'value': 0.0}]}]"
      ]
     },
     "execution_count": 56,
     "metadata": {},
     "output_type": "execute_result"
    }
   ],
   "source": [
    "balanced_results"
   ]
  },
  {
   "cell_type": "code",
   "execution_count": 57,
   "id": "cf4f1389",
   "metadata": {},
   "outputs": [],
   "source": [
    "gift_card_balanced_results = pd.DataFrame(balanced_results[0]['metrics'])\n",
    "software_balanced_results = pd.DataFrame(balanced_results[1]['metrics'])\n",
    "video_games_balanced_results = pd.DataFrame(balanced_results[2]['metrics'])"
   ]
  },
  {
   "cell_type": "code",
   "execution_count": 58,
   "id": "471c4f8d",
   "metadata": {},
   "outputs": [
    {
     "data": {
      "text/html": [
       "<div>\n",
       "<style scoped>\n",
       "    .dataframe tbody tr th:only-of-type {\n",
       "        vertical-align: middle;\n",
       "    }\n",
       "\n",
       "    .dataframe tbody tr th {\n",
       "        vertical-align: top;\n",
       "    }\n",
       "\n",
       "    .dataframe thead th {\n",
       "        text-align: right;\n",
       "    }\n",
       "</style>\n",
       "<table border=\"1\" class=\"dataframe\">\n",
       "  <thead>\n",
       "    <tr style=\"text-align: right;\">\n",
       "      <th></th>\n",
       "      <th>name</th>\n",
       "      <th>description</th>\n",
       "      <th>value</th>\n",
       "    </tr>\n",
       "  </thead>\n",
       "  <tbody>\n",
       "    <tr>\n",
       "      <th>0</th>\n",
       "      <td>CDDL</td>\n",
       "      <td>Conditional Demographic Disparity in Labels (C...</td>\n",
       "      <td>0.000000</td>\n",
       "    </tr>\n",
       "    <tr>\n",
       "      <th>1</th>\n",
       "      <td>CI</td>\n",
       "      <td>Class Imbalance (CI)</td>\n",
       "      <td>0.333333</td>\n",
       "    </tr>\n",
       "    <tr>\n",
       "      <th>2</th>\n",
       "      <td>DPL</td>\n",
       "      <td>Difference in Positive Proportions in Labels (...</td>\n",
       "      <td>0.000000</td>\n",
       "    </tr>\n",
       "    <tr>\n",
       "      <th>3</th>\n",
       "      <td>JS</td>\n",
       "      <td>Jensen-Shannon Divergence (JS)</td>\n",
       "      <td>0.000000</td>\n",
       "    </tr>\n",
       "    <tr>\n",
       "      <th>4</th>\n",
       "      <td>KL</td>\n",
       "      <td>Kullback-Liebler Divergence (KL)</td>\n",
       "      <td>0.000000</td>\n",
       "    </tr>\n",
       "    <tr>\n",
       "      <th>5</th>\n",
       "      <td>KS</td>\n",
       "      <td>Kolmogorov-Smirnov Distance (KS)</td>\n",
       "      <td>0.000000</td>\n",
       "    </tr>\n",
       "    <tr>\n",
       "      <th>6</th>\n",
       "      <td>LP</td>\n",
       "      <td>L-p Norm (LP)</td>\n",
       "      <td>0.000000</td>\n",
       "    </tr>\n",
       "    <tr>\n",
       "      <th>7</th>\n",
       "      <td>TVD</td>\n",
       "      <td>Total Variation Distance (TVD)</td>\n",
       "      <td>0.000000</td>\n",
       "    </tr>\n",
       "  </tbody>\n",
       "</table>\n",
       "</div>"
      ],
      "text/plain": [
       "   name                                        description     value\n",
       "0  CDDL  Conditional Demographic Disparity in Labels (C...  0.000000\n",
       "1    CI                               Class Imbalance (CI)  0.333333\n",
       "2   DPL  Difference in Positive Proportions in Labels (...  0.000000\n",
       "3    JS                     Jensen-Shannon Divergence (JS)  0.000000\n",
       "4    KL                   Kullback-Liebler Divergence (KL)  0.000000\n",
       "5    KS                   Kolmogorov-Smirnov Distance (KS)  0.000000\n",
       "6    LP                                      L-p Norm (LP)  0.000000\n",
       "7   TVD                     Total Variation Distance (TVD)  0.000000"
      ]
     },
     "execution_count": 58,
     "metadata": {},
     "output_type": "execute_result"
    }
   ],
   "source": [
    "gift_card_balanced_results"
   ]
  },
  {
   "cell_type": "code",
   "execution_count": 59,
   "id": "f7006e3c",
   "metadata": {},
   "outputs": [
    {
     "data": {
      "text/html": [
       "<div>\n",
       "<style scoped>\n",
       "    .dataframe tbody tr th:only-of-type {\n",
       "        vertical-align: middle;\n",
       "    }\n",
       "\n",
       "    .dataframe tbody tr th {\n",
       "        vertical-align: top;\n",
       "    }\n",
       "\n",
       "    .dataframe thead th {\n",
       "        text-align: right;\n",
       "    }\n",
       "</style>\n",
       "<table border=\"1\" class=\"dataframe\">\n",
       "  <thead>\n",
       "    <tr style=\"text-align: right;\">\n",
       "      <th></th>\n",
       "      <th>name</th>\n",
       "      <th>description</th>\n",
       "      <th>value</th>\n",
       "    </tr>\n",
       "  </thead>\n",
       "  <tbody>\n",
       "    <tr>\n",
       "      <th>0</th>\n",
       "      <td>CDDL</td>\n",
       "      <td>Conditional Demographic Disparity in Labels (C...</td>\n",
       "      <td>0.000000</td>\n",
       "    </tr>\n",
       "    <tr>\n",
       "      <th>1</th>\n",
       "      <td>CI</td>\n",
       "      <td>Class Imbalance (CI)</td>\n",
       "      <td>0.333333</td>\n",
       "    </tr>\n",
       "    <tr>\n",
       "      <th>2</th>\n",
       "      <td>DPL</td>\n",
       "      <td>Difference in Positive Proportions in Labels (...</td>\n",
       "      <td>0.000000</td>\n",
       "    </tr>\n",
       "    <tr>\n",
       "      <th>3</th>\n",
       "      <td>JS</td>\n",
       "      <td>Jensen-Shannon Divergence (JS)</td>\n",
       "      <td>0.000000</td>\n",
       "    </tr>\n",
       "    <tr>\n",
       "      <th>4</th>\n",
       "      <td>KL</td>\n",
       "      <td>Kullback-Liebler Divergence (KL)</td>\n",
       "      <td>0.000000</td>\n",
       "    </tr>\n",
       "    <tr>\n",
       "      <th>5</th>\n",
       "      <td>KS</td>\n",
       "      <td>Kolmogorov-Smirnov Distance (KS)</td>\n",
       "      <td>0.000000</td>\n",
       "    </tr>\n",
       "    <tr>\n",
       "      <th>6</th>\n",
       "      <td>LP</td>\n",
       "      <td>L-p Norm (LP)</td>\n",
       "      <td>0.000000</td>\n",
       "    </tr>\n",
       "    <tr>\n",
       "      <th>7</th>\n",
       "      <td>TVD</td>\n",
       "      <td>Total Variation Distance (TVD)</td>\n",
       "      <td>0.000000</td>\n",
       "    </tr>\n",
       "  </tbody>\n",
       "</table>\n",
       "</div>"
      ],
      "text/plain": [
       "   name                                        description     value\n",
       "0  CDDL  Conditional Demographic Disparity in Labels (C...  0.000000\n",
       "1    CI                               Class Imbalance (CI)  0.333333\n",
       "2   DPL  Difference in Positive Proportions in Labels (...  0.000000\n",
       "3    JS                     Jensen-Shannon Divergence (JS)  0.000000\n",
       "4    KL                   Kullback-Liebler Divergence (KL)  0.000000\n",
       "5    KS                   Kolmogorov-Smirnov Distance (KS)  0.000000\n",
       "6    LP                                      L-p Norm (LP)  0.000000\n",
       "7   TVD                     Total Variation Distance (TVD)  0.000000"
      ]
     },
     "execution_count": 59,
     "metadata": {},
     "output_type": "execute_result"
    }
   ],
   "source": [
    "software_balanced_results"
   ]
  },
  {
   "cell_type": "code",
   "execution_count": 60,
   "id": "aca91781",
   "metadata": {},
   "outputs": [
    {
     "data": {
      "text/html": [
       "<div>\n",
       "<style scoped>\n",
       "    .dataframe tbody tr th:only-of-type {\n",
       "        vertical-align: middle;\n",
       "    }\n",
       "\n",
       "    .dataframe tbody tr th {\n",
       "        vertical-align: top;\n",
       "    }\n",
       "\n",
       "    .dataframe thead th {\n",
       "        text-align: right;\n",
       "    }\n",
       "</style>\n",
       "<table border=\"1\" class=\"dataframe\">\n",
       "  <thead>\n",
       "    <tr style=\"text-align: right;\">\n",
       "      <th></th>\n",
       "      <th>name</th>\n",
       "      <th>description</th>\n",
       "      <th>value</th>\n",
       "    </tr>\n",
       "  </thead>\n",
       "  <tbody>\n",
       "    <tr>\n",
       "      <th>0</th>\n",
       "      <td>CDDL</td>\n",
       "      <td>Conditional Demographic Disparity in Labels (C...</td>\n",
       "      <td>0.000000</td>\n",
       "    </tr>\n",
       "    <tr>\n",
       "      <th>1</th>\n",
       "      <td>CI</td>\n",
       "      <td>Class Imbalance (CI)</td>\n",
       "      <td>0.333333</td>\n",
       "    </tr>\n",
       "    <tr>\n",
       "      <th>2</th>\n",
       "      <td>DPL</td>\n",
       "      <td>Difference in Positive Proportions in Labels (...</td>\n",
       "      <td>0.000000</td>\n",
       "    </tr>\n",
       "    <tr>\n",
       "      <th>3</th>\n",
       "      <td>JS</td>\n",
       "      <td>Jensen-Shannon Divergence (JS)</td>\n",
       "      <td>0.000000</td>\n",
       "    </tr>\n",
       "    <tr>\n",
       "      <th>4</th>\n",
       "      <td>KL</td>\n",
       "      <td>Kullback-Liebler Divergence (KL)</td>\n",
       "      <td>0.000000</td>\n",
       "    </tr>\n",
       "    <tr>\n",
       "      <th>5</th>\n",
       "      <td>KS</td>\n",
       "      <td>Kolmogorov-Smirnov Distance (KS)</td>\n",
       "      <td>0.000000</td>\n",
       "    </tr>\n",
       "    <tr>\n",
       "      <th>6</th>\n",
       "      <td>LP</td>\n",
       "      <td>L-p Norm (LP)</td>\n",
       "      <td>0.000000</td>\n",
       "    </tr>\n",
       "    <tr>\n",
       "      <th>7</th>\n",
       "      <td>TVD</td>\n",
       "      <td>Total Variation Distance (TVD)</td>\n",
       "      <td>0.000000</td>\n",
       "    </tr>\n",
       "  </tbody>\n",
       "</table>\n",
       "</div>"
      ],
      "text/plain": [
       "   name                                        description     value\n",
       "0  CDDL  Conditional Demographic Disparity in Labels (C...  0.000000\n",
       "1    CI                               Class Imbalance (CI)  0.333333\n",
       "2   DPL  Difference in Positive Proportions in Labels (...  0.000000\n",
       "3    JS                     Jensen-Shannon Divergence (JS)  0.000000\n",
       "4    KL                   Kullback-Liebler Divergence (KL)  0.000000\n",
       "5    KS                   Kolmogorov-Smirnov Distance (KS)  0.000000\n",
       "6    LP                                      L-p Norm (LP)  0.000000\n",
       "7   TVD                     Total Variation Distance (TVD)  0.000000"
      ]
     },
     "execution_count": 60,
     "metadata": {},
     "output_type": "execute_result"
    }
   ],
   "source": [
    "video_games_balanced_results"
   ]
  },
  {
   "cell_type": "markdown",
   "id": "15b375b2",
   "metadata": {},
   "source": [
    "We can see that all of the bias metrics are equal to zero indicating an equal distribution across the three product categories. The Class Imbalance metric is 0.3333 inidicating it is equally balanced since we have 3 product categories in this sample data."
   ]
  },
  {
   "cell_type": "code",
   "execution_count": null,
   "id": "bbf8afc6",
   "metadata": {},
   "outputs": [],
   "source": []
  }
 ],
 "metadata": {
  "kernelspec": {
   "display_name": "conda_python3",
   "language": "python",
   "name": "conda_python3"
  },
  "language_info": {
   "codemirror_mode": {
    "name": "ipython",
    "version": 3
   },
   "file_extension": ".py",
   "mimetype": "text/x-python",
   "name": "python",
   "nbconvert_exporter": "python",
   "pygments_lexer": "ipython3",
   "version": "3.8.12"
  }
 },
 "nbformat": 4,
 "nbformat_minor": 5
}
