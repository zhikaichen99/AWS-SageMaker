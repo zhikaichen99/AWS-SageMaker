{
 "cells": [
  {
   "cell_type": "markdown",
   "id": "b5046996",
   "metadata": {},
   "source": [
    "# Install Dependencies"
   ]
  },
  {
   "cell_type": "markdown",
   "id": "b1b6646d",
   "metadata": {},
   "source": [
    "## SageMaker"
   ]
  },
  {
   "cell_type": "code",
   "execution_count": 1,
   "id": "339d6afd",
   "metadata": {},
   "outputs": [
    {
     "name": "stdout",
     "output_type": "stream",
     "text": [
      "\u001b[31mERROR: pip's dependency resolver does not currently take into account all the packages that are installed. This behaviour is the source of the following dependency conflicts.\r\n",
      "awscli 1.27.35 requires botocore==1.29.35, but you have botocore 1.29.40 which is incompatible.\r\n",
      "aiobotocore 2.0.1 requires botocore<1.22.9,>=1.22.8, but you have botocore 1.29.40 which is incompatible.\u001b[0m\u001b[31m\r\n",
      "\u001b[0m"
     ]
    }
   ],
   "source": [
    "!pip install --disable-pip-version-check -q sagemaker\n",
    "!pip install --disable-pip-version-check -q smdebug\n",
    "!pip install --disable-pip-version-check -q sagemaker-experiments"
   ]
  },
  {
   "cell_type": "markdown",
   "id": "9c33bec0",
   "metadata": {},
   "source": [
    "## TensorFlow"
   ]
  },
  {
   "cell_type": "code",
   "execution_count": 2,
   "id": "3d9cb689",
   "metadata": {},
   "outputs": [],
   "source": [
    "!pip install --disable-pip-version-check -q tensorflow"
   ]
  },
  {
   "cell_type": "markdown",
   "id": "fbbbe354",
   "metadata": {},
   "source": [
    "## Hugging Face"
   ]
  },
  {
   "cell_type": "code",
   "execution_count": 3,
   "id": "0adf3d2c",
   "metadata": {},
   "outputs": [],
   "source": [
    "!pip install --disable-pip-version-check -q transformers"
   ]
  },
  {
   "cell_type": "markdown",
   "id": "21f2f42f",
   "metadata": {},
   "source": [
    "## PyAthena"
   ]
  },
  {
   "cell_type": "code",
   "execution_count": 4,
   "id": "f69af1f7",
   "metadata": {},
   "outputs": [],
   "source": [
    "!pip install --disable-pip-version-check -q PyAthena"
   ]
  },
  {
   "cell_type": "markdown",
   "id": "ea60eeb7",
   "metadata": {},
   "source": [
    "# Store Variables for Next Notebook"
   ]
  },
  {
   "cell_type": "code",
   "execution_count": 5,
   "id": "4efff28a",
   "metadata": {},
   "outputs": [],
   "source": [
    "setup_dependences_passed = True"
   ]
  },
  {
   "cell_type": "code",
   "execution_count": 6,
   "id": "49a84221",
   "metadata": {},
   "outputs": [
    {
     "name": "stdout",
     "output_type": "stream",
     "text": [
      "Stored 'setup_dependences_passed' (bool)\n"
     ]
    }
   ],
   "source": [
    "%store setup_dependences_passed"
   ]
  },
  {
   "cell_type": "code",
   "execution_count": 7,
   "id": "073ee8a8",
   "metadata": {},
   "outputs": [
    {
     "name": "stdout",
     "output_type": "stream",
     "text": [
      "Stored variables and their in-db values:\n",
      "setup_dependences_passed             -> True\n"
     ]
    }
   ],
   "source": [
    "%store"
   ]
  },
  {
   "cell_type": "markdown",
   "id": "cb42be21",
   "metadata": {},
   "source": [
    "# Release Resources"
   ]
  },
  {
   "cell_type": "code",
   "execution_count": 8,
   "id": "5ecf8416",
   "metadata": {},
   "outputs": [
    {
     "data": {
      "text/html": [
       "\n",
       "<p><b>Shutting down your kernel for this notebook to release resources.b>p>\n",
       "<button class=\"sm-command-button\" data-commandlinker-command=\"kernelmenu:shutdown\" style=\"display:none;\">Shutdown Kernelbutton>\n",
       "        \n",
       "<script>\n",
       "try {\n",
       "    els = document.getElementsByClassName(\"sm-command-button\");\n",
       "    els[0].click();\n",
       "}\n",
       "catch(err) {\n",
       "    // NoOp\n",
       "}    \n",
       "script>\n"
      ],
      "text/plain": [
       "<IPython.core.display.HTML object>"
      ]
     },
     "metadata": {},
     "output_type": "display_data"
    }
   ],
   "source": [
    "%%html\n",
    "\n",
    "<p><b>Shutting down your kernel for this notebook to release resources.b>p>\n",
    "<button class=\"sm-command-button\" data-commandlinker-command=\"kernelmenu:shutdown\" style=\"display:none;\">Shutdown Kernelbutton>\n",
    "        \n",
    "<script>\n",
    "try {\n",
    "    els = document.getElementsByClassName(\"sm-command-button\");\n",
    "    els[0].click();\n",
    "}\n",
    "catch(err) {\n",
    "    // NoOp\n",
    "}    \n",
    "script>"
   ]
  },
  {
   "cell_type": "code",
   "execution_count": null,
   "id": "fe909b2b",
   "metadata": {},
   "outputs": [],
   "source": []
  }
 ],
 "metadata": {
  "kernelspec": {
   "display_name": "conda_python3",
   "language": "python",
   "name": "conda_python3"
  },
  "language_info": {
   "codemirror_mode": {
    "name": "ipython",
    "version": 3
   },
   "file_extension": ".py",
   "mimetype": "text/x-python",
   "name": "python",
   "nbconvert_exporter": "python",
   "pygments_lexer": "ipython3",
   "version": "3.8.12"
  }
 },
 "nbformat": 4,
 "nbformat_minor": 5
}
