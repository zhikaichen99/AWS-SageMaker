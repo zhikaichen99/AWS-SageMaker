{
 "cells": [
  {
   "cell_type": "markdown",
   "id": "cbe1c080",
   "metadata": {},
   "source": [
    "# Data Exploration & Visualization"
   ]
  },
  {
   "cell_type": "code",
   "execution_count": 1,
   "id": "498447fe",
   "metadata": {},
   "outputs": [
    {
     "name": "stderr",
     "output_type": "stream",
     "text": [
      "Matplotlib is building the font cache; this may take a moment.\n"
     ]
    }
   ],
   "source": [
    "import seaborn as sns\n",
    "import matplotlib.pyplot as plt"
   ]
  },
  {
   "cell_type": "code",
   "execution_count": 3,
   "id": "d8d5f1c8",
   "metadata": {},
   "outputs": [],
   "source": [
    "import boto3\n",
    "import sagemaker\n",
    "\n",
    "sagemaker_session = sagemaker.Session()\n",
    "bucket = sagemaker_session.default_bucket()\n",
    "role = sagemaker.get_execution_role()\n",
    "region = boto3.Session().region_name\n",
    "account_id = boto3.client('sts').get_caller_identity().get('Account')"
   ]
  },
  {
   "cell_type": "code",
   "execution_count": 4,
   "id": "4a165da3",
   "metadata": {},
   "outputs": [
    {
     "name": "stdout",
     "output_type": "stream",
     "text": [
      "arn:aws:iam::003294323742:role/service-role/AmazonSageMaker-ExecutionRole-20221228T123920\n",
      "sagemaker-us-east-2-003294323742\n",
      "us-east-2\n"
     ]
    }
   ],
   "source": [
    "print(role)\n",
    "print(bucket)\n",
    "print(region)"
   ]
  },
  {
   "cell_type": "code",
   "execution_count": 5,
   "id": "0cb6ea6f",
   "metadata": {},
   "outputs": [],
   "source": [
    "import pandas as pd\n",
    "# PyAthena imports\n",
    "from pyathena import connect"
   ]
  },
  {
   "cell_type": "code",
   "execution_count": 6,
   "id": "f6ebceb8",
   "metadata": {},
   "outputs": [],
   "source": [
    "%store -r setup_dependences_passed"
   ]
  },
  {
   "cell_type": "code",
   "execution_count": 7,
   "id": "b602f3aa",
   "metadata": {},
   "outputs": [
    {
     "name": "stdout",
     "output_type": "stream",
     "text": [
      "True\n"
     ]
    }
   ],
   "source": [
    "print(setup_dependences_passed)"
   ]
  },
  {
   "cell_type": "markdown",
   "id": "a560b397",
   "metadata": {},
   "source": [
    "## Set up Connection to Data Source"
   ]
  },
  {
   "attachments": {},
   "cell_type": "markdown",
   "id": "25fdcf1c",
   "metadata": {},
   "source": [
    "Define the database and table holding our Amazon Customer Reviews Dataset information in Amazon Athena"
   ]
  },
  {
   "cell_type": "code",
   "execution_count": 8,
   "id": "5f73f09f",
   "metadata": {},
   "outputs": [],
   "source": [
    "database_name = 'dsaws'\n",
    "table_name = 'amazon_reviews_parquet'"
   ]
  },
  {
   "cell_type": "code",
   "execution_count": 9,
   "id": "07149a8d",
   "metadata": {},
   "outputs": [],
   "source": [
    "# Set Athena query results S3 bucket\n",
    "s3_staging_dir = 's3://{}/athena/staging'.format(bucket)\n",
    "\n",
    "# Set up PyAthena connection\n",
    "conn = connect(region_name = region, s3_staging_dir= s3_staging_dir)"
   ]
  },
  {
   "cell_type": "code",
   "execution_count": 10,
   "id": "81d22bdb",
   "metadata": {},
   "outputs": [
    {
     "data": {
      "text/html": [
       "<div>\n",
       "<style scoped>\n",
       "    .dataframe tbody tr th:only-of-type {\n",
       "        vertical-align: middle;\n",
       "    }\n",
       "\n",
       "    .dataframe tbody tr th {\n",
       "        vertical-align: top;\n",
       "    }\n",
       "\n",
       "    .dataframe thead th {\n",
       "        text-align: right;\n",
       "    }\n",
       "</style>\n",
       "<table border=\"1\" class=\"dataframe\">\n",
       "  <thead>\n",
       "    <tr style=\"text-align: right;\">\n",
       "      <th></th>\n",
       "      <th>marketplace</th>\n",
       "      <th>customer_id</th>\n",
       "      <th>review_id</th>\n",
       "      <th>product_id</th>\n",
       "      <th>product_parent</th>\n",
       "      <th>product_title</th>\n",
       "      <th>star_rating</th>\n",
       "      <th>helpful_votes</th>\n",
       "      <th>total_votes</th>\n",
       "      <th>vine</th>\n",
       "      <th>verified_purchase</th>\n",
       "      <th>review_headline</th>\n",
       "      <th>review_body</th>\n",
       "      <th>year</th>\n",
       "      <th>review_date</th>\n",
       "      <th>product_category</th>\n",
       "    </tr>\n",
       "  </thead>\n",
       "  <tbody>\n",
       "    <tr>\n",
       "      <th>0</th>\n",
       "      <td>US</td>\n",
       "      <td>10071511</td>\n",
       "      <td>R33Z9ZDU7IXNYW</td>\n",
       "      <td>B004E10R4K</td>\n",
       "      <td>404225442</td>\n",
       "      <td>Need for Speed: Hot Pursuit</td>\n",
       "      <td>5</td>\n",
       "      <td>1</td>\n",
       "      <td>1</td>\n",
       "      <td>N</td>\n",
       "      <td>Y</td>\n",
       "      <td>The Best Racing Game To Date, Ever.</td>\n",
       "      <td>Criterion's Burnout engine has been refined an...</td>\n",
       "      <td>2011</td>\n",
       "      <td>2011-02-07</td>\n",
       "      <td>Digital_Video_Games</td>\n",
       "    </tr>\n",
       "    <tr>\n",
       "      <th>1</th>\n",
       "      <td>US</td>\n",
       "      <td>26673993</td>\n",
       "      <td>R8L9R4QLLSBK6</td>\n",
       "      <td>B00452VG02</td>\n",
       "      <td>959055547</td>\n",
       "      <td>Battlefield: Bad Company 2</td>\n",
       "      <td>5</td>\n",
       "      <td>0</td>\n",
       "      <td>1</td>\n",
       "      <td>N</td>\n",
       "      <td>Y</td>\n",
       "      <td>Close to real experience game</td>\n",
       "      <td>when I start playing this game I was more than...</td>\n",
       "      <td>2011</td>\n",
       "      <td>2011-02-07</td>\n",
       "      <td>Digital_Video_Games</td>\n",
       "    </tr>\n",
       "    <tr>\n",
       "      <th>2</th>\n",
       "      <td>US</td>\n",
       "      <td>52520442</td>\n",
       "      <td>R1LMTM44C6K2S6</td>\n",
       "      <td>B00328HP9Q</td>\n",
       "      <td>153296559</td>\n",
       "      <td>Jojo's Fashion Show World Tour [Download]</td>\n",
       "      <td>5</td>\n",
       "      <td>2</td>\n",
       "      <td>2</td>\n",
       "      <td>N</td>\n",
       "      <td>N</td>\n",
       "      <td>Fabulous</td>\n",
       "      <td>This is my favorite of all of the Jojo fashion...</td>\n",
       "      <td>2011</td>\n",
       "      <td>2011-02-07</td>\n",
       "      <td>Digital_Video_Games</td>\n",
       "    </tr>\n",
       "    <tr>\n",
       "      <th>3</th>\n",
       "      <td>US</td>\n",
       "      <td>50911990</td>\n",
       "      <td>R3AH462MYK3JZA</td>\n",
       "      <td>B004CYEOTI</td>\n",
       "      <td>666206014</td>\n",
       "      <td>Twisted Lands: Shadow Town</td>\n",
       "      <td>3</td>\n",
       "      <td>5</td>\n",
       "      <td>5</td>\n",
       "      <td>N</td>\n",
       "      <td>Y</td>\n",
       "      <td>Not Enough</td>\n",
       "      <td>This game could have been a real winner. The a...</td>\n",
       "      <td>2011</td>\n",
       "      <td>2011-02-07</td>\n",
       "      <td>Digital_Video_Games</td>\n",
       "    </tr>\n",
       "    <tr>\n",
       "      <th>4</th>\n",
       "      <td>US</td>\n",
       "      <td>33298672</td>\n",
       "      <td>R33POXLJ0B1SLO</td>\n",
       "      <td>B0045Y2D4I</td>\n",
       "      <td>168404671</td>\n",
       "      <td>Sherlock Holmes vs. Jack the Ripper</td>\n",
       "      <td>5</td>\n",
       "      <td>0</td>\n",
       "      <td>0</td>\n",
       "      <td>N</td>\n",
       "      <td>N</td>\n",
       "      <td>one of the best adventure/puzzle games ever made</td>\n",
       "      <td>i love this game,it really made you feel you'r...</td>\n",
       "      <td>2011</td>\n",
       "      <td>2011-02-07</td>\n",
       "      <td>Digital_Video_Games</td>\n",
       "    </tr>\n",
       "  </tbody>\n",
       "</table>\n",
       "</div>"
      ],
      "text/plain": [
       "  marketplace customer_id       review_id  product_id product_parent  \\\n",
       "0          US    10071511  R33Z9ZDU7IXNYW  B004E10R4K      404225442   \n",
       "1          US    26673993   R8L9R4QLLSBK6  B00452VG02      959055547   \n",
       "2          US    52520442  R1LMTM44C6K2S6  B00328HP9Q      153296559   \n",
       "3          US    50911990  R3AH462MYK3JZA  B004CYEOTI      666206014   \n",
       "4          US    33298672  R33POXLJ0B1SLO  B0045Y2D4I      168404671   \n",
       "\n",
       "                               product_title  star_rating  helpful_votes  \\\n",
       "0                Need for Speed: Hot Pursuit            5              1   \n",
       "1                 Battlefield: Bad Company 2            5              0   \n",
       "2  Jojo's Fashion Show World Tour [Download]            5              2   \n",
       "3                 Twisted Lands: Shadow Town            3              5   \n",
       "4        Sherlock Holmes vs. Jack the Ripper            5              0   \n",
       "\n",
       "   total_votes vine verified_purchase  \\\n",
       "0            1    N                 Y   \n",
       "1            1    N                 Y   \n",
       "2            2    N                 N   \n",
       "3            5    N                 Y   \n",
       "4            0    N                 N   \n",
       "\n",
       "                                    review_headline  \\\n",
       "0               The Best Racing Game To Date, Ever.   \n",
       "1                     Close to real experience game   \n",
       "2                                          Fabulous   \n",
       "3                                        Not Enough   \n",
       "4  one of the best adventure/puzzle games ever made   \n",
       "\n",
       "                                         review_body  year review_date  \\\n",
       "0  Criterion's Burnout engine has been refined an...  2011  2011-02-07   \n",
       "1  when I start playing this game I was more than...  2011  2011-02-07   \n",
       "2  This is my favorite of all of the Jojo fashion...  2011  2011-02-07   \n",
       "3  This game could have been a real winner. The a...  2011  2011-02-07   \n",
       "4  i love this game,it really made you feel you'r...  2011  2011-02-07   \n",
       "\n",
       "      product_category  \n",
       "0  Digital_Video_Games  \n",
       "1  Digital_Video_Games  \n",
       "2  Digital_Video_Games  \n",
       "3  Digital_Video_Games  \n",
       "4  Digital_Video_Games  "
      ]
     },
     "execution_count": 10,
     "metadata": {},
     "output_type": "execute_result"
    }
   ],
   "source": [
    "pd.read_sql(\"\"\"SELECT * FROM {}.{} LIMIT 5\"\"\".format(database_name, table_name), conn)"
   ]
  },
  {
   "cell_type": "markdown",
   "id": "ebd9df2e",
   "metadata": {},
   "source": [
    "Get all the unique product categories in the table"
   ]
  },
  {
   "cell_type": "code",
   "execution_count": 11,
   "id": "94a3a0f3",
   "metadata": {},
   "outputs": [],
   "source": [
    "# Query a list of the distinct product categories\n",
    "sql_statement = \"\"\"\n",
    "SELECT DISTINCT product_category \n",
    "FROM {}.{}\n",
    "ORDER BY product_category\n",
    "\"\"\".format(database_name, table_name)"
   ]
  },
  {
   "cell_type": "code",
   "execution_count": 12,
   "id": "8f49a838",
   "metadata": {},
   "outputs": [
    {
     "data": {
      "text/html": [
       "<div>\n",
       "<style scoped>\n",
       "    .dataframe tbody tr th:only-of-type {\n",
       "        vertical-align: middle;\n",
       "    }\n",
       "\n",
       "    .dataframe tbody tr th {\n",
       "        vertical-align: top;\n",
       "    }\n",
       "\n",
       "    .dataframe thead th {\n",
       "        text-align: right;\n",
       "    }\n",
       "</style>\n",
       "<table border=\"1\" class=\"dataframe\">\n",
       "  <thead>\n",
       "    <tr style=\"text-align: right;\">\n",
       "      <th></th>\n",
       "      <th>product_category</th>\n",
       "    </tr>\n",
       "  </thead>\n",
       "  <tbody>\n",
       "    <tr>\n",
       "      <th>0</th>\n",
       "      <td>Apparel</td>\n",
       "    </tr>\n",
       "    <tr>\n",
       "      <th>1</th>\n",
       "      <td>Automotive</td>\n",
       "    </tr>\n",
       "    <tr>\n",
       "      <th>2</th>\n",
       "      <td>Baby</td>\n",
       "    </tr>\n",
       "    <tr>\n",
       "      <th>3</th>\n",
       "      <td>Beauty</td>\n",
       "    </tr>\n",
       "    <tr>\n",
       "      <th>4</th>\n",
       "      <td>Books</td>\n",
       "    </tr>\n",
       "    <tr>\n",
       "      <th>5</th>\n",
       "      <td>Camera</td>\n",
       "    </tr>\n",
       "    <tr>\n",
       "      <th>6</th>\n",
       "      <td>Digital_Ebook_Purchase</td>\n",
       "    </tr>\n",
       "    <tr>\n",
       "      <th>7</th>\n",
       "      <td>Digital_Music_Purchase</td>\n",
       "    </tr>\n",
       "    <tr>\n",
       "      <th>8</th>\n",
       "      <td>Digital_Software</td>\n",
       "    </tr>\n",
       "    <tr>\n",
       "      <th>9</th>\n",
       "      <td>Digital_Video_Download</td>\n",
       "    </tr>\n",
       "    <tr>\n",
       "      <th>10</th>\n",
       "      <td>Digital_Video_Games</td>\n",
       "    </tr>\n",
       "    <tr>\n",
       "      <th>11</th>\n",
       "      <td>Electronics</td>\n",
       "    </tr>\n",
       "    <tr>\n",
       "      <th>12</th>\n",
       "      <td>Furniture</td>\n",
       "    </tr>\n",
       "    <tr>\n",
       "      <th>13</th>\n",
       "      <td>Gift Card</td>\n",
       "    </tr>\n",
       "    <tr>\n",
       "      <th>14</th>\n",
       "      <td>Grocery</td>\n",
       "    </tr>\n",
       "    <tr>\n",
       "      <th>15</th>\n",
       "      <td>Health &amp; Personal Care</td>\n",
       "    </tr>\n",
       "    <tr>\n",
       "      <th>16</th>\n",
       "      <td>Home</td>\n",
       "    </tr>\n",
       "    <tr>\n",
       "      <th>17</th>\n",
       "      <td>Home Entertainment</td>\n",
       "    </tr>\n",
       "    <tr>\n",
       "      <th>18</th>\n",
       "      <td>Home Improvement</td>\n",
       "    </tr>\n",
       "    <tr>\n",
       "      <th>19</th>\n",
       "      <td>Jewelry</td>\n",
       "    </tr>\n",
       "    <tr>\n",
       "      <th>20</th>\n",
       "      <td>Kitchen</td>\n",
       "    </tr>\n",
       "    <tr>\n",
       "      <th>21</th>\n",
       "      <td>Lawn and Garden</td>\n",
       "    </tr>\n",
       "    <tr>\n",
       "      <th>22</th>\n",
       "      <td>Luggage</td>\n",
       "    </tr>\n",
       "    <tr>\n",
       "      <th>23</th>\n",
       "      <td>Major Appliances</td>\n",
       "    </tr>\n",
       "    <tr>\n",
       "      <th>24</th>\n",
       "      <td>Mobile_Apps</td>\n",
       "    </tr>\n",
       "    <tr>\n",
       "      <th>25</th>\n",
       "      <td>Mobile_Electronics</td>\n",
       "    </tr>\n",
       "    <tr>\n",
       "      <th>26</th>\n",
       "      <td>Music</td>\n",
       "    </tr>\n",
       "    <tr>\n",
       "      <th>27</th>\n",
       "      <td>Musical Instruments</td>\n",
       "    </tr>\n",
       "    <tr>\n",
       "      <th>28</th>\n",
       "      <td>Office Products</td>\n",
       "    </tr>\n",
       "    <tr>\n",
       "      <th>29</th>\n",
       "      <td>Outdoors</td>\n",
       "    </tr>\n",
       "    <tr>\n",
       "      <th>30</th>\n",
       "      <td>PC</td>\n",
       "    </tr>\n",
       "    <tr>\n",
       "      <th>31</th>\n",
       "      <td>Personal_Care_Appliances</td>\n",
       "    </tr>\n",
       "    <tr>\n",
       "      <th>32</th>\n",
       "      <td>Pet Products</td>\n",
       "    </tr>\n",
       "    <tr>\n",
       "      <th>33</th>\n",
       "      <td>Shoes</td>\n",
       "    </tr>\n",
       "    <tr>\n",
       "      <th>34</th>\n",
       "      <td>Software</td>\n",
       "    </tr>\n",
       "    <tr>\n",
       "      <th>35</th>\n",
       "      <td>Sports</td>\n",
       "    </tr>\n",
       "    <tr>\n",
       "      <th>36</th>\n",
       "      <td>Tools</td>\n",
       "    </tr>\n",
       "    <tr>\n",
       "      <th>37</th>\n",
       "      <td>Toys</td>\n",
       "    </tr>\n",
       "    <tr>\n",
       "      <th>38</th>\n",
       "      <td>Video</td>\n",
       "    </tr>\n",
       "    <tr>\n",
       "      <th>39</th>\n",
       "      <td>Video DVD</td>\n",
       "    </tr>\n",
       "    <tr>\n",
       "      <th>40</th>\n",
       "      <td>Video Games</td>\n",
       "    </tr>\n",
       "    <tr>\n",
       "      <th>41</th>\n",
       "      <td>Watches</td>\n",
       "    </tr>\n",
       "    <tr>\n",
       "      <th>42</th>\n",
       "      <td>Wireless</td>\n",
       "    </tr>\n",
       "  </tbody>\n",
       "</table>\n",
       "</div>"
      ],
      "text/plain": [
       "            product_category\n",
       "0                    Apparel\n",
       "1                 Automotive\n",
       "2                       Baby\n",
       "3                     Beauty\n",
       "4                      Books\n",
       "5                     Camera\n",
       "6     Digital_Ebook_Purchase\n",
       "7     Digital_Music_Purchase\n",
       "8           Digital_Software\n",
       "9     Digital_Video_Download\n",
       "10       Digital_Video_Games\n",
       "11               Electronics\n",
       "12                 Furniture\n",
       "13                 Gift Card\n",
       "14                   Grocery\n",
       "15    Health & Personal Care\n",
       "16                      Home\n",
       "17        Home Entertainment\n",
       "18          Home Improvement\n",
       "19                   Jewelry\n",
       "20                   Kitchen\n",
       "21           Lawn and Garden\n",
       "22                   Luggage\n",
       "23          Major Appliances\n",
       "24               Mobile_Apps\n",
       "25        Mobile_Electronics\n",
       "26                     Music\n",
       "27       Musical Instruments\n",
       "28           Office Products\n",
       "29                  Outdoors\n",
       "30                        PC\n",
       "31  Personal_Care_Appliances\n",
       "32              Pet Products\n",
       "33                     Shoes\n",
       "34                  Software\n",
       "35                    Sports\n",
       "36                     Tools\n",
       "37                      Toys\n",
       "38                     Video\n",
       "39                 Video DVD\n",
       "40               Video Games\n",
       "41                   Watches\n",
       "42                  Wireless"
      ]
     },
     "execution_count": 12,
     "metadata": {},
     "output_type": "execute_result"
    }
   ],
   "source": [
    "# Execute the query using pandas\n",
    "pd.read_sql(sql_statement, conn)"
   ]
  },
  {
   "cell_type": "markdown",
   "id": "f9f2f373",
   "metadata": {},
   "source": [
    "# Data Visualization"
   ]
  },
  {
   "cell_type": "markdown",
   "id": "ad3e196e",
   "metadata": {},
   "source": [
    "#### Which product categories are the highest rated by average rating?"
   ]
  },
  {
   "cell_type": "code",
   "execution_count": 13,
   "id": "29ed5277",
   "metadata": {},
   "outputs": [],
   "source": [
    "highest_rating_query = \"\"\"\n",
    "SELECT product_category, AVG(star_rating) AS avg_star_rating\n",
    "FROM {}.{}\n",
    "GROUP BY product_category\n",
    "ORDER BY avg_star_rating \n",
    "\"\"\".format(database_name, table_name)\n",
    "\n",
    "highest_rating_df = pd.read_sql(highest_rating_query, conn)"
   ]
  },
  {
   "cell_type": "code",
   "execution_count": 14,
   "id": "d7a5d347",
   "metadata": {},
   "outputs": [
    {
     "data": {
      "text/html": [
       "<div>\n",
       "<style scoped>\n",
       "    .dataframe tbody tr th:only-of-type {\n",
       "        vertical-align: middle;\n",
       "    }\n",
       "\n",
       "    .dataframe tbody tr th {\n",
       "        vertical-align: top;\n",
       "    }\n",
       "\n",
       "    .dataframe thead th {\n",
       "        text-align: right;\n",
       "    }\n",
       "</style>\n",
       "<table border=\"1\" class=\"dataframe\">\n",
       "  <thead>\n",
       "    <tr style=\"text-align: right;\">\n",
       "      <th></th>\n",
       "      <th>product_category</th>\n",
       "      <th>avg_star_rating</th>\n",
       "    </tr>\n",
       "  </thead>\n",
       "  <tbody>\n",
       "    <tr>\n",
       "      <th>0</th>\n",
       "      <td>Digital_Software</td>\n",
       "      <td>3.539330</td>\n",
       "    </tr>\n",
       "    <tr>\n",
       "      <th>1</th>\n",
       "      <td>Software</td>\n",
       "      <td>3.567035</td>\n",
       "    </tr>\n",
       "    <tr>\n",
       "      <th>2</th>\n",
       "      <td>Major Appliances</td>\n",
       "      <td>3.716185</td>\n",
       "    </tr>\n",
       "    <tr>\n",
       "      <th>3</th>\n",
       "      <td>Mobile_Electronics</td>\n",
       "      <td>3.763163</td>\n",
       "    </tr>\n",
       "    <tr>\n",
       "      <th>4</th>\n",
       "      <td>Digital_Video_Games</td>\n",
       "      <td>3.853126</td>\n",
       "    </tr>\n",
       "  </tbody>\n",
       "</table>\n",
       "</div>"
      ],
      "text/plain": [
       "      product_category  avg_star_rating\n",
       "0     Digital_Software         3.539330\n",
       "1             Software         3.567035\n",
       "2     Major Appliances         3.716185\n",
       "3   Mobile_Electronics         3.763163\n",
       "4  Digital_Video_Games         3.853126"
      ]
     },
     "execution_count": 14,
     "metadata": {},
     "output_type": "execute_result"
    }
   ],
   "source": [
    "highest_rating_df.head()"
   ]
  },
  {
   "cell_type": "code",
   "execution_count": 15,
   "id": "8b6f7717",
   "metadata": {},
   "outputs": [
    {
     "data": {
      "text/plain": [
       "Text(0, 0.5, 'Product Category')"
      ]
     },
     "execution_count": 15,
     "metadata": {},
     "output_type": "execute_result"
    },
    {
     "data": {
      "image/png": "[encoded data removed]",
      "text/plain": [
       "<Figure size 1296x864 with 1 Axes>"
      ]
     },
     "metadata": {
      "needs_background": "light"
     },
     "output_type": "display_data"
    }
   ],
   "source": [
    "highest_rating_df.plot.barh(x = 'product_category', y = 'avg_star_rating', legend = None, width = 0.8)\n",
    "plt.gcf().set_size_inches(18,12)\n",
    "plt.xlabel('Average Rating')\n",
    "plt.ylabel('Product Category')\n"
   ]
  },
  {
   "attachments": {},
   "cell_type": "markdown",
   "id": "a08fabf0",
   "metadata": {},
   "source": [
    "From this horizontal bar plot, we can see that the Gift Care Product Category is the highest-rated product category."
   ]
  },
  {
   "cell_type": "markdown",
   "id": "11a90bb1",
   "metadata": {},
   "source": [
    "#### Which product categories have the most reviews"
   ]
  },
  {
   "cell_type": "code",
   "execution_count": 16,
   "id": "ae2b8e0d",
   "metadata": {},
   "outputs": [
    {
     "data": {
      "text/html": [
       "<div>\n",
       "<style scoped>\n",
       "    .dataframe tbody tr th:only-of-type {\n",
       "        vertical-align: middle;\n",
       "    }\n",
       "\n",
       "    .dataframe tbody tr th {\n",
       "        vertical-align: top;\n",
       "    }\n",
       "\n",
       "    .dataframe thead th {\n",
       "        text-align: right;\n",
       "    }\n",
       "</style>\n",
       "<table border=\"1\" class=\"dataframe\">\n",
       "  <thead>\n",
       "    <tr style=\"text-align: right;\">\n",
       "      <th></th>\n",
       "      <th>product_category</th>\n",
       "      <th>number_of_reviews</th>\n",
       "    </tr>\n",
       "  </thead>\n",
       "  <tbody>\n",
       "    <tr>\n",
       "      <th>0</th>\n",
       "      <td>Personal_Care_Appliances</td>\n",
       "      <td>85981</td>\n",
       "    </tr>\n",
       "    <tr>\n",
       "      <th>1</th>\n",
       "      <td>Major Appliances</td>\n",
       "      <td>96901</td>\n",
       "    </tr>\n",
       "    <tr>\n",
       "      <th>2</th>\n",
       "      <td>Digital_Software</td>\n",
       "      <td>102084</td>\n",
       "    </tr>\n",
       "    <tr>\n",
       "      <th>3</th>\n",
       "      <td>Mobile_Electronics</td>\n",
       "      <td>104975</td>\n",
       "    </tr>\n",
       "    <tr>\n",
       "      <th>4</th>\n",
       "      <td>Digital_Video_Games</td>\n",
       "      <td>145431</td>\n",
       "    </tr>\n",
       "  </tbody>\n",
       "</table>\n",
       "</div>"
      ],
      "text/plain": [
       "           product_category  number_of_reviews\n",
       "0  Personal_Care_Appliances              85981\n",
       "1          Major Appliances              96901\n",
       "2          Digital_Software             102084\n",
       "3        Mobile_Electronics             104975\n",
       "4       Digital_Video_Games             145431"
      ]
     },
     "execution_count": 16,
     "metadata": {},
     "output_type": "execute_result"
    }
   ],
   "source": [
    "most_reviews_query = \"\"\"\n",
    "SELECT product_category, COUNT(star_rating) AS number_of_reviews\n",
    "FROM {}.{}\n",
    "GROUP BY product_category\n",
    "ORDER BY number_of_reviews\n",
    "\"\"\".format(database_name, table_name)\n",
    "\n",
    "most_reviews_df = pd.read_sql(most_reviews_query, conn)\n",
    "most_reviews_df.head()"
   ]
  },
  {
   "cell_type": "code",
   "execution_count": 17,
   "id": "a1269dae",
   "metadata": {},
   "outputs": [
    {
     "data": {
      "text/plain": [
       "Text(0, 0.5, 'Product Category')"
      ]
     },
     "execution_count": 17,
     "metadata": {},
     "output_type": "execute_result"
    },
    {
     "data": {
      "image/png": "[encoded data removed]",
      "text/plain": [
       "<Figure size 1296x864 with 1 Axes>"
      ]
     },
     "metadata": {
      "needs_background": "light"
     },
     "output_type": "display_data"
    }
   ],
   "source": [
    "most_reviews_df.plot.barh(x = 'product_category', y = 'number_of_reviews', legend = None, width = 0.8)\n",
    "plt.gcf().set_size_inches(18,12)\n",
    "plt.xlabel('Number of Reviews')\n",
    "plt.ylabel('Product Category')"
   ]
  },
  {
   "attachments": {},
   "cell_type": "markdown",
   "id": "d641efa7",
   "metadata": {},
   "source": [
    "From this horizontal bar plot, we can see that the Books product category has received the most reviews which makes sense because Amazon initially started off as a book store. Personal Care Appliances has received the least amount of reviews. This could be because they were introduced into the marketplace later than other product categories."
   ]
  },
  {
   "cell_type": "markdown",
   "id": "c5c6f843",
   "metadata": {},
   "source": [
    "#### When did each product category become available in the Amazon catalog?"
   ]
  },
  {
   "cell_type": "code",
   "execution_count": 18,
   "id": "d81fc8aa",
   "metadata": {},
   "outputs": [
    {
     "data": {
      "text/html": [
       "<div>\n",
       "<style scoped>\n",
       "    .dataframe tbody tr th:only-of-type {\n",
       "        vertical-align: middle;\n",
       "    }\n",
       "\n",
       "    .dataframe tbody tr th {\n",
       "        vertical-align: top;\n",
       "    }\n",
       "\n",
       "    .dataframe thead th {\n",
       "        text-align: right;\n",
       "    }\n",
       "</style>\n",
       "<table border=\"1\" class=\"dataframe\">\n",
       "  <thead>\n",
       "    <tr style=\"text-align: right;\">\n",
       "      <th></th>\n",
       "      <th>product_category</th>\n",
       "      <th>first_year</th>\n",
       "    </tr>\n",
       "  </thead>\n",
       "  <tbody>\n",
       "    <tr>\n",
       "      <th>0</th>\n",
       "      <td>Video</td>\n",
       "      <td>1995</td>\n",
       "    </tr>\n",
       "    <tr>\n",
       "      <th>1</th>\n",
       "      <td>Music</td>\n",
       "      <td>1995</td>\n",
       "    </tr>\n",
       "    <tr>\n",
       "      <th>2</th>\n",
       "      <td>Books</td>\n",
       "      <td>1995</td>\n",
       "    </tr>\n",
       "    <tr>\n",
       "      <th>3</th>\n",
       "      <td>Video DVD</td>\n",
       "      <td>1996</td>\n",
       "    </tr>\n",
       "    <tr>\n",
       "      <th>4</th>\n",
       "      <td>Sports</td>\n",
       "      <td>1997</td>\n",
       "    </tr>\n",
       "  </tbody>\n",
       "</table>\n",
       "</div>"
      ],
      "text/plain": [
       "  product_category  first_year\n",
       "0            Video        1995\n",
       "1            Music        1995\n",
       "2            Books        1995\n",
       "3        Video DVD        1996\n",
       "4           Sports        1997"
      ]
     },
     "execution_count": 18,
     "metadata": {},
     "output_type": "execute_result"
    }
   ],
   "source": [
    "category_first_year_query = \"\"\"\n",
    "SELECT product_category, MIN(year) AS first_year\n",
    "FROM {}.{}\n",
    "GROUP BY product_category\n",
    "ORDER BY first_year\n",
    "\"\"\".format(database_name, table_name)\n",
    "\n",
    "category_first_year_df = pd.read_sql(category_first_year_query, conn)\n",
    "category_first_year_df.head()"
   ]
  },
  {
   "cell_type": "code",
   "execution_count": 20,
   "id": "1ad0cbb8",
   "metadata": {},
   "outputs": [
    {
     "data": {
      "text/plain": [
       "Text(0.5, 0, 'Year')"
      ]
     },
     "execution_count": 20,
     "metadata": {},
     "output_type": "execute_result"
    },
    {
     "data": {
      "image/png": "[encoded data removed]",
      "text/plain": [
       "<Figure size 1008x504 with 1 Axes>"
      ]
     },
     "metadata": {
      "needs_background": "light"
     },
     "output_type": "display_data"
    }
   ],
   "source": [
    "fig = plt.figure(figsize = (14,7))\n",
    "sns.countplot(data = category_first_year_df, x = 'first_year')\n",
    "plt.xlabel('Year')"
   ]
  },
  {
   "attachments": {},
   "cell_type": "markdown",
   "id": "1bfca85d",
   "metadata": {},
   "source": [
    "From this countplot, we can see that a lot of product categories (13) received their first reviews in 1999. "
   ]
  },
  {
   "cell_type": "markdown",
   "id": "e4a93e8b",
   "metadata": {},
   "source": [
    "#### Number of reviews per star ratings (1-5)"
   ]
  },
  {
   "cell_type": "code",
   "execution_count": 27,
   "id": "84eec714",
   "metadata": {},
   "outputs": [
    {
     "data": {
      "text/html": [
       "<div>\n",
       "<style scoped>\n",
       "    .dataframe tbody tr th:only-of-type {\n",
       "        vertical-align: middle;\n",
       "    }\n",
       "\n",
       "    .dataframe tbody tr th {\n",
       "        vertical-align: top;\n",
       "    }\n",
       "\n",
       "    .dataframe thead th {\n",
       "        text-align: right;\n",
       "    }\n",
       "</style>\n",
       "<table border=\"1\" class=\"dataframe\">\n",
       "  <thead>\n",
       "    <tr style=\"text-align: right;\">\n",
       "      <th></th>\n",
       "      <th>star_rating</th>\n",
       "      <th>number_of_reviews</th>\n",
       "    </tr>\n",
       "  </thead>\n",
       "  <tbody>\n",
       "    <tr>\n",
       "      <th>0</th>\n",
       "      <td>1</td>\n",
       "      <td>12099639</td>\n",
       "    </tr>\n",
       "    <tr>\n",
       "      <th>1</th>\n",
       "      <td>2</td>\n",
       "      <td>7304430</td>\n",
       "    </tr>\n",
       "    <tr>\n",
       "      <th>2</th>\n",
       "      <td>3</td>\n",
       "      <td>12133927</td>\n",
       "    </tr>\n",
       "    <tr>\n",
       "      <th>3</th>\n",
       "      <td>4</td>\n",
       "      <td>26223470</td>\n",
       "    </tr>\n",
       "    <tr>\n",
       "      <th>4</th>\n",
       "      <td>5</td>\n",
       "      <td>93200812</td>\n",
       "    </tr>\n",
       "  </tbody>\n",
       "</table>\n",
       "</div>"
      ],
      "text/plain": [
       "   star_rating  number_of_reviews\n",
       "0            1           12099639\n",
       "1            2            7304430\n",
       "2            3           12133927\n",
       "3            4           26223470\n",
       "4            5           93200812"
      ]
     },
     "execution_count": 27,
     "metadata": {},
     "output_type": "execute_result"
    }
   ],
   "source": [
    "num_per_rating_query = \"\"\"\n",
    "SELECT star_rating, COUNT(*) AS number_of_reviews\n",
    "FROM {}.{}\n",
    "GROUP BY star_rating\n",
    "ORDER BY star_rating ASC\n",
    "\"\"\".format(database_name, table_name)\n",
    "\n",
    "num_per_rating_df = pd.read_sql(num_per_rating_query, conn)\n",
    "num_per_rating_df.head()"
   ]
  },
  {
   "cell_type": "code",
   "execution_count": 28,
   "id": "cd70ad1a",
   "metadata": {},
   "outputs": [
    {
     "data": {
      "text/plain": [
       "Text(0, 0.5, 'Number of Reviews')"
      ]
     },
     "execution_count": 28,
     "metadata": {},
     "output_type": "execute_result"
    },
    {
     "data": {
      "image/png": "[encoded data removed]",
      "text/plain": [
       "<Figure size 1008x504 with 1 Axes>"
      ]
     },
     "metadata": {
      "needs_background": "light"
     },
     "output_type": "display_data"
    }
   ],
   "source": [
    "num_per_rating_df.plot.bar(x = 'star_rating', y = 'number_of_reviews', legend = None, width = 0.8)\n",
    "plt.gcf().set_size_inches(14,7)\n",
    "plt.xlabel('Star Rating')\n",
    "plt.ylabel('Number of Reviews')"
   ]
  },
  {
   "attachments": {},
   "cell_type": "markdown",
   "id": "7d3a7fbb",
   "metadata": {},
   "source": [
    "Majority of reviews in the Amazon Customer Reviews dataset are 5 star reviews."
   ]
  },
  {
   "cell_type": "markdown",
   "id": "d84b3fc4",
   "metadata": {},
   "source": [
    "#### What is the breakdown of star ratings (1-5) per product category?"
   ]
  },
  {
   "cell_type": "code",
   "execution_count": 22,
   "id": "67587dd6",
   "metadata": {},
   "outputs": [
    {
     "data": {
      "text/html": [
       "<div>\n",
       "<style scoped>\n",
       "    .dataframe tbody tr th:only-of-type {\n",
       "        vertical-align: middle;\n",
       "    }\n",
       "\n",
       "    .dataframe tbody tr th {\n",
       "        vertical-align: top;\n",
       "    }\n",
       "\n",
       "    .dataframe thead th {\n",
       "        text-align: right;\n",
       "    }\n",
       "</style>\n",
       "<table border=\"1\" class=\"dataframe\">\n",
       "  <thead>\n",
       "    <tr style=\"text-align: right;\">\n",
       "      <th></th>\n",
       "      <th>product_category</th>\n",
       "      <th>star_rating</th>\n",
       "      <th>number_of_reviews</th>\n",
       "    </tr>\n",
       "  </thead>\n",
       "  <tbody>\n",
       "    <tr>\n",
       "      <th>0</th>\n",
       "      <td>Apparel</td>\n",
       "      <td>5</td>\n",
       "      <td>3320566</td>\n",
       "    </tr>\n",
       "    <tr>\n",
       "      <th>1</th>\n",
       "      <td>Apparel</td>\n",
       "      <td>4</td>\n",
       "      <td>1147237</td>\n",
       "    </tr>\n",
       "    <tr>\n",
       "      <th>2</th>\n",
       "      <td>Apparel</td>\n",
       "      <td>3</td>\n",
       "      <td>623471</td>\n",
       "    </tr>\n",
       "    <tr>\n",
       "      <th>3</th>\n",
       "      <td>Apparel</td>\n",
       "      <td>2</td>\n",
       "      <td>369601</td>\n",
       "    </tr>\n",
       "    <tr>\n",
       "      <th>4</th>\n",
       "      <td>Apparel</td>\n",
       "      <td>1</td>\n",
       "      <td>445458</td>\n",
       "    </tr>\n",
       "  </tbody>\n",
       "</table>\n",
       "</div>"
      ],
      "text/plain": [
       "  product_category  star_rating  number_of_reviews\n",
       "0          Apparel            5            3320566\n",
       "1          Apparel            4            1147237\n",
       "2          Apparel            3             623471\n",
       "3          Apparel            2             369601\n",
       "4          Apparel            1             445458"
      ]
     },
     "execution_count": 22,
     "metadata": {},
     "output_type": "execute_result"
    }
   ],
   "source": [
    "rating_breakdown_query = \"\"\"\n",
    "SELECT product_category, star_rating, COUNT(*) as number_of_reviews\n",
    "FROM {}.{}\n",
    "GROUP BY product_category, star_rating\n",
    "ORDER BY product_category ASC, star_rating DESC, number_of_reviews\n",
    "\"\"\".format(database_name, table_name)\n",
    "\n",
    "rating_breakdown_df = pd.read_sql(rating_breakdown_query, conn)\n",
    "rating_breakdown_df.head()"
   ]
  },
  {
   "cell_type": "code",
   "execution_count": 41,
   "id": "ca0a47e4",
   "metadata": {},
   "outputs": [],
   "source": [
    "product_categories = rating_breakdown_df.product_category.unique().tolist()\n",
    "\n",
    "star_rating_distribution = {}\n",
    "for category in product_categories:\n",
    "    star_rating_distribution[category] = rating_breakdown_df[\n",
    "        rating_breakdown_df['product_category'] == category].number_of_reviews.values.tolist()"
   ]
  },
  {
   "cell_type": "code",
   "execution_count": 43,
   "id": "c6c713b1",
   "metadata": {},
   "outputs": [
    {
     "data": {
      "text/html": [
       "<div>\n",
       "<style scoped>\n",
       "    .dataframe tbody tr th:only-of-type {\n",
       "        vertical-align: middle;\n",
       "    }\n",
       "\n",
       "    .dataframe tbody tr th {\n",
       "        vertical-align: top;\n",
       "    }\n",
       "\n",
       "    .dataframe thead th {\n",
       "        text-align: right;\n",
       "    }\n",
       "</style>\n",
       "<table border=\"1\" class=\"dataframe\">\n",
       "  <thead>\n",
       "    <tr style=\"text-align: right;\">\n",
       "      <th></th>\n",
       "      <th>5 Star</th>\n",
       "      <th>4 Star</th>\n",
       "      <th>3 Star</th>\n",
       "      <th>2 Star</th>\n",
       "      <th>1 Star</th>\n",
       "    </tr>\n",
       "  </thead>\n",
       "  <tbody>\n",
       "    <tr>\n",
       "      <th>Apparel</th>\n",
       "      <td>56.220433</td>\n",
       "      <td>19.423846</td>\n",
       "      <td>10.555974</td>\n",
       "      <td>6.257707</td>\n",
       "      <td>7.542040</td>\n",
       "    </tr>\n",
       "    <tr>\n",
       "      <th>Automotive</th>\n",
       "      <td>65.456471</td>\n",
       "      <td>14.983604</td>\n",
       "      <td>6.824750</td>\n",
       "      <td>4.203967</td>\n",
       "      <td>8.531208</td>\n",
       "    </tr>\n",
       "    <tr>\n",
       "      <th>Baby</th>\n",
       "      <td>61.055306</td>\n",
       "      <td>16.393676</td>\n",
       "      <td>8.553384</td>\n",
       "      <td>5.759265</td>\n",
       "      <td>8.238369</td>\n",
       "    </tr>\n",
       "    <tr>\n",
       "      <th>Beauty</th>\n",
       "      <td>63.626300</td>\n",
       "      <td>14.493401</td>\n",
       "      <td>7.787881</td>\n",
       "      <td>5.161185</td>\n",
       "      <td>8.931232</td>\n",
       "    </tr>\n",
       "    <tr>\n",
       "      <th>Books</th>\n",
       "      <td>65.914726</td>\n",
       "      <td>17.164751</td>\n",
       "      <td>7.437722</td>\n",
       "      <td>4.137230</td>\n",
       "      <td>5.345571</td>\n",
       "    </tr>\n",
       "  </tbody>\n",
       "</table>\n",
       "</div>"
      ],
      "text/plain": [
       "               5 Star     4 Star     3 Star    2 Star    1 Star\n",
       "Apparel     56.220433  19.423846  10.555974  6.257707  7.542040\n",
       "Automotive  65.456471  14.983604   6.824750  4.203967  8.531208\n",
       "Baby        61.055306  16.393676   8.553384  5.759265  8.238369\n",
       "Beauty      63.626300  14.493401   7.787881  5.161185  8.931232\n",
       "Books       65.914726  17.164751   7.437722  4.137230  5.345571"
      ]
     },
     "execution_count": 43,
     "metadata": {},
     "output_type": "execute_result"
    }
   ],
   "source": [
    "df_distribution =pd.DataFrame(star_rating_distribution).transpose().apply(\n",
    "        lambda num_reviews: num_reviews/sum(num_reviews)*100, axis = 1)\n",
    "\n",
    "df_distribution.columns = ['5 Star', '4 Star', '3 Star', '2 Star', '1 Star']\n",
    "df_distribution.head()"
   ]
  },
  {
   "cell_type": "code",
   "execution_count": 49,
   "id": "e4b50d93",
   "metadata": {},
   "outputs": [
    {
     "data": {
      "text/plain": [
       "<Figure size 1008x504 with 0 Axes>"
      ]
     },
     "metadata": {},
     "output_type": "display_data"
    },
    {
     "data": {
      "image/png": "[encoded data removed]",
      "text/plain": [
       "<Figure size 720x1080 with 1 Axes>"
      ]
     },
     "metadata": {
      "needs_background": "light"
     },
     "output_type": "display_data"
    }
   ],
   "source": [
    "# Plot the distributions of star rating for each product category\n",
    "fig = plt.figure(figsize = (14,7))\n",
    "\n",
    "df_distribution.plot(kind = 'barh',\n",
    "                     stacked = True,\n",
    "                     color = ['green', 'greenyellow', 'yellow','orange','red' ])\n",
    "\n",
    "plt.title('Distribution of Star Rating for each Product Category')\n",
    "plt.legend(labels = ['5 Star', '4 Star', '3 Star', '2 Star', '1 Star'],\n",
    "          loc = 'upper left',\n",
    "          bbox_to_anchor = (1.04,1))\n",
    "\n",
    "plt.xlabel('% Star Rating Breakdown')\n",
    "plt.ylabel('Product Category')\n",
    "plt.gcf().set_size_inches(10,15)\n",
    "plt.show()"
   ]
  },
  {
   "attachments": {},
   "cell_type": "markdown",
   "id": "5f269c47",
   "metadata": {},
   "source": [
    "We can see that 5 star and 4 star ratings make up a large proportion of star ratings for each product category."
   ]
  },
  {
   "cell_type": "markdown",
   "id": "856e098e",
   "metadata": {},
   "source": [
    "#### How have the ratings changed over time? "
   ]
  },
  {
   "cell_type": "code",
   "execution_count": 52,
   "id": "e5dbd112",
   "metadata": {},
   "outputs": [
    {
     "data": {
      "text/html": [
       "<div>\n",
       "<style scoped>\n",
       "    .dataframe tbody tr th:only-of-type {\n",
       "        vertical-align: middle;\n",
       "    }\n",
       "\n",
       "    .dataframe tbody tr th {\n",
       "        vertical-align: top;\n",
       "    }\n",
       "\n",
       "    .dataframe thead th {\n",
       "        text-align: right;\n",
       "    }\n",
       "</style>\n",
       "<table border=\"1\" class=\"dataframe\">\n",
       "  <thead>\n",
       "    <tr style=\"text-align: right;\">\n",
       "      <th></th>\n",
       "      <th>year</th>\n",
       "      <th>average_rating</th>\n",
       "    </tr>\n",
       "  </thead>\n",
       "  <tbody>\n",
       "    <tr>\n",
       "      <th>0</th>\n",
       "      <td>1995</td>\n",
       "      <td>4.616915</td>\n",
       "    </tr>\n",
       "    <tr>\n",
       "      <th>1</th>\n",
       "      <td>1996</td>\n",
       "      <td>4.600341</td>\n",
       "    </tr>\n",
       "    <tr>\n",
       "      <th>2</th>\n",
       "      <td>1997</td>\n",
       "      <td>4.434437</td>\n",
       "    </tr>\n",
       "    <tr>\n",
       "      <th>3</th>\n",
       "      <td>1998</td>\n",
       "      <td>4.360676</td>\n",
       "    </tr>\n",
       "    <tr>\n",
       "      <th>4</th>\n",
       "      <td>1999</td>\n",
       "      <td>4.281893</td>\n",
       "    </tr>\n",
       "  </tbody>\n",
       "</table>\n",
       "</div>"
      ],
      "text/plain": [
       "   year  average_rating\n",
       "0  1995        4.616915\n",
       "1  1996        4.600341\n",
       "2  1997        4.434437\n",
       "3  1998        4.360676\n",
       "4  1999        4.281893"
      ]
     },
     "execution_count": 52,
     "metadata": {},
     "output_type": "execute_result"
    }
   ],
   "source": [
    "rating_change_query = \"\"\"\n",
    "SELECT year, AVG(star_rating) AS average_rating\n",
    "FROM {}.{}\n",
    "GROUP BY year\n",
    "ORDER BY year ASC\n",
    "\"\"\".format(database_name, table_name)\n",
    "\n",
    "rating_change_df = pd.read_sql(rating_change_query, conn)\n",
    "rating_change_df.head()"
   ]
  },
  {
   "cell_type": "code",
   "execution_count": 62,
   "id": "75808ed7",
   "metadata": {},
   "outputs": [
    {
     "data": {
      "image/png": "[encoded data removed]",
      "text/plain": [
       "<Figure size 1008x504 with 1 Axes>"
      ]
     },
     "metadata": {
      "needs_background": "light"
     },
     "output_type": "display_data"
    }
   ],
   "source": [
    "plt.gcf().set_size_inches(14,7)\n",
    "ax = plt.gca()\n",
    "ax.set_xticks(rating_change_df['year'].unique())\n",
    "\n",
    "\n",
    "rating_change_df.plot(kind = 'line', x = 'year', y = 'average_rating', ax = ax)\n",
    "plt.xlabel('Years')\n",
    "plt.ylabel('Average Rating')\n",
    "plt.xticks(rotation = 45)\n",
    "\n",
    "plt.show()"
   ]
  },
  {
   "attachments": {},
   "cell_type": "markdown",
   "id": "b43646e8",
   "metadata": {},
   "source": [
    "Star Ratings started off very high and they began to trend downwards. However, after 2011 star ratings are trending upwards."
   ]
  },
  {
   "cell_type": "markdown",
   "id": "9d90dc24",
   "metadata": {},
   "source": [
    "#### How have the number of ratings changed over time?"
   ]
  },
  {
   "cell_type": "code",
   "execution_count": 63,
   "id": "39ffbfd3",
   "metadata": {},
   "outputs": [
    {
     "data": {
      "text/html": [
       "<div>\n",
       "<style scoped>\n",
       "    .dataframe tbody tr th:only-of-type {\n",
       "        vertical-align: middle;\n",
       "    }\n",
       "\n",
       "    .dataframe tbody tr th {\n",
       "        vertical-align: top;\n",
       "    }\n",
       "\n",
       "    .dataframe thead th {\n",
       "        text-align: right;\n",
       "    }\n",
       "</style>\n",
       "<table border=\"1\" class=\"dataframe\">\n",
       "  <thead>\n",
       "    <tr style=\"text-align: right;\">\n",
       "      <th></th>\n",
       "      <th>year</th>\n",
       "      <th>number_of_reviews</th>\n",
       "    </tr>\n",
       "  </thead>\n",
       "  <tbody>\n",
       "    <tr>\n",
       "      <th>0</th>\n",
       "      <td>1995</td>\n",
       "      <td>201</td>\n",
       "    </tr>\n",
       "    <tr>\n",
       "      <th>1</th>\n",
       "      <td>1996</td>\n",
       "      <td>4689</td>\n",
       "    </tr>\n",
       "    <tr>\n",
       "      <th>2</th>\n",
       "      <td>1997</td>\n",
       "      <td>36850</td>\n",
       "    </tr>\n",
       "    <tr>\n",
       "      <th>3</th>\n",
       "      <td>1998</td>\n",
       "      <td>162783</td>\n",
       "    </tr>\n",
       "    <tr>\n",
       "      <th>4</th>\n",
       "      <td>1999</td>\n",
       "      <td>435016</td>\n",
       "    </tr>\n",
       "  </tbody>\n",
       "</table>\n",
       "</div>"
      ],
      "text/plain": [
       "   year  number_of_reviews\n",
       "0  1995                201\n",
       "1  1996               4689\n",
       "2  1997              36850\n",
       "3  1998             162783\n",
       "4  1999             435016"
      ]
     },
     "execution_count": 63,
     "metadata": {},
     "output_type": "execute_result"
    }
   ],
   "source": [
    "num_reviews_change_query = \"\"\"\n",
    "SELECT year, COUNT(*) AS number_of_reviews\n",
    "FROM {}.{}\n",
    "GROUP BY year\n",
    "ORDER BY year ASC\n",
    "\"\"\".format(database_name, table_name)\n",
    "\n",
    "num_reviews_change_df = pd.read_sql(num_reviews_change_query, conn)\n",
    "num_reviews_change_df.head()"
   ]
  },
  {
   "cell_type": "code",
   "execution_count": 64,
   "id": "44c09314",
   "metadata": {},
   "outputs": [
    {
     "data": {
      "image/png": "[encoded data removed]",
      "text/plain": [
       "<Figure size 1008x504 with 1 Axes>"
      ]
     },
     "metadata": {
      "needs_background": "light"
     },
     "output_type": "display_data"
    }
   ],
   "source": [
    "plt.gcf().set_size_inches(14,7)\n",
    "ax = plt.gca()\n",
    "ax.set_xticks(num_reviews_change_df['year'].unique())\n",
    "\n",
    "\n",
    "num_reviews_change_df.plot(kind = 'line', x = 'year', y = 'number_of_reviews', ax = ax)\n",
    "plt.xlabel('Years')\n",
    "plt.ylabel('Number of Reviews')\n",
    "plt.xticks(rotation = 45)\n",
    "\n",
    "plt.show()"
   ]
  },
  {
   "attachments": {},
   "cell_type": "markdown",
   "id": "a70963ce",
   "metadata": {},
   "source": [
    "The number of reviews have exponentially increased starting from the year 2011."
   ]
  },
  {
   "cell_type": "markdown",
   "id": "8100ad18",
   "metadata": {},
   "source": [
    "#### Which Star Ratings (1-5) are the most helpful?"
   ]
  },
  {
   "cell_type": "code",
   "execution_count": 65,
   "id": "94533ff5",
   "metadata": {},
   "outputs": [
    {
     "data": {
      "text/html": [
       "<div>\n",
       "<style scoped>\n",
       "    .dataframe tbody tr th:only-of-type {\n",
       "        vertical-align: middle;\n",
       "    }\n",
       "\n",
       "    .dataframe tbody tr th {\n",
       "        vertical-align: top;\n",
       "    }\n",
       "\n",
       "    .dataframe thead th {\n",
       "        text-align: right;\n",
       "    }\n",
       "</style>\n",
       "<table border=\"1\" class=\"dataframe\">\n",
       "  <thead>\n",
       "    <tr style=\"text-align: right;\">\n",
       "      <th></th>\n",
       "      <th>star_rating</th>\n",
       "      <th>average_helpfulness</th>\n",
       "    </tr>\n",
       "  </thead>\n",
       "  <tbody>\n",
       "    <tr>\n",
       "      <th>0</th>\n",
       "      <td>5</td>\n",
       "      <td>1.672698</td>\n",
       "    </tr>\n",
       "    <tr>\n",
       "      <th>1</th>\n",
       "      <td>4</td>\n",
       "      <td>1.678697</td>\n",
       "    </tr>\n",
       "    <tr>\n",
       "      <th>2</th>\n",
       "      <td>3</td>\n",
       "      <td>2.048090</td>\n",
       "    </tr>\n",
       "    <tr>\n",
       "      <th>3</th>\n",
       "      <td>2</td>\n",
       "      <td>2.506635</td>\n",
       "    </tr>\n",
       "    <tr>\n",
       "      <th>4</th>\n",
       "      <td>1</td>\n",
       "      <td>3.684641</td>\n",
       "    </tr>\n",
       "  </tbody>\n",
       "</table>\n",
       "</div>"
      ],
      "text/plain": [
       "   star_rating  average_helpfulness\n",
       "0            5             1.672698\n",
       "1            4             1.678697\n",
       "2            3             2.048090\n",
       "3            2             2.506635\n",
       "4            1             3.684641"
      ]
     },
     "execution_count": 65,
     "metadata": {},
     "output_type": "execute_result"
    }
   ],
   "source": [
    "helpfulness_query = \"\"\"\n",
    "SELECT star_rating, AVG(helpful_votes) AS average_helpfulness\n",
    "FROM {}.{}\n",
    "GROUP BY star_rating\n",
    "ORDER BY star_rating DESC\n",
    "\"\"\".format(database_name, table_name)\n",
    "\n",
    "helpfulness_df = pd.read_sql(helpfulness_query, conn)\n",
    "helpfulness_df.head()"
   ]
  },
  {
   "cell_type": "code",
   "execution_count": 66,
   "id": "45f415e3",
   "metadata": {},
   "outputs": [
    {
     "data": {
      "text/plain": [
       "Text(0, 0.5, 'Average Helpfulness')"
      ]
     },
     "execution_count": 66,
     "metadata": {},
     "output_type": "execute_result"
    },
    {
     "data": {
      "image/png": "[encoded data removed]",
      "text/plain": [
       "<Figure size 1008x504 with 1 Axes>"
      ]
     },
     "metadata": {
      "needs_background": "light"
     },
     "output_type": "display_data"
    }
   ],
   "source": [
    "helpfulness_df.plot.bar(x = 'star_rating', y = 'average_helpfulness', legend = None, width = 0.8)\n",
    "plt.gcf().set_size_inches(14,7)\n",
    "plt.xlabel('Star Rating')\n",
    "plt.ylabel('Average Helpfulness')"
   ]
  },
  {
   "attachments": {},
   "cell_type": "markdown",
   "id": "b619d0b5",
   "metadata": {},
   "source": [
    "Customers found that negative reivews are more helpful than positive reviews."
   ]
  },
  {
   "cell_type": "markdown",
   "id": "fb9e64d1",
   "metadata": {},
   "source": [
    "#### Which Products have the most helpful reviews?\n"
   ]
  },
  {
   "cell_type": "code",
   "execution_count": 67,
   "id": "30c488b3",
   "metadata": {},
   "outputs": [
    {
     "data": {
      "text/html": [
       "<div>\n",
       "<style scoped>\n",
       "    .dataframe tbody tr th:only-of-type {\n",
       "        vertical-align: middle;\n",
       "    }\n",
       "\n",
       "    .dataframe tbody tr th {\n",
       "        vertical-align: top;\n",
       "    }\n",
       "\n",
       "    .dataframe thead th {\n",
       "        text-align: right;\n",
       "    }\n",
       "</style>\n",
       "<table border=\"1\" class=\"dataframe\">\n",
       "  <thead>\n",
       "    <tr style=\"text-align: right;\">\n",
       "      <th></th>\n",
       "      <th>product_title</th>\n",
       "      <th>helpful_votes</th>\n",
       "    </tr>\n",
       "  </thead>\n",
       "  <tbody>\n",
       "    <tr>\n",
       "      <th>0</th>\n",
       "      <td>Kindle: Amazon's Original Wireless Reading Dev...</td>\n",
       "      <td>47524</td>\n",
       "    </tr>\n",
       "    <tr>\n",
       "      <th>1</th>\n",
       "      <td>BIC Cristal For Her Ball Pen, 1.0mm, Black, 16...</td>\n",
       "      <td>41393</td>\n",
       "    </tr>\n",
       "    <tr>\n",
       "      <th>2</th>\n",
       "      <td>The Mountain Kids 100% Cotton Three Wolf Moon ...</td>\n",
       "      <td>41278</td>\n",
       "    </tr>\n",
       "    <tr>\n",
       "      <th>3</th>\n",
       "      <td>Kindle Keyboard 3G, Free 3G + Wi-Fi, 6\" E Ink ...</td>\n",
       "      <td>31924</td>\n",
       "    </tr>\n",
       "    <tr>\n",
       "      <th>4</th>\n",
       "      <td>Kindle Fire HD 7\", Dolby Audio, Dual-Band Wi-Fi</td>\n",
       "      <td>31417</td>\n",
       "    </tr>\n",
       "    <tr>\n",
       "      <th>5</th>\n",
       "      <td>Kindle Fire (Previous Generation - 1st)</td>\n",
       "      <td>28611</td>\n",
       "    </tr>\n",
       "    <tr>\n",
       "      <th>6</th>\n",
       "      <td>Fifty Shades of Grey: Book One of the Fifty Sh...</td>\n",
       "      <td>27550</td>\n",
       "    </tr>\n",
       "    <tr>\n",
       "      <th>7</th>\n",
       "      <td>Wheelmate Laptop Steering Wheel Desk</td>\n",
       "      <td>26132</td>\n",
       "    </tr>\n",
       "    <tr>\n",
       "      <th>8</th>\n",
       "      <td>Kindle Wireless Reading Device (6\" Display, U....</td>\n",
       "      <td>24714</td>\n",
       "    </tr>\n",
       "    <tr>\n",
       "      <th>9</th>\n",
       "      <td>Tuscan Dairy Whole Vitamin D Milk, Gallon, 128 oz</td>\n",
       "      <td>23755</td>\n",
       "    </tr>\n",
       "  </tbody>\n",
       "</table>\n",
       "</div>"
      ],
      "text/plain": [
       "                                       product_title  helpful_votes\n",
       "0  Kindle: Amazon's Original Wireless Reading Dev...          47524\n",
       "1  BIC Cristal For Her Ball Pen, 1.0mm, Black, 16...          41393\n",
       "2  The Mountain Kids 100% Cotton Three Wolf Moon ...          41278\n",
       "3  Kindle Keyboard 3G, Free 3G + Wi-Fi, 6\" E Ink ...          31924\n",
       "4    Kindle Fire HD 7\", Dolby Audio, Dual-Band Wi-Fi          31417\n",
       "5            Kindle Fire (Previous Generation - 1st)          28611\n",
       "6  Fifty Shades of Grey: Book One of the Fifty Sh...          27550\n",
       "7               Wheelmate Laptop Steering Wheel Desk          26132\n",
       "8  Kindle Wireless Reading Device (6\" Display, U....          24714\n",
       "9  Tuscan Dairy Whole Vitamin D Milk, Gallon, 128 oz          23755"
      ]
     },
     "execution_count": 67,
     "metadata": {},
     "output_type": "execute_result"
    }
   ],
   "source": [
    "product_helpful_query = \"\"\"\n",
    "SELECT product_title, helpful_votes\n",
    "FROM {}.{}\n",
    "ORDER BY helpful_votes DESC\n",
    "LIMIT 10\n",
    "\"\"\".format(database_name, table_name)\n",
    "\n",
    "product_helpful_df = pd.read_sql(product_helpful_query, conn)\n",
    "product_helpful_df"
   ]
  },
  {
   "cell_type": "markdown",
   "id": "bae04d12",
   "metadata": {},
   "source": [
    "#### Customers who reviewed one product more than once"
   ]
  },
  {
   "attachments": {},
   "cell_type": "markdown",
   "id": "96d82206",
   "metadata": {},
   "source": [
    "Customers sometimes abuse the rating system by constantly reviewing a product multiple times giving the product a false rating. We can query which users have given multiple ratings to the same product."
   ]
  },
  {
   "cell_type": "code",
   "execution_count": 68,
   "id": "7769eac8",
   "metadata": {},
   "outputs": [
    {
     "data": {
      "text/html": [
       "<div>\n",
       "<style scoped>\n",
       "    .dataframe tbody tr th:only-of-type {\n",
       "        vertical-align: middle;\n",
       "    }\n",
       "\n",
       "    .dataframe tbody tr th {\n",
       "        vertical-align: top;\n",
       "    }\n",
       "\n",
       "    .dataframe thead th {\n",
       "        text-align: right;\n",
       "    }\n",
       "</style>\n",
       "<table border=\"1\" class=\"dataframe\">\n",
       "  <thead>\n",
       "    <tr style=\"text-align: right;\">\n",
       "      <th></th>\n",
       "      <th>customer_id</th>\n",
       "      <th>product_title</th>\n",
       "      <th>average_rating</th>\n",
       "      <th>number_of_reviews</th>\n",
       "    </tr>\n",
       "  </thead>\n",
       "  <tbody>\n",
       "    <tr>\n",
       "      <th>0</th>\n",
       "      <td>38118182</td>\n",
       "      <td>Pearl Harbor</td>\n",
       "      <td>4.230769</td>\n",
       "      <td>130</td>\n",
       "    </tr>\n",
       "    <tr>\n",
       "      <th>1</th>\n",
       "      <td>33132919</td>\n",
       "      <td>Shania Twain - Up (Live in Chicago)</td>\n",
       "      <td>5.000000</td>\n",
       "      <td>110</td>\n",
       "    </tr>\n",
       "    <tr>\n",
       "      <th>2</th>\n",
       "      <td>52895956</td>\n",
       "      <td>Frankenstein</td>\n",
       "      <td>3.020408</td>\n",
       "      <td>98</td>\n",
       "    </tr>\n",
       "    <tr>\n",
       "      <th>3</th>\n",
       "      <td>43622173</td>\n",
       "      <td>Sinner</td>\n",
       "      <td>4.975610</td>\n",
       "      <td>82</td>\n",
       "    </tr>\n",
       "    <tr>\n",
       "      <th>4</th>\n",
       "      <td>32330663</td>\n",
       "      <td>Reprise</td>\n",
       "      <td>5.000000</td>\n",
       "      <td>82</td>\n",
       "    </tr>\n",
       "  </tbody>\n",
       "</table>\n",
       "</div>"
      ],
      "text/plain": [
       "  customer_id                        product_title  average_rating  \\\n",
       "0    38118182                         Pearl Harbor        4.230769   \n",
       "1    33132919  Shania Twain - Up (Live in Chicago)        5.000000   \n",
       "2    52895956                         Frankenstein        3.020408   \n",
       "3    43622173                               Sinner        4.975610   \n",
       "4    32330663                              Reprise        5.000000   \n",
       "\n",
       "   number_of_reviews  \n",
       "0                130  \n",
       "1                110  \n",
       "2                 98  \n",
       "3                 82  \n",
       "4                 82  "
      ]
     },
     "execution_count": 68,
     "metadata": {},
     "output_type": "execute_result"
    }
   ],
   "source": [
    "customer_product_query = \"\"\"\n",
    "SELECT customer_id, product_title, AVG(star_rating) AS average_rating, COUNT(*) AS number_of_reviews\n",
    "FROM {}.{}\n",
    "GROUP BY customer_id, product_title\n",
    "HAVING COUNT(*) > 1\n",
    "ORDER BY number_of_reviews DESC\n",
    "\"\"\".format(database_name, table_name)\n",
    "\n",
    "customer_product_df = pd.read_sql(customer_product_query, conn)\n",
    "customer_product_df.head()"
   ]
  },
  {
   "cell_type": "markdown",
   "id": "5035474d",
   "metadata": {},
   "source": [
    "#### Distribution of Number of Words in Reviews"
   ]
  },
  {
   "cell_type": "code",
   "execution_count": null,
   "id": "2936b322",
   "metadata": {},
   "outputs": [],
   "source": [
    "num_words_query = \"\"\"\n",
    "SELECT CARDINALITY(SPLIT(review_body, ' ')) AS number_of_words\n",
    "FROM {}.{}\n",
    "\"\"\".format(database_name, table_name)\n",
    "\n",
    "num_words_df = pd.read_sql(num_words_query, conn)\n",
    "num_words_df.head()"
   ]
  },
  {
   "cell_type": "code",
   "execution_count": null,
   "id": "b1f48e9d",
   "metadata": {},
   "outputs": [],
   "source": []
  }
 ],
 "metadata": {
  "kernelspec": {
   "display_name": "conda_python3",
   "language": "python",
   "name": "conda_python3"
  },
  "language_info": {
   "codemirror_mode": {
    "name": "ipython",
    "version": 3
   },
   "file_extension": ".py",
   "mimetype": "text/x-python",
   "name": "python",
   "nbconvert_exporter": "python",
   "pygments_lexer": "ipython3",
   "version": "3.8.12"
  }
 },
 "nbformat": 4,
 "nbformat_minor": 5
}
