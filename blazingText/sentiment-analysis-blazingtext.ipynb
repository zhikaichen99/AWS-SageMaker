{
 "cells": [
  {
   "cell_type": "markdown",
   "id": "46b334d9",
   "metadata": {},
   "source": [
    "# Sentiment Analysis with BlazingText"
   ]
  },
  {
   "attachments": {},
   "cell_type": "markdown",
   "id": "a85677cf",
   "metadata": {},
   "source": [
    "Sentiment analysis on customer reviews using Amazon SageMaker BlazingText built-in algorithm.\n",
    "\n",
    "BlazingText is a variant of FastText which is based on word2vec.\n",
    "\n",
    "Model will look at customer feedback and classify whether the feedback is positive (1), neutral (0), or negative (-1) sentiment."
   ]
  },
  {
   "cell_type": "markdown",
   "id": "19edd047",
   "metadata": {},
   "source": [
    "# Import Libraries and Dataset"
   ]
  },
  {
   "cell_type": "code",
   "execution_count": 1,
   "id": "b7abdc0d",
   "metadata": {},
   "outputs": [],
   "source": [
    "import pandas as pd\n",
    "import numpy as np\n",
    "import seaborn as sns\n",
    "import matplotlib.pyplot as plt"
   ]
  },
  {
   "cell_type": "code",
   "execution_count": 2,
   "id": "f4966861",
   "metadata": {},
   "outputs": [],
   "source": [
    "data = pd.read_csv('data/Womens Clothing E-Commerce Reviews.csv')"
   ]
  },
  {
   "cell_type": "markdown",
   "id": "1583eff9",
   "metadata": {},
   "source": [
    "# Data Transformation"
   ]
  },
  {
   "cell_type": "code",
   "execution_count": 3,
   "id": "e8305810",
   "metadata": {},
   "outputs": [
    {
     "data": {
      "text/html": [
       "<div>\n",
       "<style scoped>\n",
       "    .dataframe tbody tr th:only-of-type {\n",
       "        vertical-align: middle;\n",
       "    }\n",
       "\n",
       "    .dataframe tbody tr th {\n",
       "        vertical-align: top;\n",
       "    }\n",
       "\n",
       "    .dataframe thead th {\n",
       "        text-align: right;\n",
       "    }\n",
       "</style>\n",
       "<table border=\"1\" class=\"dataframe\">\n",
       "  <thead>\n",
       "    <tr style=\"text-align: right;\">\n",
       "      <th></th>\n",
       "      <th>Unnamed: 0</th>\n",
       "      <th>Clothing ID</th>\n",
       "      <th>Age</th>\n",
       "      <th>Title</th>\n",
       "      <th>Review Text</th>\n",
       "      <th>Rating</th>\n",
       "      <th>Recommended IND</th>\n",
       "      <th>Positive Feedback Count</th>\n",
       "      <th>Division Name</th>\n",
       "      <th>Department Name</th>\n",
       "      <th>Class Name</th>\n",
       "    </tr>\n",
       "  </thead>\n",
       "  <tbody>\n",
       "    <tr>\n",
       "      <th>0</th>\n",
       "      <td>0</td>\n",
       "      <td>767</td>\n",
       "      <td>33</td>\n",
       "      <td>NaN</td>\n",
       "      <td>Absolutely wonderful - silky and sexy and comf...</td>\n",
       "      <td>4</td>\n",
       "      <td>1</td>\n",
       "      <td>0</td>\n",
       "      <td>Initmates</td>\n",
       "      <td>Intimate</td>\n",
       "      <td>Intimates</td>\n",
       "    </tr>\n",
       "    <tr>\n",
       "      <th>1</th>\n",
       "      <td>1</td>\n",
       "      <td>1080</td>\n",
       "      <td>34</td>\n",
       "      <td>NaN</td>\n",
       "      <td>Love this dress!  it's sooo pretty.  i happene...</td>\n",
       "      <td>5</td>\n",
       "      <td>1</td>\n",
       "      <td>4</td>\n",
       "      <td>General</td>\n",
       "      <td>Dresses</td>\n",
       "      <td>Dresses</td>\n",
       "    </tr>\n",
       "    <tr>\n",
       "      <th>2</th>\n",
       "      <td>2</td>\n",
       "      <td>1077</td>\n",
       "      <td>60</td>\n",
       "      <td>Some major design flaws</td>\n",
       "      <td>I had such high hopes for this dress and reall...</td>\n",
       "      <td>3</td>\n",
       "      <td>0</td>\n",
       "      <td>0</td>\n",
       "      <td>General</td>\n",
       "      <td>Dresses</td>\n",
       "      <td>Dresses</td>\n",
       "    </tr>\n",
       "    <tr>\n",
       "      <th>3</th>\n",
       "      <td>3</td>\n",
       "      <td>1049</td>\n",
       "      <td>50</td>\n",
       "      <td>My favorite buy!</td>\n",
       "      <td>I love, love, love this jumpsuit. it's fun, fl...</td>\n",
       "      <td>5</td>\n",
       "      <td>1</td>\n",
       "      <td>0</td>\n",
       "      <td>General Petite</td>\n",
       "      <td>Bottoms</td>\n",
       "      <td>Pants</td>\n",
       "    </tr>\n",
       "    <tr>\n",
       "      <th>4</th>\n",
       "      <td>4</td>\n",
       "      <td>847</td>\n",
       "      <td>47</td>\n",
       "      <td>Flattering shirt</td>\n",
       "      <td>This shirt is very flattering to all due to th...</td>\n",
       "      <td>5</td>\n",
       "      <td>1</td>\n",
       "      <td>6</td>\n",
       "      <td>General</td>\n",
       "      <td>Tops</td>\n",
       "      <td>Blouses</td>\n",
       "    </tr>\n",
       "  </tbody>\n",
       "</table>\n",
       "</div>"
      ],
      "text/plain": [
       "   Unnamed: 0  Clothing ID  Age                    Title  \\\n",
       "0           0          767   33                      NaN   \n",
       "1           1         1080   34                      NaN   \n",
       "2           2         1077   60  Some major design flaws   \n",
       "3           3         1049   50         My favorite buy!   \n",
       "4           4          847   47         Flattering shirt   \n",
       "\n",
       "                                         Review Text  Rating  Recommended IND  \\\n",
       "0  Absolutely wonderful - silky and sexy and comf...       4                1   \n",
       "1  Love this dress!  it's sooo pretty.  i happene...       5                1   \n",
       "2  I had such high hopes for this dress and reall...       3                0   \n",
       "3  I love, love, love this jumpsuit. it's fun, fl...       5                1   \n",
       "4  This shirt is very flattering to all due to th...       5                1   \n",
       "\n",
       "   Positive Feedback Count   Division Name Department Name Class Name  \n",
       "0                        0       Initmates        Intimate  Intimates  \n",
       "1                        4         General         Dresses    Dresses  \n",
       "2                        0         General         Dresses    Dresses  \n",
       "3                        0  General Petite         Bottoms      Pants  \n",
       "4                        6         General            Tops    Blouses  "
      ]
     },
     "execution_count": 3,
     "metadata": {},
     "output_type": "execute_result"
    }
   ],
   "source": [
    "data.head()"
   ]
  },
  {
   "cell_type": "markdown",
   "id": "c70bb7ae",
   "metadata": {},
   "source": [
    "We are going to transform the data to contain only *review_body, product_category,* and *sentiment* to simplify the task."
   ]
  },
  {
   "cell_type": "code",
   "execution_count": 4,
   "id": "6f1ca0e9",
   "metadata": {},
   "outputs": [],
   "source": [
    "data = data.rename(columns = {'Review Text': 'review_body',\n",
    "                             'Rating': 'star_rating',\n",
    "                             'Class Name': 'product_category'})\n",
    "\n",
    "data = data[['review_body', 'star_rating', 'product_category']]"
   ]
  },
  {
   "cell_type": "code",
   "execution_count": 5,
   "id": "a898f9c7",
   "metadata": {},
   "outputs": [
    {
     "data": {
      "text/plain": [
       "review_body         845\n",
       "star_rating           0\n",
       "product_category     14\n",
       "dtype: int64"
      ]
     },
     "execution_count": 5,
     "metadata": {},
     "output_type": "execute_result"
    }
   ],
   "source": [
    "data.isnull().sum()"
   ]
  },
  {
   "cell_type": "markdown",
   "id": "2bf8b583",
   "metadata": {},
   "source": [
    "Drop Null Values:"
   ]
  },
  {
   "cell_type": "code",
   "execution_count": 6,
   "id": "fa578336",
   "metadata": {},
   "outputs": [],
   "source": [
    "data.dropna(inplace = True)"
   ]
  },
  {
   "attachments": {},
   "cell_type": "markdown",
   "id": "ffc08361",
   "metadata": {},
   "source": [
    "We want to convert the star ratings into sentiment (positive, neutral, negative). "
   ]
  },
  {
   "cell_type": "code",
   "execution_count": 7,
   "id": "8d4c0e0b",
   "metadata": {},
   "outputs": [
    {
     "data": {
      "text/html": [
       "<div>\n",
       "<style scoped>\n",
       "    .dataframe tbody tr th:only-of-type {\n",
       "        vertical-align: middle;\n",
       "    }\n",
       "\n",
       "    .dataframe tbody tr th {\n",
       "        vertical-align: top;\n",
       "    }\n",
       "\n",
       "    .dataframe thead th {\n",
       "        text-align: right;\n",
       "    }\n",
       "</style>\n",
       "<table border=\"1\" class=\"dataframe\">\n",
       "  <thead>\n",
       "    <tr style=\"text-align: right;\">\n",
       "      <th></th>\n",
       "      <th>review_body</th>\n",
       "      <th>star_rating</th>\n",
       "      <th>product_category</th>\n",
       "      <th>sentiment</th>\n",
       "    </tr>\n",
       "  </thead>\n",
       "  <tbody>\n",
       "    <tr>\n",
       "      <th>0</th>\n",
       "      <td>Absolutely wonderful - silky and sexy and comf...</td>\n",
       "      <td>4</td>\n",
       "      <td>Intimates</td>\n",
       "      <td>1</td>\n",
       "    </tr>\n",
       "    <tr>\n",
       "      <th>1</th>\n",
       "      <td>Love this dress!  it's sooo pretty.  i happene...</td>\n",
       "      <td>5</td>\n",
       "      <td>Dresses</td>\n",
       "      <td>1</td>\n",
       "    </tr>\n",
       "    <tr>\n",
       "      <th>2</th>\n",
       "      <td>I had such high hopes for this dress and reall...</td>\n",
       "      <td>3</td>\n",
       "      <td>Dresses</td>\n",
       "      <td>0</td>\n",
       "    </tr>\n",
       "    <tr>\n",
       "      <th>3</th>\n",
       "      <td>I love, love, love this jumpsuit. it's fun, fl...</td>\n",
       "      <td>5</td>\n",
       "      <td>Pants</td>\n",
       "      <td>1</td>\n",
       "    </tr>\n",
       "    <tr>\n",
       "      <th>4</th>\n",
       "      <td>This shirt is very flattering to all due to th...</td>\n",
       "      <td>5</td>\n",
       "      <td>Blouses</td>\n",
       "      <td>1</td>\n",
       "    </tr>\n",
       "  </tbody>\n",
       "</table>\n",
       "</div>"
      ],
      "text/plain": [
       "                                         review_body  star_rating  \\\n",
       "0  Absolutely wonderful - silky and sexy and comf...            4   \n",
       "1  Love this dress!  it's sooo pretty.  i happene...            5   \n",
       "2  I had such high hopes for this dress and reall...            3   \n",
       "3  I love, love, love this jumpsuit. it's fun, fl...            5   \n",
       "4  This shirt is very flattering to all due to th...            5   \n",
       "\n",
       "  product_category  sentiment  \n",
       "0        Intimates          1  \n",
       "1          Dresses          1  \n",
       "2          Dresses          0  \n",
       "3            Pants          1  \n",
       "4          Blouses          1  "
      ]
     },
     "execution_count": 7,
     "metadata": {},
     "output_type": "execute_result"
    }
   ],
   "source": [
    "def convert_to_sentiment(rating):\n",
    "    if rating in {1,2}:\n",
    "        return -1\n",
    "    if rating == 3:\n",
    "        return 0\n",
    "    if rating in {4,5}:\n",
    "        return 1\n",
    "    \n",
    "data['sentiment'] = data['star_rating'].apply(lambda x: convert_to_sentiment(x))\n",
    "data.head()"
   ]
  },
  {
   "cell_type": "code",
   "execution_count": 8,
   "id": "567b824b",
   "metadata": {},
   "outputs": [],
   "source": [
    "data.drop(['star_rating'], inplace = True, axis = 1)"
   ]
  },
  {
   "cell_type": "code",
   "execution_count": 9,
   "id": "d0b901e4",
   "metadata": {},
   "outputs": [
    {
     "data": {
      "text/html": [
       "<div>\n",
       "<style scoped>\n",
       "    .dataframe tbody tr th:only-of-type {\n",
       "        vertical-align: middle;\n",
       "    }\n",
       "\n",
       "    .dataframe tbody tr th {\n",
       "        vertical-align: top;\n",
       "    }\n",
       "\n",
       "    .dataframe thead th {\n",
       "        text-align: right;\n",
       "    }\n",
       "</style>\n",
       "<table border=\"1\" class=\"dataframe\">\n",
       "  <thead>\n",
       "    <tr style=\"text-align: right;\">\n",
       "      <th></th>\n",
       "      <th>review_body</th>\n",
       "      <th>product_category</th>\n",
       "      <th>sentiment</th>\n",
       "    </tr>\n",
       "  </thead>\n",
       "  <tbody>\n",
       "    <tr>\n",
       "      <th>0</th>\n",
       "      <td>Absolutely wonderful - silky and sexy and comf...</td>\n",
       "      <td>Intimates</td>\n",
       "      <td>1</td>\n",
       "    </tr>\n",
       "    <tr>\n",
       "      <th>1</th>\n",
       "      <td>Love this dress!  it's sooo pretty.  i happene...</td>\n",
       "      <td>Dresses</td>\n",
       "      <td>1</td>\n",
       "    </tr>\n",
       "    <tr>\n",
       "      <th>2</th>\n",
       "      <td>I had such high hopes for this dress and reall...</td>\n",
       "      <td>Dresses</td>\n",
       "      <td>0</td>\n",
       "    </tr>\n",
       "    <tr>\n",
       "      <th>3</th>\n",
       "      <td>I love, love, love this jumpsuit. it's fun, fl...</td>\n",
       "      <td>Pants</td>\n",
       "      <td>1</td>\n",
       "    </tr>\n",
       "    <tr>\n",
       "      <th>4</th>\n",
       "      <td>This shirt is very flattering to all due to th...</td>\n",
       "      <td>Blouses</td>\n",
       "      <td>1</td>\n",
       "    </tr>\n",
       "  </tbody>\n",
       "</table>\n",
       "</div>"
      ],
      "text/plain": [
       "                                         review_body product_category  \\\n",
       "0  Absolutely wonderful - silky and sexy and comf...        Intimates   \n",
       "1  Love this dress!  it's sooo pretty.  i happene...          Dresses   \n",
       "2  I had such high hopes for this dress and reall...          Dresses   \n",
       "3  I love, love, love this jumpsuit. it's fun, fl...            Pants   \n",
       "4  This shirt is very flattering to all due to th...          Blouses   \n",
       "\n",
       "   sentiment  \n",
       "0          1  \n",
       "1          1  \n",
       "2          0  \n",
       "3          1  \n",
       "4          1  "
      ]
     },
     "execution_count": 9,
     "metadata": {},
     "output_type": "execute_result"
    }
   ],
   "source": [
    "data.head()"
   ]
  },
  {
   "attachments": {},
   "cell_type": "markdown",
   "id": "5c931b0e",
   "metadata": {},
   "source": [
    "# Data Exploration & Visualization"
   ]
  },
  {
   "cell_type": "code",
   "execution_count": 10,
   "id": "81fe1bdd",
   "metadata": {},
   "outputs": [
    {
     "data": {
      "text/plain": [
       "(22628, 3)"
      ]
     },
     "execution_count": 10,
     "metadata": {},
     "output_type": "execute_result"
    }
   ],
   "source": [
    "data.shape"
   ]
  },
  {
   "cell_type": "code",
   "execution_count": 11,
   "id": "073395fd",
   "metadata": {},
   "outputs": [
    {
     "name": "stdout",
     "output_type": "stream",
     "text": [
      "<class 'pandas.core.frame.DataFrame'>\n",
      "Int64Index: 22628 entries, 0 to 23485\n",
      "Data columns (total 3 columns):\n",
      " #   Column            Non-Null Count  Dtype \n",
      "---  ------            --------------  ----- \n",
      " 0   review_body       22628 non-null  object\n",
      " 1   product_category  22628 non-null  object\n",
      " 2   sentiment         22628 non-null  int64 \n",
      "dtypes: int64(1), object(2)\n",
      "memory usage: 707.1+ KB\n"
     ]
    }
   ],
   "source": [
    "data.info()"
   ]
  },
  {
   "cell_type": "code",
   "execution_count": 12,
   "id": "f3258ce4",
   "metadata": {},
   "outputs": [
    {
     "data": {
      "text/html": [
       "<div>\n",
       "<style scoped>\n",
       "    .dataframe tbody tr th:only-of-type {\n",
       "        vertical-align: middle;\n",
       "    }\n",
       "\n",
       "    .dataframe tbody tr th {\n",
       "        vertical-align: top;\n",
       "    }\n",
       "\n",
       "    .dataframe thead th {\n",
       "        text-align: right;\n",
       "    }\n",
       "</style>\n",
       "<table border=\"1\" class=\"dataframe\">\n",
       "  <thead>\n",
       "    <tr style=\"text-align: right;\">\n",
       "      <th></th>\n",
       "      <th>sentiment</th>\n",
       "    </tr>\n",
       "  </thead>\n",
       "  <tbody>\n",
       "    <tr>\n",
       "      <th>count</th>\n",
       "      <td>22628.000000</td>\n",
       "    </tr>\n",
       "    <tr>\n",
       "      <th>mean</th>\n",
       "      <td>0.665768</td>\n",
       "    </tr>\n",
       "    <tr>\n",
       "      <th>std</th>\n",
       "      <td>0.657278</td>\n",
       "    </tr>\n",
       "    <tr>\n",
       "      <th>min</th>\n",
       "      <td>-1.000000</td>\n",
       "    </tr>\n",
       "    <tr>\n",
       "      <th>25%</th>\n",
       "      <td>1.000000</td>\n",
       "    </tr>\n",
       "    <tr>\n",
       "      <th>50%</th>\n",
       "      <td>1.000000</td>\n",
       "    </tr>\n",
       "    <tr>\n",
       "      <th>75%</th>\n",
       "      <td>1.000000</td>\n",
       "    </tr>\n",
       "    <tr>\n",
       "      <th>max</th>\n",
       "      <td>1.000000</td>\n",
       "    </tr>\n",
       "  </tbody>\n",
       "</table>\n",
       "</div>"
      ],
      "text/plain": [
       "          sentiment\n",
       "count  22628.000000\n",
       "mean       0.665768\n",
       "std        0.657278\n",
       "min       -1.000000\n",
       "25%        1.000000\n",
       "50%        1.000000\n",
       "75%        1.000000\n",
       "max        1.000000"
      ]
     },
     "execution_count": 12,
     "metadata": {},
     "output_type": "execute_result"
    }
   ],
   "source": [
    "data.describe()"
   ]
  },
  {
   "cell_type": "code",
   "execution_count": 13,
   "id": "540c224f",
   "metadata": {},
   "outputs": [
    {
     "data": {
      "text/plain": [
       "<AxesSubplot:xlabel='sentiment', ylabel='count'>"
      ]
     },
     "execution_count": 13,
     "metadata": {},
     "output_type": "execute_result"
    },
    {
     "data": {
      "image/png": "[encoded data removed]",
      "text/plain": [
       "<Figure size 1008x504 with 1 Axes>"
      ]
     },
     "metadata": {
      "needs_background": "light"
     },
     "output_type": "display_data"
    }
   ],
   "source": [
    "# sentiment class histogram\n",
    "fig = plt.figure(figsize = (14,7))\n",
    "sns.countplot(x = data['sentiment'])"
   ]
  },
  {
   "attachments": {},
   "cell_type": "markdown",
   "id": "dce93da6",
   "metadata": {},
   "source": [
    "Our dataset is heavily imbalanced with the majority of the reviews falling under the positive sentiment class."
   ]
  },
  {
   "cell_type": "code",
   "execution_count": 14,
   "id": "9cfc0abd",
   "metadata": {},
   "outputs": [
    {
     "data": {
      "text/plain": [
       " 1    17435\n",
       " 0     2823\n",
       "-1     2370\n",
       "Name: sentiment, dtype: int64"
      ]
     },
     "execution_count": 14,
     "metadata": {},
     "output_type": "execute_result"
    }
   ],
   "source": [
    "data['sentiment'].value_counts()"
   ]
  },
  {
   "cell_type": "markdown",
   "id": "84b430d3",
   "metadata": {},
   "source": [
    "There are way more positive sentiment comments than neutral and negative."
   ]
  },
  {
   "attachments": {},
   "cell_type": "markdown",
   "id": "2304f351",
   "metadata": {},
   "source": [
    "Lets take a look at the average sentiment of the reviews for each product category."
   ]
  },
  {
   "cell_type": "code",
   "execution_count": 15,
   "id": "048f6e11",
   "metadata": {},
   "outputs": [
    {
     "data": {
      "text/html": [
       "<div>\n",
       "<style scoped>\n",
       "    .dataframe tbody tr th:only-of-type {\n",
       "        vertical-align: middle;\n",
       "    }\n",
       "\n",
       "    .dataframe tbody tr th {\n",
       "        vertical-align: top;\n",
       "    }\n",
       "\n",
       "    .dataframe thead th {\n",
       "        text-align: right;\n",
       "    }\n",
       "</style>\n",
       "<table border=\"1\" class=\"dataframe\">\n",
       "  <thead>\n",
       "    <tr style=\"text-align: right;\">\n",
       "      <th></th>\n",
       "      <th>sentiment</th>\n",
       "    </tr>\n",
       "    <tr>\n",
       "      <th>product_category</th>\n",
       "      <th></th>\n",
       "    </tr>\n",
       "  </thead>\n",
       "  <tbody>\n",
       "    <tr>\n",
       "      <th>Chemises</th>\n",
       "      <td>1.000000</td>\n",
       "    </tr>\n",
       "    <tr>\n",
       "      <th>Casual bottoms</th>\n",
       "      <td>1.000000</td>\n",
       "    </tr>\n",
       "    <tr>\n",
       "      <th>Layering</th>\n",
       "      <td>0.780303</td>\n",
       "    </tr>\n",
       "    <tr>\n",
       "      <th>Jeans</th>\n",
       "      <td>0.746377</td>\n",
       "    </tr>\n",
       "    <tr>\n",
       "      <th>Lounge</th>\n",
       "      <td>0.745889</td>\n",
       "    </tr>\n",
       "  </tbody>\n",
       "</table>\n",
       "</div>"
      ],
      "text/plain": [
       "                  sentiment\n",
       "product_category           \n",
       "Chemises           1.000000\n",
       "Casual bottoms     1.000000\n",
       "Layering           0.780303\n",
       "Jeans              0.746377\n",
       "Lounge             0.745889"
      ]
     },
     "execution_count": 15,
     "metadata": {},
     "output_type": "execute_result"
    }
   ],
   "source": [
    "# Plotting the average sentiment each product category gets on their reviews.\n",
    "data_prodCat = data.groupby('product_category').mean().sort_values(by = 'sentiment', ascending = False)\n",
    "data_prodCat.head()"
   ]
  },
  {
   "cell_type": "code",
   "execution_count": 16,
   "id": "57f28dee",
   "metadata": {},
   "outputs": [
    {
     "data": {
      "text/plain": [
       "<AxesSubplot:ylabel='product_category'>"
      ]
     },
     "execution_count": 16,
     "metadata": {},
     "output_type": "execute_result"
    },
    {
     "data": {
      "image/png": "[encoded data removed]",
      "text/plain": [
       "<Figure size 1008x504 with 1 Axes>"
      ]
     },
     "metadata": {
      "needs_background": "light"
     },
     "output_type": "display_data"
    }
   ],
   "source": [
    "fig = plt.figure(figsize = (14,7))\n",
    "data_prodCat.sentiment.plot(kind = 'barh')"
   ]
  },
  {
   "cell_type": "markdown",
   "id": "6e788fa3",
   "metadata": {},
   "source": [
    "We can see that Casual bottoms and Chemises receive very high reviews. However this could be due to the fact that there have been limited reviews written about those product categories. So whether this is the case, we can how many reviews each category has received."
   ]
  },
  {
   "attachments": {},
   "cell_type": "markdown",
   "id": "aa84f008",
   "metadata": {},
   "source": [
    "Lets view how many reviews each product category has received."
   ]
  },
  {
   "cell_type": "code",
   "execution_count": 17,
   "id": "89525807",
   "metadata": {},
   "outputs": [
    {
     "data": {
      "text/plain": [
       "<AxesSubplot:xlabel='count', ylabel='product_category'>"
      ]
     },
     "execution_count": 17,
     "metadata": {},
     "output_type": "execute_result"
    },
    {
     "data": {
      "image/png": "[encoded data removed]",
      "text/plain": [
       "<Figure size 1008x504 with 1 Axes>"
      ]
     },
     "metadata": {
      "needs_background": "light"
     },
     "output_type": "display_data"
    }
   ],
   "source": [
    "# Plotting the average sentiment each product category gets on their reviews.\n",
    "fig = plt.figure(figsize = (14,7))\n",
    "sns.countplot(data = data, y=\"product_category\")"
   ]
  },
  {
   "cell_type": "code",
   "execution_count": 18,
   "id": "02ee70ef",
   "metadata": {},
   "outputs": [
    {
     "data": {
      "text/plain": [
       "Dresses           6145\n",
       "Knits             4626\n",
       "Blouses           2983\n",
       "Sweaters          1380\n",
       "Pants             1350\n",
       "Jeans             1104\n",
       "Fine gauge        1059\n",
       "Skirts             903\n",
       "Jackets            683\n",
       "Lounge             669\n",
       "Swim               332\n",
       "Outerwear          319\n",
       "Shorts             304\n",
       "Sleep              214\n",
       "Legwear            158\n",
       "Intimates          147\n",
       "Layering           132\n",
       "Trend              118\n",
       "Casual bottoms       1\n",
       "Chemises             1\n",
       "Name: product_category, dtype: int64"
      ]
     },
     "execution_count": 18,
     "metadata": {},
     "output_type": "execute_result"
    }
   ],
   "source": [
    "data.product_category.value_counts()"
   ]
  },
  {
   "cell_type": "markdown",
   "id": "c956d172",
   "metadata": {},
   "source": [
    "This confirms our previous hypothesis that the reason why Casual bottoms and Chemises have such high mean for sentiment is because they have very limited reviews. We will remove those product categories"
   ]
  },
  {
   "cell_type": "code",
   "execution_count": 19,
   "id": "b8fe2c41",
   "metadata": {},
   "outputs": [],
   "source": [
    "data = data.groupby('product_category').filter(lambda reviews: len(reviews) > 10)"
   ]
  },
  {
   "attachments": {},
   "cell_type": "markdown",
   "id": "2283c991",
   "metadata": {},
   "source": [
    "Performing a breakdown of how many reviews of each sentiment different product categories has received."
   ]
  },
  {
   "cell_type": "code",
   "execution_count": 20,
   "id": "f0e4a8b6",
   "metadata": {},
   "outputs": [
    {
     "data": {
      "text/html": [
       "<div>\n",
       "<style scoped>\n",
       "    .dataframe tbody tr th:only-of-type {\n",
       "        vertical-align: middle;\n",
       "    }\n",
       "\n",
       "    .dataframe tbody tr th {\n",
       "        vertical-align: top;\n",
       "    }\n",
       "\n",
       "    .dataframe thead th {\n",
       "        text-align: right;\n",
       "    }\n",
       "</style>\n",
       "<table border=\"1\" class=\"dataframe\">\n",
       "  <thead>\n",
       "    <tr style=\"text-align: right;\">\n",
       "      <th></th>\n",
       "      <th></th>\n",
       "      <th>review_body</th>\n",
       "    </tr>\n",
       "    <tr>\n",
       "      <th>product_category</th>\n",
       "      <th>sentiment</th>\n",
       "      <th></th>\n",
       "    </tr>\n",
       "  </thead>\n",
       "  <tbody>\n",
       "    <tr>\n",
       "      <th rowspan=\"3\" valign=\"top\">Blouses</th>\n",
       "      <th>-1</th>\n",
       "      <td>343</td>\n",
       "    </tr>\n",
       "    <tr>\n",
       "      <th>0</th>\n",
       "      <td>384</td>\n",
       "    </tr>\n",
       "    <tr>\n",
       "      <th>1</th>\n",
       "      <td>2256</td>\n",
       "    </tr>\n",
       "    <tr>\n",
       "      <th rowspan=\"3\" valign=\"top\">Dresses</th>\n",
       "      <th>-1</th>\n",
       "      <td>681</td>\n",
       "    </tr>\n",
       "    <tr>\n",
       "      <th>0</th>\n",
       "      <td>830</td>\n",
       "    </tr>\n",
       "    <tr>\n",
       "      <th>1</th>\n",
       "      <td>4634</td>\n",
       "    </tr>\n",
       "    <tr>\n",
       "      <th rowspan=\"3\" valign=\"top\">Fine gauge</th>\n",
       "      <th>-1</th>\n",
       "      <td>104</td>\n",
       "    </tr>\n",
       "    <tr>\n",
       "      <th>0</th>\n",
       "      <td>118</td>\n",
       "    </tr>\n",
       "    <tr>\n",
       "      <th>1</th>\n",
       "      <td>837</td>\n",
       "    </tr>\n",
       "    <tr>\n",
       "      <th rowspan=\"3\" valign=\"top\">Intimates</th>\n",
       "      <th>-1</th>\n",
       "      <td>14</td>\n",
       "    </tr>\n",
       "    <tr>\n",
       "      <th>0</th>\n",
       "      <td>16</td>\n",
       "    </tr>\n",
       "    <tr>\n",
       "      <th>1</th>\n",
       "      <td>117</td>\n",
       "    </tr>\n",
       "    <tr>\n",
       "      <th rowspan=\"3\" valign=\"top\">Jackets</th>\n",
       "      <th>-1</th>\n",
       "      <td>72</td>\n",
       "    </tr>\n",
       "    <tr>\n",
       "      <th>0</th>\n",
       "      <td>61</td>\n",
       "    </tr>\n",
       "    <tr>\n",
       "      <th>1</th>\n",
       "      <td>550</td>\n",
       "    </tr>\n",
       "    <tr>\n",
       "      <th rowspan=\"3\" valign=\"top\">Jeans</th>\n",
       "      <th>-1</th>\n",
       "      <td>85</td>\n",
       "    </tr>\n",
       "    <tr>\n",
       "      <th>0</th>\n",
       "      <td>110</td>\n",
       "    </tr>\n",
       "    <tr>\n",
       "      <th>1</th>\n",
       "      <td>909</td>\n",
       "    </tr>\n",
       "    <tr>\n",
       "      <th rowspan=\"3\" valign=\"top\">Knits</th>\n",
       "      <th>-1</th>\n",
       "      <td>498</td>\n",
       "    </tr>\n",
       "    <tr>\n",
       "      <th>0</th>\n",
       "      <td>605</td>\n",
       "    </tr>\n",
       "    <tr>\n",
       "      <th>1</th>\n",
       "      <td>3523</td>\n",
       "    </tr>\n",
       "    <tr>\n",
       "      <th rowspan=\"3\" valign=\"top\">Layering</th>\n",
       "      <th>-1</th>\n",
       "      <td>10</td>\n",
       "    </tr>\n",
       "    <tr>\n",
       "      <th>0</th>\n",
       "      <td>9</td>\n",
       "    </tr>\n",
       "    <tr>\n",
       "      <th>1</th>\n",
       "      <td>113</td>\n",
       "    </tr>\n",
       "    <tr>\n",
       "      <th rowspan=\"3\" valign=\"top\">Legwear</th>\n",
       "      <th>-1</th>\n",
       "      <td>16</td>\n",
       "    </tr>\n",
       "    <tr>\n",
       "      <th>0</th>\n",
       "      <td>16</td>\n",
       "    </tr>\n",
       "    <tr>\n",
       "      <th>1</th>\n",
       "      <td>126</td>\n",
       "    </tr>\n",
       "    <tr>\n",
       "      <th rowspan=\"3\" valign=\"top\">Lounge</th>\n",
       "      <th>-1</th>\n",
       "      <td>46</td>\n",
       "    </tr>\n",
       "    <tr>\n",
       "      <th>0</th>\n",
       "      <td>78</td>\n",
       "    </tr>\n",
       "    <tr>\n",
       "      <th>1</th>\n",
       "      <td>545</td>\n",
       "    </tr>\n",
       "    <tr>\n",
       "      <th rowspan=\"3\" valign=\"top\">Outerwear</th>\n",
       "      <th>-1</th>\n",
       "      <td>36</td>\n",
       "    </tr>\n",
       "    <tr>\n",
       "      <th>0</th>\n",
       "      <td>29</td>\n",
       "    </tr>\n",
       "    <tr>\n",
       "      <th>1</th>\n",
       "      <td>254</td>\n",
       "    </tr>\n",
       "    <tr>\n",
       "      <th rowspan=\"3\" valign=\"top\">Pants</th>\n",
       "      <th>-1</th>\n",
       "      <td>122</td>\n",
       "    </tr>\n",
       "    <tr>\n",
       "      <th>0</th>\n",
       "      <td>154</td>\n",
       "    </tr>\n",
       "    <tr>\n",
       "      <th>1</th>\n",
       "      <td>1074</td>\n",
       "    </tr>\n",
       "    <tr>\n",
       "      <th rowspan=\"3\" valign=\"top\">Shorts</th>\n",
       "      <th>-1</th>\n",
       "      <td>25</td>\n",
       "    </tr>\n",
       "    <tr>\n",
       "      <th>0</th>\n",
       "      <td>39</td>\n",
       "    </tr>\n",
       "    <tr>\n",
       "      <th>1</th>\n",
       "      <td>240</td>\n",
       "    </tr>\n",
       "    <tr>\n",
       "      <th rowspan=\"3\" valign=\"top\">Skirts</th>\n",
       "      <th>-1</th>\n",
       "      <td>85</td>\n",
       "    </tr>\n",
       "    <tr>\n",
       "      <th>0</th>\n",
       "      <td>104</td>\n",
       "    </tr>\n",
       "    <tr>\n",
       "      <th>1</th>\n",
       "      <td>714</td>\n",
       "    </tr>\n",
       "    <tr>\n",
       "      <th rowspan=\"3\" valign=\"top\">Sleep</th>\n",
       "      <th>-1</th>\n",
       "      <td>23</td>\n",
       "    </tr>\n",
       "    <tr>\n",
       "      <th>0</th>\n",
       "      <td>16</td>\n",
       "    </tr>\n",
       "    <tr>\n",
       "      <th>1</th>\n",
       "      <td>175</td>\n",
       "    </tr>\n",
       "    <tr>\n",
       "      <th rowspan=\"3\" valign=\"top\">Sweaters</th>\n",
       "      <th>-1</th>\n",
       "      <td>151</td>\n",
       "    </tr>\n",
       "    <tr>\n",
       "      <th>0</th>\n",
       "      <td>193</td>\n",
       "    </tr>\n",
       "    <tr>\n",
       "      <th>1</th>\n",
       "      <td>1036</td>\n",
       "    </tr>\n",
       "    <tr>\n",
       "      <th rowspan=\"3\" valign=\"top\">Swim</th>\n",
       "      <th>-1</th>\n",
       "      <td>38</td>\n",
       "    </tr>\n",
       "    <tr>\n",
       "      <th>0</th>\n",
       "      <td>42</td>\n",
       "    </tr>\n",
       "    <tr>\n",
       "      <th>1</th>\n",
       "      <td>252</td>\n",
       "    </tr>\n",
       "    <tr>\n",
       "      <th rowspan=\"3\" valign=\"top\">Trend</th>\n",
       "      <th>-1</th>\n",
       "      <td>21</td>\n",
       "    </tr>\n",
       "    <tr>\n",
       "      <th>0</th>\n",
       "      <td>19</td>\n",
       "    </tr>\n",
       "    <tr>\n",
       "      <th>1</th>\n",
       "      <td>78</td>\n",
       "    </tr>\n",
       "  </tbody>\n",
       "</table>\n",
       "</div>"
      ],
      "text/plain": [
       "                            review_body\n",
       "product_category sentiment             \n",
       "Blouses          -1                 343\n",
       "                  0                 384\n",
       "                  1                2256\n",
       "Dresses          -1                 681\n",
       "                  0                 830\n",
       "                  1                4634\n",
       "Fine gauge       -1                 104\n",
       "                  0                 118\n",
       "                  1                 837\n",
       "Intimates        -1                  14\n",
       "                  0                  16\n",
       "                  1                 117\n",
       "Jackets          -1                  72\n",
       "                  0                  61\n",
       "                  1                 550\n",
       "Jeans            -1                  85\n",
       "                  0                 110\n",
       "                  1                 909\n",
       "Knits            -1                 498\n",
       "                  0                 605\n",
       "                  1                3523\n",
       "Layering         -1                  10\n",
       "                  0                   9\n",
       "                  1                 113\n",
       "Legwear          -1                  16\n",
       "                  0                  16\n",
       "                  1                 126\n",
       "Lounge           -1                  46\n",
       "                  0                  78\n",
       "                  1                 545\n",
       "Outerwear        -1                  36\n",
       "                  0                  29\n",
       "                  1                 254\n",
       "Pants            -1                 122\n",
       "                  0                 154\n",
       "                  1                1074\n",
       "Shorts           -1                  25\n",
       "                  0                  39\n",
       "                  1                 240\n",
       "Skirts           -1                  85\n",
       "                  0                 104\n",
       "                  1                 714\n",
       "Sleep            -1                  23\n",
       "                  0                  16\n",
       "                  1                 175\n",
       "Sweaters         -1                 151\n",
       "                  0                 193\n",
       "                  1                1036\n",
       "Swim             -1                  38\n",
       "                  0                  42\n",
       "                  1                 252\n",
       "Trend            -1                  21\n",
       "                  0                  19\n",
       "                  1                  78"
      ]
     },
     "execution_count": 20,
     "metadata": {},
     "output_type": "execute_result"
    }
   ],
   "source": [
    "# get breakdown of sentiments for each product category\n",
    "data_sent_cat = data.groupby(['product_category','sentiment']).count()\n",
    "data_sent_cat"
   ]
  },
  {
   "cell_type": "code",
   "execution_count": 21,
   "id": "fcc278d3",
   "metadata": {},
   "outputs": [],
   "source": [
    "product_categories = data.product_category.unique().tolist()\n",
    "\n",
    "distribution = {}\n",
    "for category in product_categories:\n",
    "    distribution[category] = data_sent_cat.loc[category]['review_body'].values.tolist()"
   ]
  },
  {
   "cell_type": "code",
   "execution_count": 22,
   "id": "b46e2874",
   "metadata": {},
   "outputs": [
    {
     "data": {
      "text/plain": [
       "{'Intimates': [14, 16, 117],\n",
       " 'Dresses': [681, 830, 4634],\n",
       " 'Pants': [122, 154, 1074],\n",
       " 'Blouses': [343, 384, 2256],\n",
       " 'Knits': [498, 605, 3523],\n",
       " 'Outerwear': [36, 29, 254],\n",
       " 'Lounge': [46, 78, 545],\n",
       " 'Sweaters': [151, 193, 1036],\n",
       " 'Skirts': [85, 104, 714],\n",
       " 'Fine gauge': [104, 118, 837],\n",
       " 'Sleep': [23, 16, 175],\n",
       " 'Jackets': [72, 61, 550],\n",
       " 'Swim': [38, 42, 252],\n",
       " 'Trend': [21, 19, 78],\n",
       " 'Jeans': [85, 110, 909],\n",
       " 'Legwear': [16, 16, 126],\n",
       " 'Shorts': [25, 39, 240],\n",
       " 'Layering': [10, 9, 113]}"
      ]
     },
     "execution_count": 22,
     "metadata": {},
     "output_type": "execute_result"
    }
   ],
   "source": [
    "distribution"
   ]
  },
  {
   "cell_type": "code",
   "execution_count": 23,
   "id": "7f37bbe8",
   "metadata": {},
   "outputs": [
    {
     "data": {
      "text/html": [
       "<div>\n",
       "<style scoped>\n",
       "    .dataframe tbody tr th:only-of-type {\n",
       "        vertical-align: middle;\n",
       "    }\n",
       "\n",
       "    .dataframe tbody tr th {\n",
       "        vertical-align: top;\n",
       "    }\n",
       "\n",
       "    .dataframe thead th {\n",
       "        text-align: right;\n",
       "    }\n",
       "</style>\n",
       "<table border=\"1\" class=\"dataframe\">\n",
       "  <thead>\n",
       "    <tr style=\"text-align: right;\">\n",
       "      <th></th>\n",
       "      <th>-1</th>\n",
       "      <th>0</th>\n",
       "      <th>1</th>\n",
       "    </tr>\n",
       "  </thead>\n",
       "  <tbody>\n",
       "    <tr>\n",
       "      <th>Intimates</th>\n",
       "      <td>9.523810</td>\n",
       "      <td>10.884354</td>\n",
       "      <td>79.591837</td>\n",
       "    </tr>\n",
       "    <tr>\n",
       "      <th>Dresses</th>\n",
       "      <td>11.082181</td>\n",
       "      <td>13.506916</td>\n",
       "      <td>75.410903</td>\n",
       "    </tr>\n",
       "    <tr>\n",
       "      <th>Pants</th>\n",
       "      <td>9.037037</td>\n",
       "      <td>11.407407</td>\n",
       "      <td>79.555556</td>\n",
       "    </tr>\n",
       "    <tr>\n",
       "      <th>Blouses</th>\n",
       "      <td>11.498491</td>\n",
       "      <td>12.872947</td>\n",
       "      <td>75.628562</td>\n",
       "    </tr>\n",
       "    <tr>\n",
       "      <th>Knits</th>\n",
       "      <td>10.765240</td>\n",
       "      <td>13.078253</td>\n",
       "      <td>76.156507</td>\n",
       "    </tr>\n",
       "    <tr>\n",
       "      <th>Outerwear</th>\n",
       "      <td>11.285266</td>\n",
       "      <td>9.090909</td>\n",
       "      <td>79.623824</td>\n",
       "    </tr>\n",
       "    <tr>\n",
       "      <th>Lounge</th>\n",
       "      <td>6.875934</td>\n",
       "      <td>11.659193</td>\n",
       "      <td>81.464873</td>\n",
       "    </tr>\n",
       "    <tr>\n",
       "      <th>Sweaters</th>\n",
       "      <td>10.942029</td>\n",
       "      <td>13.985507</td>\n",
       "      <td>75.072464</td>\n",
       "    </tr>\n",
       "    <tr>\n",
       "      <th>Skirts</th>\n",
       "      <td>9.413068</td>\n",
       "      <td>11.517165</td>\n",
       "      <td>79.069767</td>\n",
       "    </tr>\n",
       "    <tr>\n",
       "      <th>Fine gauge</th>\n",
       "      <td>9.820585</td>\n",
       "      <td>11.142587</td>\n",
       "      <td>79.036827</td>\n",
       "    </tr>\n",
       "    <tr>\n",
       "      <th>Sleep</th>\n",
       "      <td>10.747664</td>\n",
       "      <td>7.476636</td>\n",
       "      <td>81.775701</td>\n",
       "    </tr>\n",
       "    <tr>\n",
       "      <th>Jackets</th>\n",
       "      <td>10.541728</td>\n",
       "      <td>8.931186</td>\n",
       "      <td>80.527086</td>\n",
       "    </tr>\n",
       "    <tr>\n",
       "      <th>Swim</th>\n",
       "      <td>11.445783</td>\n",
       "      <td>12.650602</td>\n",
       "      <td>75.903614</td>\n",
       "    </tr>\n",
       "    <tr>\n",
       "      <th>Trend</th>\n",
       "      <td>17.796610</td>\n",
       "      <td>16.101695</td>\n",
       "      <td>66.101695</td>\n",
       "    </tr>\n",
       "    <tr>\n",
       "      <th>Jeans</th>\n",
       "      <td>7.699275</td>\n",
       "      <td>9.963768</td>\n",
       "      <td>82.336957</td>\n",
       "    </tr>\n",
       "    <tr>\n",
       "      <th>Legwear</th>\n",
       "      <td>10.126582</td>\n",
       "      <td>10.126582</td>\n",
       "      <td>79.746835</td>\n",
       "    </tr>\n",
       "    <tr>\n",
       "      <th>Shorts</th>\n",
       "      <td>8.223684</td>\n",
       "      <td>12.828947</td>\n",
       "      <td>78.947368</td>\n",
       "    </tr>\n",
       "    <tr>\n",
       "      <th>Layering</th>\n",
       "      <td>7.575758</td>\n",
       "      <td>6.818182</td>\n",
       "      <td>85.606061</td>\n",
       "    </tr>\n",
       "  </tbody>\n",
       "</table>\n",
       "</div>"
      ],
      "text/plain": [
       "                   -1          0          1\n",
       "Intimates    9.523810  10.884354  79.591837\n",
       "Dresses     11.082181  13.506916  75.410903\n",
       "Pants        9.037037  11.407407  79.555556\n",
       "Blouses     11.498491  12.872947  75.628562\n",
       "Knits       10.765240  13.078253  76.156507\n",
       "Outerwear   11.285266   9.090909  79.623824\n",
       "Lounge       6.875934  11.659193  81.464873\n",
       "Sweaters    10.942029  13.985507  75.072464\n",
       "Skirts       9.413068  11.517165  79.069767\n",
       "Fine gauge   9.820585  11.142587  79.036827\n",
       "Sleep       10.747664   7.476636  81.775701\n",
       "Jackets     10.541728   8.931186  80.527086\n",
       "Swim        11.445783  12.650602  75.903614\n",
       "Trend       17.796610  16.101695  66.101695\n",
       "Jeans        7.699275   9.963768  82.336957\n",
       "Legwear     10.126582  10.126582  79.746835\n",
       "Shorts       8.223684  12.828947  78.947368\n",
       "Layering     7.575758   6.818182  85.606061"
      ]
     },
     "execution_count": 23,
     "metadata": {},
     "output_type": "execute_result"
    }
   ],
   "source": [
    "# Get the percentage of sentiment classes for each product category\n",
    "df_distribution = pd.DataFrame(distribution).transpose().apply(\n",
    "        lambda num_sentiments: num_sentiments/sum(num_sentiments)*100, axis = 1)\n",
    "\n",
    "df_distribution.columns = ['-1', '0', '1']\n",
    "df_distribution"
   ]
  },
  {
   "cell_type": "code",
   "execution_count": 24,
   "id": "02266840",
   "metadata": {},
   "outputs": [
    {
     "data": {
      "text/plain": [
       "<Figure size 1008x504 with 0 Axes>"
      ]
     },
     "metadata": {},
     "output_type": "display_data"
    },
    {
     "data": {
      "image/png": "[encoded data removed]",
      "text/plain": [
       "<Figure size 1440x720 with 1 Axes>"
      ]
     },
     "metadata": {
      "needs_background": "light"
     },
     "output_type": "display_data"
    }
   ],
   "source": [
    "# Plot the distributions of sentiment class for each product category\n",
    "fig = plt.figure(figsize = (14,7))\n",
    "\n",
    "df_distribution.plot(kind = 'barh',\n",
    "                     stacked = True,\n",
    "                     color = ['orange', 'yellow', 'green'])\n",
    "\n",
    "plt.title('Distribution of Sentiment Class for each Product Category')\n",
    "plt.legend(labels = ['Negative', 'Neutral', 'Positive'],\n",
    "          loc = 'upper left',\n",
    "          bbox_to_anchor = (1.04,1))\n",
    "\n",
    "plt.xlabel('Sentiment Percentage')\n",
    "plt.ylabel('Product Category')\n",
    "plt.gcf().set_size_inches(20,10)\n",
    "plt.show()"
   ]
  },
  {
   "attachments": {},
   "cell_type": "markdown",
   "id": "a0192ac4",
   "metadata": {},
   "source": [
    "We can take a look at the *review_body* feature and see what is the distribution of words per product review."
   ]
  },
  {
   "cell_type": "code",
   "execution_count": 25,
   "id": "20bf7d61",
   "metadata": {},
   "outputs": [],
   "source": [
    "# Analyze the distribution of words in reviews\n",
    "data_count = data.copy()\n",
    "data_count['num_words'] = data_count['review_body'].apply(lambda review: len(review.split()))"
   ]
  },
  {
   "cell_type": "code",
   "execution_count": 26,
   "id": "30d3dd52",
   "metadata": {},
   "outputs": [
    {
     "data": {
      "text/html": [
       "<div>\n",
       "<style scoped>\n",
       "    .dataframe tbody tr th:only-of-type {\n",
       "        vertical-align: middle;\n",
       "    }\n",
       "\n",
       "    .dataframe tbody tr th {\n",
       "        vertical-align: top;\n",
       "    }\n",
       "\n",
       "    .dataframe thead th {\n",
       "        text-align: right;\n",
       "    }\n",
       "</style>\n",
       "<table border=\"1\" class=\"dataframe\">\n",
       "  <thead>\n",
       "    <tr style=\"text-align: right;\">\n",
       "      <th></th>\n",
       "      <th>review_body</th>\n",
       "      <th>product_category</th>\n",
       "      <th>sentiment</th>\n",
       "      <th>num_words</th>\n",
       "    </tr>\n",
       "  </thead>\n",
       "  <tbody>\n",
       "    <tr>\n",
       "      <th>0</th>\n",
       "      <td>Absolutely wonderful - silky and sexy and comf...</td>\n",
       "      <td>Intimates</td>\n",
       "      <td>1</td>\n",
       "      <td>8</td>\n",
       "    </tr>\n",
       "    <tr>\n",
       "      <th>1</th>\n",
       "      <td>Love this dress!  it's sooo pretty.  i happene...</td>\n",
       "      <td>Dresses</td>\n",
       "      <td>1</td>\n",
       "      <td>62</td>\n",
       "    </tr>\n",
       "    <tr>\n",
       "      <th>2</th>\n",
       "      <td>I had such high hopes for this dress and reall...</td>\n",
       "      <td>Dresses</td>\n",
       "      <td>0</td>\n",
       "      <td>98</td>\n",
       "    </tr>\n",
       "    <tr>\n",
       "      <th>3</th>\n",
       "      <td>I love, love, love this jumpsuit. it's fun, fl...</td>\n",
       "      <td>Pants</td>\n",
       "      <td>1</td>\n",
       "      <td>22</td>\n",
       "    </tr>\n",
       "    <tr>\n",
       "      <th>4</th>\n",
       "      <td>This shirt is very flattering to all due to th...</td>\n",
       "      <td>Blouses</td>\n",
       "      <td>1</td>\n",
       "      <td>36</td>\n",
       "    </tr>\n",
       "  </tbody>\n",
       "</table>\n",
       "</div>"
      ],
      "text/plain": [
       "                                         review_body product_category  \\\n",
       "0  Absolutely wonderful - silky and sexy and comf...        Intimates   \n",
       "1  Love this dress!  it's sooo pretty.  i happene...          Dresses   \n",
       "2  I had such high hopes for this dress and reall...          Dresses   \n",
       "3  I love, love, love this jumpsuit. it's fun, fl...            Pants   \n",
       "4  This shirt is very flattering to all due to th...          Blouses   \n",
       "\n",
       "   sentiment  num_words  \n",
       "0          1          8  \n",
       "1          1         62  \n",
       "2          0         98  \n",
       "3          1         22  \n",
       "4          1         36  "
      ]
     },
     "execution_count": 26,
     "metadata": {},
     "output_type": "execute_result"
    }
   ],
   "source": [
    "data_count.head()"
   ]
  },
  {
   "cell_type": "code",
   "execution_count": 27,
   "id": "2f540d21",
   "metadata": {},
   "outputs": [
    {
     "data": {
      "text/plain": [
       "count    22626.000000\n",
       "mean        60.214665\n",
       "std         28.532682\n",
       "min          2.000000\n",
       "10%         22.000000\n",
       "20%         31.000000\n",
       "30%         40.000000\n",
       "40%         49.000000\n",
       "50%         59.000000\n",
       "60%         69.000000\n",
       "70%         82.000000\n",
       "80%         93.000000\n",
       "90%         98.000000\n",
       "100%       115.000000\n",
       "max        115.000000\n",
       "Name: num_words, dtype: float64"
      ]
     },
     "execution_count": 27,
     "metadata": {},
     "output_type": "execute_result"
    }
   ],
   "source": [
    "# Get descriptive statistics of number of words for reviews\n",
    "summary = data_count['num_words'].describe(percentiles = [0.10, 0.20, 0.30, 0.40, 0.50, 0.60, 0.70, 0.80, 0.90, 1.00])\n",
    "summary"
   ]
  },
  {
   "cell_type": "code",
   "execution_count": 28,
   "id": "f2b2a296",
   "metadata": {},
   "outputs": [
    {
     "data": {
      "text/plain": [
       "Text(0.5, 0, 'Number of Words')"
      ]
     },
     "execution_count": 28,
     "metadata": {},
     "output_type": "execute_result"
    },
    {
     "data": {
      "image/png": "[encoded data removed]",
      "text/plain": [
       "<Figure size 1008x504 with 1 Axes>"
      ]
     },
     "metadata": {
      "needs_background": "light"
     },
     "output_type": "display_data"
    }
   ],
   "source": [
    "# Plot the distribution of number of words in reviews\n",
    "plt.figure(figsize = (14,7))\n",
    "data_count['num_words'].plot.hist(bins = 50).axvline(x = summary['100%'], c = 'red')\n",
    "\n",
    "plt.xlabel('Number of Words')"
   ]
  },
  {
   "attachments": {},
   "cell_type": "markdown",
   "id": "3d92646b",
   "metadata": {},
   "source": [
    "Earlier we saw that there was class imbalance with the sentiment feature. We break this down by product_category"
   ]
  },
  {
   "cell_type": "code",
   "execution_count": 29,
   "id": "d4892160",
   "metadata": {},
   "outputs": [
    {
     "data": {
      "text/plain": [
       "<matplotlib.legend.Legend at 0x7fbb418be850>"
      ]
     },
     "execution_count": 29,
     "metadata": {},
     "output_type": "execute_result"
    },
    {
     "data": {
      "image/png": "[encoded data removed]",
      "text/plain": [
       "<Figure size 1008x504 with 1 Axes>"
      ]
     },
     "metadata": {
      "needs_background": "light"
     },
     "output_type": "display_data"
    }
   ],
   "source": [
    "# Visualize the distribution of sentiment per category class\n",
    "plt.figure(figsize = (14,7))\n",
    "sns.countplot(data = data, x = 'sentiment', hue = 'product_category')\n",
    "plt.legend(loc = 'upper right', bbox_to_anchor = (1.3,1.1))"
   ]
  },
  {
   "attachments": {},
   "cell_type": "markdown",
   "id": "b7c55b9c",
   "metadata": {},
   "source": [
    "Balance the dataset by product_category and sentiment."
   ]
  },
  {
   "cell_type": "code",
   "execution_count": 43,
   "id": "47285704",
   "metadata": {},
   "outputs": [
    {
     "data": {
      "text/html": [
       "<div>\n",
       "<style scoped>\n",
       "    .dataframe tbody tr th:only-of-type {\n",
       "        vertical-align: middle;\n",
       "    }\n",
       "\n",
       "    .dataframe tbody tr th {\n",
       "        vertical-align: top;\n",
       "    }\n",
       "\n",
       "    .dataframe thead th {\n",
       "        text-align: right;\n",
       "    }\n",
       "</style>\n",
       "<table border=\"1\" class=\"dataframe\">\n",
       "  <thead>\n",
       "    <tr style=\"text-align: right;\">\n",
       "      <th></th>\n",
       "      <th></th>\n",
       "      <th></th>\n",
       "      <th>review_body</th>\n",
       "      <th>product_category</th>\n",
       "      <th>sentiment</th>\n",
       "    </tr>\n",
       "    <tr>\n",
       "      <th>product_category</th>\n",
       "      <th>sentiment</th>\n",
       "      <th></th>\n",
       "      <th></th>\n",
       "      <th></th>\n",
       "      <th></th>\n",
       "    </tr>\n",
       "  </thead>\n",
       "  <tbody>\n",
       "    <tr>\n",
       "      <th rowspan=\"5\" valign=\"top\">Blouses</th>\n",
       "      <th rowspan=\"5\" valign=\"top\">-1</th>\n",
       "      <th>0</th>\n",
       "      <td>As someone with a large chest and a smaller wa...</td>\n",
       "      <td>Blouses</td>\n",
       "      <td>-1</td>\n",
       "    </tr>\n",
       "    <tr>\n",
       "      <th>1</th>\n",
       "      <td>But it runs super small. i wear a medium for e...</td>\n",
       "      <td>Blouses</td>\n",
       "      <td>-1</td>\n",
       "    </tr>\n",
       "    <tr>\n",
       "      <th>2</th>\n",
       "      <td>I bought this top thinking i would wear this a...</td>\n",
       "      <td>Blouses</td>\n",
       "      <td>-1</td>\n",
       "    </tr>\n",
       "    <tr>\n",
       "      <th>3</th>\n",
       "      <td>I saw this very shirt online &amp; thought it was ...</td>\n",
       "      <td>Blouses</td>\n",
       "      <td>-1</td>\n",
       "    </tr>\n",
       "    <tr>\n",
       "      <th>4</th>\n",
       "      <td>Material was a tad rough for my liking. the co...</td>\n",
       "      <td>Blouses</td>\n",
       "      <td>-1</td>\n",
       "    </tr>\n",
       "    <tr>\n",
       "      <th>...</th>\n",
       "      <th>...</th>\n",
       "      <th>...</th>\n",
       "      <td>...</td>\n",
       "      <td>...</td>\n",
       "      <td>...</td>\n",
       "    </tr>\n",
       "    <tr>\n",
       "      <th rowspan=\"5\" valign=\"top\">Trend</th>\n",
       "      <th rowspan=\"5\" valign=\"top\">1</th>\n",
       "      <th>4</th>\n",
       "      <td>This dress did not disappoint. it fits great. ...</td>\n",
       "      <td>Trend</td>\n",
       "      <td>1</td>\n",
       "    </tr>\n",
       "    <tr>\n",
       "      <th>5</th>\n",
       "      <td>I love his cardigan! i knew the small would be...</td>\n",
       "      <td>Trend</td>\n",
       "      <td>1</td>\n",
       "    </tr>\n",
       "    <tr>\n",
       "      <th>6</th>\n",
       "      <td>This jacket is a real treasure and i could nev...</td>\n",
       "      <td>Trend</td>\n",
       "      <td>1</td>\n",
       "    </tr>\n",
       "    <tr>\n",
       "      <th>7</th>\n",
       "      <td>I liked this coat but my family said it looked...</td>\n",
       "      <td>Trend</td>\n",
       "      <td>1</td>\n",
       "    </tr>\n",
       "    <tr>\n",
       "      <th>8</th>\n",
       "      <td>This dress is beautiful and unusual. i think t...</td>\n",
       "      <td>Trend</td>\n",
       "      <td>1</td>\n",
       "    </tr>\n",
       "  </tbody>\n",
       "</table>\n",
       "<p>486 rows × 3 columns</p>\n",
       "</div>"
      ],
      "text/plain": [
       "                                                                    review_body  \\\n",
       "product_category sentiment                                                        \n",
       "Blouses          -1        0  As someone with a large chest and a smaller wa...   \n",
       "                           1  But it runs super small. i wear a medium for e...   \n",
       "                           2  I bought this top thinking i would wear this a...   \n",
       "                           3  I saw this very shirt online & thought it was ...   \n",
       "                           4  Material was a tad rough for my liking. the co...   \n",
       "...                                                                         ...   \n",
       "Trend             1        4  This dress did not disappoint. it fits great. ...   \n",
       "                           5  I love his cardigan! i knew the small would be...   \n",
       "                           6  This jacket is a real treasure and i could nev...   \n",
       "                           7  I liked this coat but my family said it looked...   \n",
       "                           8  This dress is beautiful and unusual. i think t...   \n",
       "\n",
       "                             product_category  sentiment  \n",
       "product_category sentiment                                \n",
       "Blouses          -1        0          Blouses         -1  \n",
       "                           1          Blouses         -1  \n",
       "                           2          Blouses         -1  \n",
       "                           3          Blouses         -1  \n",
       "                           4          Blouses         -1  \n",
       "...                                       ...        ...  \n",
       "Trend             1        4            Trend          1  \n",
       "                           5            Trend          1  \n",
       "                           6            Trend          1  \n",
       "                           7            Trend          1  \n",
       "                           8            Trend          1  \n",
       "\n",
       "[486 rows x 3 columns]"
      ]
     },
     "execution_count": 43,
     "metadata": {},
     "output_type": "execute_result"
    }
   ],
   "source": [
    "# Balance the dataset by product_category and sentiment\n",
    "data_prod_sent = data.groupby(['product_category', 'sentiment'])\n",
    "data_balanced = data_prod_sent.apply(lambda x: x.sample(data_prod_sent.size().min()).reset_index(drop= True))\n",
    "data_balanced"
   ]
  },
  {
   "cell_type": "code",
   "execution_count": 31,
   "id": "81b75621",
   "metadata": {},
   "outputs": [
    {
     "data": {
      "text/plain": [
       "<matplotlib.legend.Legend at 0x7fbb417ca580>"
      ]
     },
     "execution_count": 31,
     "metadata": {},
     "output_type": "execute_result"
    },
    {
     "data": {
      "image/png": "[encoded data removed]",
      "text/plain": [
       "<Figure size 1008x504 with 1 Axes>"
      ]
     },
     "metadata": {
      "needs_background": "light"
     },
     "output_type": "display_data"
    }
   ],
   "source": [
    "plt.figure(figsize = (14,7))\n",
    "sns.countplot(data = data_balanced, x = 'sentiment', hue = 'product_category')\n",
    "plt.legend(loc = 'upper right', bbox_to_anchor = (1.3,1.1))"
   ]
  },
  {
   "attachments": {},
   "cell_type": "markdown",
   "id": "eb01070d",
   "metadata": {},
   "source": [
    "We now have a balanced dataset with each product category containing the same amount of reviews belonging in each of the sentiment classes."
   ]
  },
  {
   "cell_type": "code",
   "execution_count": 32,
   "id": "ca9e46eb",
   "metadata": {},
   "outputs": [],
   "source": [
    "reviews = data_balanced.review_body.values.tolist()\n",
    "sentiments = data_balanced.sentiment.values.tolist()\n",
    "\n",
    "df = pd.DataFrame(list(zip(sentiments, reviews)),\n",
    "                 columns = ['sentiment', 'review_body'])"
   ]
  },
  {
   "cell_type": "code",
   "execution_count": 33,
   "id": "89f11c3c",
   "metadata": {},
   "outputs": [],
   "source": [
    "df = df.sample(frac = 1).reset_index(drop = True)"
   ]
  },
  {
   "attachments": {},
   "cell_type": "markdown",
   "id": "0325f79e",
   "metadata": {},
   "source": [
    "# Data Transformation"
   ]
  },
  {
   "cell_type": "code",
   "execution_count": 34,
   "id": "b098f94e",
   "metadata": {},
   "outputs": [
    {
     "data": {
      "text/html": [
       "<div>\n",
       "<style scoped>\n",
       "    .dataframe tbody tr th:only-of-type {\n",
       "        vertical-align: middle;\n",
       "    }\n",
       "\n",
       "    .dataframe tbody tr th {\n",
       "        vertical-align: top;\n",
       "    }\n",
       "\n",
       "    .dataframe thead th {\n",
       "        text-align: right;\n",
       "    }\n",
       "</style>\n",
       "<table border=\"1\" class=\"dataframe\">\n",
       "  <thead>\n",
       "    <tr style=\"text-align: right;\">\n",
       "      <th></th>\n",
       "      <th>sentiment</th>\n",
       "      <th>review_body</th>\n",
       "    </tr>\n",
       "  </thead>\n",
       "  <tbody>\n",
       "    <tr>\n",
       "      <th>0</th>\n",
       "      <td>-1</td>\n",
       "      <td>Oh what a disappointment! i was looking forwar...</td>\n",
       "    </tr>\n",
       "    <tr>\n",
       "      <th>1</th>\n",
       "      <td>-1</td>\n",
       "      <td>Very poorly made- wide and short, very unflatt...</td>\n",
       "    </tr>\n",
       "    <tr>\n",
       "      <th>2</th>\n",
       "      <td>0</td>\n",
       "      <td>Not in love with this one. the fabric is thin ...</td>\n",
       "    </tr>\n",
       "    <tr>\n",
       "      <th>3</th>\n",
       "      <td>0</td>\n",
       "      <td>I love cashmere, love the length, cowl-neck an...</td>\n",
       "    </tr>\n",
       "    <tr>\n",
       "      <th>4</th>\n",
       "      <td>-1</td>\n",
       "      <td>I bought these last year and loved them, howev...</td>\n",
       "    </tr>\n",
       "  </tbody>\n",
       "</table>\n",
       "</div>"
      ],
      "text/plain": [
       "   sentiment                                        review_body\n",
       "0         -1  Oh what a disappointment! i was looking forwar...\n",
       "1         -1  Very poorly made- wide and short, very unflatt...\n",
       "2          0  Not in love with this one. the fabric is thin ...\n",
       "3          0  I love cashmere, love the length, cowl-neck an...\n",
       "4         -1  I bought these last year and loved them, howev..."
      ]
     },
     "execution_count": 34,
     "metadata": {},
     "output_type": "execute_result"
    }
   ],
   "source": [
    "df.head()"
   ]
  },
  {
   "attachments": {},
   "cell_type": "markdown",
   "id": "27493aa5",
   "metadata": {},
   "source": [
    "### Transform Data for BlazingText"
   ]
  },
  {
   "cell_type": "code",
   "execution_count": 57,
   "id": "b3d5d080",
   "metadata": {},
   "outputs": [
    {
     "name": "stderr",
     "output_type": "stream",
     "text": [
      "[nltk_data] Downloading package punkt to /home/ec2-user/nltk_data...\n",
      "[nltk_data]   Unzipping tokenizers/punkt.zip.\n"
     ]
    },
    {
     "data": {
      "text/plain": [
       "True"
      ]
     },
     "execution_count": 57,
     "metadata": {},
     "output_type": "execute_result"
    }
   ],
   "source": [
    "# Transform the data for BlazingText\n",
    "import nltk\n",
    "nltk.download('punkt')"
   ]
  },
  {
   "attachments": {},
   "cell_type": "markdown",
   "id": "7cf170e0",
   "metadata": {},
   "source": [
    "BlazingText requires the data to be in a specific format. The format that blazing looks for is:\n",
    "\n",
    "__label__0 \"this is ok\"\n",
    "\n",
    "__label__1 \"this is great\"\n",
    "\n",
    "Sentiment is one of three classes: negative (-1), neutral (0), or positive (1). "
   ]
  },
  {
   "attachments": {},
   "cell_type": "markdown",
   "id": "1a9048bd",
   "metadata": {},
   "source": [
    "We will tokenize the review_body with nltk for the model training."
   ]
  },
  {
   "cell_type": "code",
   "execution_count": 58,
   "id": "b504bcd5",
   "metadata": {},
   "outputs": [],
   "source": [
    "def tokenize(review):\n",
    "    tokenized = ' '.join([str(token) for token in nltk.word_tokenize(str(review).replace(',', '').replace('\"','').lower())])\n",
    "    return tokenized\n",
    "\n",
    "def transform_data(df):\n",
    "    df['sentiment'] = df['sentiment'].map(lambda sentiment: '__label__{}'.format(str(sentiment).replace('__label__', '')))\n",
    "    df['review_body'] = df['review_body'].map(lambda review: tokenize(review))\n",
    "    return df"
   ]
  },
  {
   "cell_type": "code",
   "execution_count": 59,
   "id": "d46c28ff",
   "metadata": {},
   "outputs": [
    {
     "data": {
      "text/html": [
       "<div>\n",
       "<style scoped>\n",
       "    .dataframe tbody tr th:only-of-type {\n",
       "        vertical-align: middle;\n",
       "    }\n",
       "\n",
       "    .dataframe tbody tr th {\n",
       "        vertical-align: top;\n",
       "    }\n",
       "\n",
       "    .dataframe thead th {\n",
       "        text-align: right;\n",
       "    }\n",
       "</style>\n",
       "<table border=\"1\" class=\"dataframe\">\n",
       "  <thead>\n",
       "    <tr style=\"text-align: right;\">\n",
       "      <th></th>\n",
       "      <th>sentiment</th>\n",
       "      <th>review_body</th>\n",
       "    </tr>\n",
       "  </thead>\n",
       "  <tbody>\n",
       "    <tr>\n",
       "      <th>0</th>\n",
       "      <td>__label__-1</td>\n",
       "      <td>oh what a disappointment ! i was looking forwa...</td>\n",
       "    </tr>\n",
       "    <tr>\n",
       "      <th>1</th>\n",
       "      <td>__label__-1</td>\n",
       "      <td>very poorly made- wide and short very unflatte...</td>\n",
       "    </tr>\n",
       "    <tr>\n",
       "      <th>2</th>\n",
       "      <td>__label__0</td>\n",
       "      <td>not in love with this one . the fabric is thin...</td>\n",
       "    </tr>\n",
       "    <tr>\n",
       "      <th>3</th>\n",
       "      <td>__label__0</td>\n",
       "      <td>i love cashmere love the length cowl-neck and ...</td>\n",
       "    </tr>\n",
       "    <tr>\n",
       "      <th>4</th>\n",
       "      <td>__label__-1</td>\n",
       "      <td>i bought these last year and loved them howeve...</td>\n",
       "    </tr>\n",
       "  </tbody>\n",
       "</table>\n",
       "</div>"
      ],
      "text/plain": [
       "     sentiment                                        review_body\n",
       "0  __label__-1  oh what a disappointment ! i was looking forwa...\n",
       "1  __label__-1  very poorly made- wide and short very unflatte...\n",
       "2   __label__0  not in love with this one . the fabric is thin...\n",
       "3   __label__0  i love cashmere love the length cowl-neck and ...\n",
       "4  __label__-1  i bought these last year and loved them howeve..."
      ]
     },
     "execution_count": 59,
     "metadata": {},
     "output_type": "execute_result"
    }
   ],
   "source": [
    "df_blazing_text = transform_data(df)\n",
    "df_blazing_text.head()"
   ]
  },
  {
   "attachments": {},
   "cell_type": "markdown",
   "id": "7158316e",
   "metadata": {},
   "source": [
    "### Split data into training and validation sets"
   ]
  },
  {
   "cell_type": "code",
   "execution_count": 60,
   "id": "5508b1ff",
   "metadata": {},
   "outputs": [],
   "source": [
    "# Split data into train and validation set\n",
    "from sklearn.model_selection import train_test_split\n",
    "\n",
    "X_train, y_val = train_test_split(df_blazing_text,\n",
    "                                 test_size= 0.10,\n",
    "                                 stratify = df_blazing_text['sentiment'])"
   ]
  },
  {
   "attachments": {},
   "cell_type": "markdown",
   "id": "a14c130d",
   "metadata": {},
   "source": [
    "Save the training and validation sets as CSV files."
   ]
  },
  {
   "cell_type": "code",
   "execution_count": 62,
   "id": "5a8264b7",
   "metadata": {},
   "outputs": [],
   "source": [
    "# Save train and validation set into csv files\n",
    "training_data_path = 'data/train.csv'\n",
    "validation_data_path = 'data/validation.csv'\n",
    "\n",
    "X_train[['sentiment', 'review_body']].to_csv(training_data_path, index = False, header = False, sep = ' ')\n",
    "y_val[['sentiment', 'review_body']].to_csv(validation_data_path, index=False, header=False, sep=' ')"
   ]
  },
  {
   "cell_type": "code",
   "execution_count": 54,
   "id": "2d3863b5",
   "metadata": {},
   "outputs": [],
   "source": [
    "#!pip install sagemaker -U"
   ]
  },
  {
   "cell_type": "code",
   "execution_count": 37,
   "id": "8a37f941",
   "metadata": {},
   "outputs": [],
   "source": [
    "import boto3\n",
    "import botocore\n",
    "import sagemaker\n",
    "\n",
    "\n",
    "sagemaker_session = sagemaker.Session()\n",
    "bucket = 'zkcawsbucket'\n",
    "prefix = 'blazingText'\n",
    "\n",
    "role = sagemaker.get_execution_role()"
   ]
  },
  {
   "attachments": {},
   "cell_type": "markdown",
   "id": "005a60cb",
   "metadata": {},
   "source": [
    "# Upload data to S3 Bucket"
   ]
  },
  {
   "attachments": {},
   "cell_type": "markdown",
   "id": "da6b2da1",
   "metadata": {},
   "source": [
    "Upload training and validation set to S3 bucket. These will be used to train and validate the model."
   ]
  },
  {
   "cell_type": "code",
   "execution_count": 63,
   "id": "c6fe1196",
   "metadata": {},
   "outputs": [
    {
     "name": "stdout",
     "output_type": "stream",
     "text": [
      "s3://zkcawsbucket/blazingText/train/train.csv\n",
      "s3://zkcawsbucket/blazingText/validation/validation.csv\n"
     ]
    }
   ],
   "source": [
    "# Upload training and validation data to S3 bucket\n",
    "s3_blazingText_train = sagemaker_session.upload_data(bucket = bucket, key_prefix = 'blazingText/train', path = training_data_path)\n",
    "s3_blazingText_validation = sagemaker_session.upload_data(bucket = bucket, key_prefix = 'blazingText/validation', path = validation_data_path)\n",
    "print(s3_blazingText_train)\n",
    "print(s3_blazingText_validation)\n"
   ]
  },
  {
   "attachments": {},
   "cell_type": "markdown",
   "id": "1446c3db",
   "metadata": {},
   "source": [
    "We will be creating an output location in S3. This will be where the model artifact will go to."
   ]
  },
  {
   "cell_type": "code",
   "execution_count": 56,
   "id": "bd5f6669",
   "metadata": {},
   "outputs": [
    {
     "name": "stdout",
     "output_type": "stream",
     "text": [
      "Training Artifacts will be uploaded to: s3://zkcawsbucket/autopilot/output\n"
     ]
    }
   ],
   "source": [
    "# Create output placeholder in S3 bucket to store outputs\n",
    "output_location = 's3://{}/{}/output'.format(bucket, prefix)\n",
    "print('Training Artifacts will be uploaded to: {}'.format(output_location))"
   ]
  },
  {
   "attachments": {},
   "cell_type": "markdown",
   "id": "eb1f6c9c",
   "metadata": {},
   "source": [
    "# Train BlazingText Model"
   ]
  },
  {
   "attachments": {},
   "cell_type": "markdown",
   "id": "16ddb609",
   "metadata": {},
   "source": [
    "Setup the container image to use for training with the BlazingText algorithm"
   ]
  },
  {
   "cell_type": "code",
   "execution_count": 64,
   "id": "9996eff6",
   "metadata": {},
   "outputs": [],
   "source": [
    "from sagemaker.amazon.amazon_estimator import get_image_uri\n",
    "\n",
    "container = sagemaker.image_uris.retrieve(region = boto3.Session().region_name, framework = 'blazingtext')"
   ]
  },
  {
   "attachments": {},
   "cell_type": "markdown",
   "id": "8a895e20",
   "metadata": {},
   "source": [
    "Set up the BlazingText model and configure the hyper-parameters for BlazingText."
   ]
  },
  {
   "cell_type": "code",
   "execution_count": 68,
   "id": "d373fec6",
   "metadata": {},
   "outputs": [],
   "source": [
    "blazing_text = sagemaker.estimator.Estimator(\n",
    "    image_uri=container,\n",
    "    role=role,\n",
    "    instance_count=1,\n",
    "    instance_type = 'ml.m5.large',\n",
    "    volume_size = 30,\n",
    "    max_run = 7200,\n",
    "    sagemaker_session = sagemaker_session,\n",
    "    output_path = output_location\n",
    ")\n",
    "\n",
    "\n",
    "\n",
    "blazing_text.set_hyperparameters(mode = 'supervised',\n",
    "                                 epochs = 10,\n",
    "                                 learning_rate = 0.01,\n",
    "                                 min_count = 2,\n",
    "                                 vector_dim = 300,\n",
    "                                 word_ngrams = 3)"
   ]
  },
  {
   "attachments": {},
   "cell_type": "markdown",
   "id": "524dc8c0",
   "metadata": {},
   "source": [
    "### Creating Traning and Validation Channels to feed model"
   ]
  },
  {
   "cell_type": "code",
   "execution_count": 69,
   "id": "8183d10d",
   "metadata": {},
   "outputs": [],
   "source": [
    "# Creating training and validation channels\n",
    "train_input = sagemaker.inputs.TrainingInput(s3_blazingText_train, \n",
    "                                             distribution = 'FullyReplicated', \n",
    "                                             content_type = 'text/plain',\n",
    "                                             s3_data_type = 'S3Prefix'\n",
    "                                            )\n",
    "\n",
    "validation_input = sagemaker.inputs.TrainingInput(s3_blazingText_validation,\n",
    "                                                  distribution = 'FullyReplicated',\n",
    "                                                  content_type = 'text/plain',\n",
    "                                                  s3_data_type = 'S3Prefix'\n",
    "                                                 )\n",
    "\n",
    "data_channels = {'train': train_input,\n",
    "                 'validation': validation_input\n",
    "                }"
   ]
  },
  {
   "attachments": {},
   "cell_type": "markdown",
   "id": "9a2cd2fe",
   "metadata": {},
   "source": [
    "### Fit BlazingText Model"
   ]
  },
  {
   "cell_type": "code",
   "execution_count": 72,
   "id": "2e6d8047",
   "metadata": {},
   "outputs": [
    {
     "name": "stderr",
     "output_type": "stream",
     "text": [
      "INFO:sagemaker:Creating training-job with name: blazingtext-2022-12-28-19-32-11-410\n"
     ]
    },
    {
     "name": "stdout",
     "output_type": "stream",
     "text": [
      "Training Job Name:  blazingtext-2022-12-28-19-32-11-410\n"
     ]
    }
   ],
   "source": [
    "# Fit the BlazingText Model\n",
    "blazing_text.fit(inputs = data_channels, wait = False)\n",
    "\n",
    "training_job_name = blazing_text.latest_training_job.name\n",
    "print('Training Job Name:  {}'.format(training_job_name))"
   ]
  },
  {
   "cell_type": "code",
   "execution_count": 74,
   "id": "481a0a6e",
   "metadata": {},
   "outputs": [
    {
     "name": "stdout",
     "output_type": "stream",
     "text": [
      "\n",
      "2022-12-28 19:32:27 Starting - Preparing the instances for training....\n",
      "2022-12-28 19:33:34 Downloading - Downloading input data....\n",
      "2022-12-28 19:33:59 Training - Downloading the training image.\n",
      "2022-12-28 19:34:09 Training - Training image download completed. Training in progress......\n",
      "2022-12-28 19:34:40 Uploading - Uploading generated training model...........................................................\n",
      "2022-12-28 19:39:46 Completed - Training job completed\n",
      "CPU times: user 360 ms, sys: 22.6 ms, total: 383 ms\n",
      "Wall time: 6min 33s\n"
     ]
    }
   ],
   "source": [
    "%%time \n",
    "\n",
    "blazing_text.latest_training_job.wait(logs=False)"
   ]
  },
  {
   "attachments": {},
   "cell_type": "markdown",
   "id": "a17e9e7c",
   "metadata": {},
   "source": [
    "### Review the train and validation accuracy"
   ]
  },
  {
   "cell_type": "code",
   "execution_count": 75,
   "id": "f192fa99",
   "metadata": {},
   "outputs": [
    {
     "name": "stderr",
     "output_type": "stream",
     "text": [
      "WARNING:sagemaker.analytics:Warning: No metrics called train:mean_rho found\n"
     ]
    },
    {
     "data": {
      "text/html": [
       "<div>\n",
       "<style scoped>\n",
       "    .dataframe tbody tr th:only-of-type {\n",
       "        vertical-align: middle;\n",
       "    }\n",
       "\n",
       "    .dataframe tbody tr th {\n",
       "        vertical-align: top;\n",
       "    }\n",
       "\n",
       "    .dataframe thead th {\n",
       "        text-align: right;\n",
       "    }\n",
       "</style>\n",
       "<table border=\"1\" class=\"dataframe\">\n",
       "  <thead>\n",
       "    <tr style=\"text-align: right;\">\n",
       "      <th></th>\n",
       "      <th>timestamp</th>\n",
       "      <th>metric_name</th>\n",
       "      <th>value</th>\n",
       "    </tr>\n",
       "  </thead>\n",
       "  <tbody>\n",
       "    <tr>\n",
       "      <th>0</th>\n",
       "      <td>0.0</td>\n",
       "      <td>train:accuracy</td>\n",
       "      <td>0.6289</td>\n",
       "    </tr>\n",
       "    <tr>\n",
       "      <th>1</th>\n",
       "      <td>0.0</td>\n",
       "      <td>validation:accuracy</td>\n",
       "      <td>0.4600</td>\n",
       "    </tr>\n",
       "  </tbody>\n",
       "</table>\n",
       "</div>"
      ],
      "text/plain": [
       "   timestamp          metric_name   value\n",
       "0        0.0       train:accuracy  0.6289\n",
       "1        0.0  validation:accuracy  0.4600"
      ]
     },
     "execution_count": 75,
     "metadata": {},
     "output_type": "execute_result"
    }
   ],
   "source": [
    "blazing_text.training_job_analytics.dataframe()"
   ]
  },
  {
   "attachments": {},
   "cell_type": "markdown",
   "id": "f70c3e68",
   "metadata": {},
   "source": [
    "Model is overfitting and the accuracy isn't the greatest. However, the purpose of this notebook isn't to fit the best model, it is to learn how to train and deploy a SageMaker built-in algorithm. If we wanted to find the optimal model we can run a hyperparamter tuning job to find the most optimal hyperparameters."
   ]
  },
  {
   "attachments": {},
   "cell_type": "markdown",
   "id": "e483eef3",
   "metadata": {},
   "source": [
    "# Deploy Model"
   ]
  },
  {
   "attachments": {},
   "cell_type": "markdown",
   "id": "cdfa4c19",
   "metadata": {},
   "source": [
    "Deploy the trained model as an Endpoint."
   ]
  },
  {
   "cell_type": "code",
   "execution_count": 76,
   "id": "7ad9060f",
   "metadata": {},
   "outputs": [
    {
     "name": "stderr",
     "output_type": "stream",
     "text": [
      "INFO:sagemaker:Creating model with name: blazingtext-2022-12-28-19-46-34-605\n",
      "INFO:sagemaker:Creating endpoint-config with name blazingtext-2022-12-28-19-46-34-605\n",
      "INFO:sagemaker:Creating endpoint with name blazingtext-2022-12-28-19-46-34-605\n"
     ]
    },
    {
     "name": "stdout",
     "output_type": "stream",
     "text": [
      "-----!Endpoint name:  blazingtext-2022-12-28-19-46-34-605\n"
     ]
    }
   ],
   "source": [
    "# Deploy model\n",
    "serializer = sagemaker.serializers.JSONSerializer()\n",
    "deserializer = sagemaker.deserializers.JSONDeserializer()\n",
    "\n",
    "classifier = blazing_text.deploy(initial_instance_count = 1,\n",
    "                                 instance_type = 'ml.m5.large',\n",
    "                                 serializer = serializer,\n",
    "                                 deserializer = deserializer)\n",
    "\n",
    "print('Endpoint name:  {}'.format(classifier.endpoint_name))"
   ]
  },
  {
   "attachments": {},
   "cell_type": "markdown",
   "id": "f8ff5081",
   "metadata": {},
   "source": [
    "# Make Predictions"
   ]
  },
  {
   "cell_type": "code",
   "execution_count": 79,
   "id": "d53e26e2",
   "metadata": {},
   "outputs": [
    {
     "name": "stdout",
     "output_type": "stream",
     "text": [
      "{'instances': ['This product is great !', 'Ok , but not great', 'This is not the right product .']}\n"
     ]
    }
   ],
   "source": [
    "# Test Model\n",
    "test_reviews = ['This product is great!', 'Ok, but not great', 'This is not the right product.']\n",
    "\n",
    "tokenized_reviews = [' '.join(nltk.word_tokenize(review)) for review in test_reviews]\n",
    "\n",
    "payload = {'instances': tokenized_reviews}\n",
    "print(payload)"
   ]
  },
  {
   "cell_type": "code",
   "execution_count": 80,
   "id": "f69fe1fe",
   "metadata": {},
   "outputs": [
    {
     "name": "stdout",
     "output_type": "stream",
     "text": [
      "Predicted Class: 1\n",
      "Predicted Class: 0\n",
      "Predicted Class: 0\n"
     ]
    }
   ],
   "source": [
    "predictions = classifier.predict(data = payload)\n",
    "for prediction in predictions:\n",
    "    print('Predicted Class: {}'.format(prediction['label'][0].lstrip('__label__')))"
   ]
  },
  {
   "cell_type": "code",
   "execution_count": 81,
   "id": "4de06a40",
   "metadata": {},
   "outputs": [
    {
     "name": "stderr",
     "output_type": "stream",
     "text": [
      "INFO:sagemaker:Deleting endpoint configuration with name: blazingtext-2022-12-28-19-46-34-605\n",
      "INFO:sagemaker:Deleting endpoint with name: blazingtext-2022-12-28-19-46-34-605\n"
     ]
    }
   ],
   "source": [
    "classifier.delete_endpoint()"
   ]
  },
  {
   "cell_type": "code",
   "execution_count": null,
   "id": "217f83da",
   "metadata": {},
   "outputs": [],
   "source": []
  }
 ],
 "metadata": {
  "kernelspec": {
   "display_name": "conda_python3",
   "language": "python",
   "name": "conda_python3"
  },
  "language_info": {
   "codemirror_mode": {
    "name": "ipython",
    "version": 3
   },
   "file_extension": ".py",
   "mimetype": "text/x-python",
   "name": "python",
   "nbconvert_exporter": "python",
   "pygments_lexer": "ipython3",
   "version": "3.8.12"
  }
 },
 "nbformat": 4,
 "nbformat_minor": 5
}
