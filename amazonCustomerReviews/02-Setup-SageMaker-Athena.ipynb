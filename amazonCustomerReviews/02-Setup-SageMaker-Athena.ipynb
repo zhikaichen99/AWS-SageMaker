{
 "cells": [
  {
   "cell_type": "markdown",
   "id": "5c35a636",
   "metadata": {},
   "source": [
    "# Set up Athena"
   ]
  },
  {
   "cell_type": "code",
   "execution_count": 3,
   "id": "d6e64c2f",
   "metadata": {},
   "outputs": [],
   "source": [
    "import io\n",
    "import boto3\n",
    "import sagemaker\n",
    "import json\n",
    "import os\n",
    "import pandas"
   ]
  },
  {
   "cell_type": "code",
   "execution_count": 4,
   "id": "d09dfffc",
   "metadata": {},
   "outputs": [],
   "source": [
    "# Create sagemaker session\n",
    "sagemaker_session = sagemaker.Session()\n",
    "bucket = 'datascienceaws'\n",
    "iam = boto3.client('iam')\n",
    "role = sagemaker.get_execution_role()\n",
    "role_name = role.split('/')[-1]\n",
    "region = boto3.Session().region_name"
   ]
  },
  {
   "cell_type": "code",
   "execution_count": 5,
   "id": "362f308f",
   "metadata": {},
   "outputs": [
    {
     "name": "stdout",
     "output_type": "stream",
     "text": [
      "datascienceaws\n",
      "arn:aws:iam::003294323742:role/service-role/AmazonSageMaker-ExecutionRole-20221228T123920\n",
      "us-east-2\n"
     ]
    }
   ],
   "source": [
    "print(bucket)\n",
    "print(role)\n",
    "print(region)"
   ]
  },
  {
   "cell_type": "markdown",
   "id": "59d29313",
   "metadata": {},
   "source": [
    "# Attach and Verify Policies"
   ]
  },
  {
   "cell_type": "markdown",
   "id": "8a50794a",
   "metadata": {},
   "source": [
    "## Set up IAM roles and policies"
   ]
  },
  {
   "cell_type": "code",
   "execution_count": 6,
   "id": "021171e3",
   "metadata": {},
   "outputs": [
    {
     "name": "stdout",
     "output_type": "stream",
     "text": [
      "IAMFullAccessPolicy Already Attached\n"
     ]
    }
   ],
   "source": [
    "# check if IAM policy is attached\n",
    "try:\n",
    "    existing_policies = iam.list_attached_role_policies(RoleName=role_name)[\"AttachedPolicies\"]\n",
    "    if \"IAMFullAccess\" not in [po[\"PolicyName\"] for po in existing_policies]:\n",
    "        print(\n",
    "            \"ERROR: You need to attach the IAMFullAccess policy in order to attach policy to the role\"\n",
    "        )\n",
    "    else:\n",
    "        print(\"IAMFullAccessPolicy Already Attached\")\n",
    "except ClientError as e:\n",
    "    if e.response[\"Error\"][\"Code\"] == \"AccessDenied\":\n",
    "        print(\n",
    "            \"ERROR: You need to attach the IAMFullAccess policy in order to attach policy to the role.\"\n",
    "        )\n",
    "    else:\n",
    "        print(\"Unexpected error: %s\" % e)"
   ]
  },
  {
   "cell_type": "markdown",
   "id": "f5d6b13d",
   "metadata": {},
   "source": [
    "## Create Policy Document"
   ]
  },
  {
   "cell_type": "code",
   "execution_count": 7,
   "id": "ee83e12d",
   "metadata": {},
   "outputs": [],
   "source": [
    "athena_access_role_policy_doc = {\n",
    "    \"Version\": \"2012-10-17\",\n",
    "    \"Statement\": [\n",
    "        {\"Effect\": \"Allow\", \"Action\": [\"athena:*\"], \"Resource\": [\"*\"]},\n",
    "        {\n",
    "            \"Effect\": \"Allow\",\n",
    "            \"Action\": [\n",
    "                \"glue:CreateDatabase\",\n",
    "                \"glue:DeleteDatabase\",\n",
    "                \"glue:GetDatabase\",\n",
    "                \"glue:GetDatabases\",\n",
    "                \"glue:UpdateDatabase\",\n",
    "                \"glue:CreateTable\",\n",
    "                \"glue:DeleteTable\",\n",
    "                \"glue:BatchDeleteTable\",\n",
    "                \"glue:UpdateTable\",\n",
    "                \"glue:GetTable\",\n",
    "                \"glue:GetTables\",\n",
    "                \"glue:BatchCreatePartition\",\n",
    "                \"glue:CreatePartition\",\n",
    "                \"glue:DeletePartition\",\n",
    "                \"glue:BatchDeletePartition\",\n",
    "                \"glue:UpdatePartition\",\n",
    "                \"glue:GetPartition\",\n",
    "                \"glue:GetPartitions\",\n",
    "                \"glue:BatchGetPartition\",\n",
    "            ],\n",
    "            \"Resource\": [\"*\"],\n",
    "        },\n",
    "        {\"Effect\": \"Allow\", \"Action\": [\"lakeformation:GetDataAccess\"], \"Resource\": [\"*\"]},\n",
    "    ],\n",
    "}"
   ]
  },
  {
   "cell_type": "code",
   "execution_count": 8,
   "id": "07154a35",
   "metadata": {},
   "outputs": [],
   "source": [
    "# create IAM client\n",
    "iam = boto3.client(\"iam\")\n",
    "# create a policy\n",
    "try:\n",
    "    response = iam.create_policy(\n",
    "        PolicyName=\"myAthenaPolicy\", PolicyDocument=json.dumps(athena_access_role_policy_doc)\n",
    "    )\n",
    "except ClientError as e:\n",
    "    if e.response[\"Error\"][\"Code\"] == \"EntityAlreadyExists\":\n",
    "        print(\"Policy already created.\")\n",
    "    else:\n",
    "        print(\"Unexpected error: %s\" % e)"
   ]
  },
  {
   "cell_type": "code",
   "execution_count": 9,
   "id": "2830ce35",
   "metadata": {},
   "outputs": [],
   "source": [
    "# get policy ARN\n",
    "sts = boto3.client(\"sts\")\n",
    "account_id = sts.get_caller_identity()[\"Account\"]\n",
    "policy_athena_arn = f\"arn:aws:iam::{account_id}:policy/myAthenaPolicy\""
   ]
  },
  {
   "cell_type": "markdown",
   "id": "75b6ce5e",
   "metadata": {},
   "source": [
    "## Attach Policy to Role"
   ]
  },
  {
   "cell_type": "code",
   "execution_count": 10,
   "id": "f2ea77df",
   "metadata": {},
   "outputs": [],
   "source": [
    "# Attach a role policy\n",
    "try:\n",
    "    response = iam.attach_role_policy(PolicyArn=policy_athena_arn, RoleName=role_name)\n",
    "except ClientError as e:\n",
    "    if e.response[\"Error\"][\"Code\"] == \"EntityAlreadyExists\":\n",
    "        print(\"Policy is already attached to your role.\")\n",
    "    else:\n",
    "        print(\"Unexpected error: %s\" % e)"
   ]
  },
  {
   "cell_type": "code",
   "execution_count": null,
   "id": "e9008034",
   "metadata": {},
   "outputs": [],
   "source": []
  }
 ],
 "metadata": {
  "kernelspec": {
   "display_name": "conda_python3",
   "language": "python",
   "name": "conda_python3"
  },
  "language_info": {
   "codemirror_mode": {
    "name": "ipython",
    "version": 3
   },
   "file_extension": ".py",
   "mimetype": "text/x-python",
   "name": "python",
   "nbconvert_exporter": "python",
   "pygments_lexer": "ipython3",
   "version": "3.8.12"
  }
 },
 "nbformat": 4,
 "nbformat_minor": 5
}
